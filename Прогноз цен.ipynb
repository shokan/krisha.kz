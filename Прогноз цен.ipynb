{
 "cells": [
  {
   "cell_type": "markdown",
   "metadata": {},
   "source": [
    "План\n",
    "* Сбор данных\n",
    " *    этап 1. Сбор ссылок\n",
    " *    этап 2. Извлечение информации \n",
    "* Обработка данных\n",
    " *    Обработка пропусков\n",
    " *    Приведение к единому формату\n",
    "* Разведочный анализ\n",
    "* Моделирование и интерпретация результатов\n",
    " *    Метрики оценки качества модели\n",
    " *    Подгатовка данных к моделированию\n",
    " \n",
    " \n",
    " \n",
    "shokan.iliyas@erg.kz"
   ]
  },
  {
   "cell_type": "code",
   "execution_count": 2,
   "metadata": {
    "ExecuteTime": {
     "end_time": "2020-06-23T06:09:16.661196Z",
     "start_time": "2020-06-23T06:09:13.778770Z"
    }
   },
   "outputs": [],
   "source": [
    "import requests\n",
    "from bs4 import BeautifulSoup\n",
    "from fake_useragent import UserAgent\n",
    "\n",
    "import pandas as pd\n",
    "\n",
    "from tqdm import tqdm_notebook\n",
    "import time\n",
    "import pickle\n",
    "from ftfy import fix_text\n",
    "import math\n",
    "\n",
    "import matplotlib.pyplot as plt\n",
    "import seaborn as sns"
   ]
  },
  {
   "cell_type": "markdown",
   "metadata": {},
   "source": [
    "# Сканирование сайта (сбор ссылок)"
   ]
  },
  {
   "cell_type": "code",
   "execution_count": 3,
   "metadata": {
    "ExecuteTime": {
     "end_time": "2020-06-23T06:09:18.059465Z",
     "start_time": "2020-06-23T06:09:17.704672Z"
    }
   },
   "outputs": [],
   "source": [
    "MAIN_LINK = \"https://krisha.kz\"\n",
    "PAGE_LINK = \"https://krisha.kz/prodazha/kvartiry/astana-esilskij/?das[_sys.hasphoto]=1&das[checked]=1&das[novostroiki]=1&das[who]=1&page=\"\n",
    "\n",
    "response = requests.get(PAGE_LINK, headers={\"User-Agent\": UserAgent().chrome})"
   ]
  },
  {
   "cell_type": "code",
   "execution_count": 5,
   "metadata": {
    "ExecuteTime": {
     "end_time": "2020-06-23T06:10:09.269671Z",
     "start_time": "2020-06-23T06:10:09.266360Z"
    }
   },
   "outputs": [],
   "source": [
    "# response.text"
   ]
  },
  {
   "cell_type": "code",
   "execution_count": 12,
   "metadata": {
    "ExecuteTime": {
     "end_time": "2020-06-23T06:12:31.165685Z",
     "start_time": "2020-06-23T06:12:30.944006Z"
    }
   },
   "outputs": [],
   "source": [
    "soup = BeautifulSoup(response.content, \"html.parser\")\n",
    "# soup\n",
    "link_raw = soup.findAll(\"a\", attrs={\"class\", \"a-card__title\"})\n",
    "# link_raw"
   ]
  },
  {
   "cell_type": "code",
   "execution_count": 10,
   "metadata": {
    "ExecuteTime": {
     "end_time": "2020-06-23T06:12:05.591334Z",
     "start_time": "2020-06-23T06:12:05.164772Z"
    }
   },
   "outputs": [],
   "source": [
    "def _get_soup(some_link):\n",
    "    response = requests.get(some_link, headers={\"User-Agent\": UserAgent().chrome})\n",
    "    soup = BeautifulSoup(response.content, \"html.parser\")\n",
    "    return soup\n",
    "\n",
    "soup = _get_soup(PAGE_LINK + str(3))\n",
    "soup"
   ]
  },
  {
   "cell_type": "code",
   "execution_count": 13,
   "metadata": {
    "ExecuteTime": {
     "end_time": "2020-06-23T06:12:38.078474Z",
     "start_time": "2020-06-23T06:12:38.074219Z"
    }
   },
   "outputs": [],
   "source": [
    "def get_link(page_number):\n",
    "    soup = _get_soup(PAGE_LINK + str(page_number))\n",
    "    link_raw = soup.findAll(\"a\", attrs={\"class\", \"a-card__title\"})\n",
    "    links = [i[\"href\"] for i in link_raw]\n",
    "    return links"
   ]
  },
  {
   "cell_type": "code",
   "execution_count": 15,
   "metadata": {
    "ExecuteTime": {
     "end_time": "2020-06-23T06:12:58.172769Z",
     "start_time": "2020-06-23T06:12:58.170043Z"
    }
   },
   "outputs": [],
   "source": [
    "# get_link(4)"
   ]
  },
  {
   "cell_type": "markdown",
   "metadata": {},
   "source": [
    "# Запуск"
   ]
  },
  {
   "cell_type": "code",
   "execution_count": 17,
   "metadata": {
    "ExecuteTime": {
     "end_time": "2020-06-23T06:13:29.013762Z",
     "start_time": "2020-06-23T06:13:29.010099Z"
    }
   },
   "outputs": [],
   "source": [
    "# TOTAL_PAGE_NUMBER = 533\n",
    "\n",
    "# all_links = []\n",
    "# for i in range(TOTAL_PAGE_NUMBER):\n",
    "#     links = get_link(i)\n",
    "#     all_links.append(links)"
   ]
  },
  {
   "cell_type": "code",
   "execution_count": 18,
   "metadata": {
    "ExecuteTime": {
     "end_time": "2020-06-23T06:13:36.019351Z",
     "start_time": "2020-06-23T06:13:36.010488Z"
    }
   },
   "outputs": [],
   "source": [
    "with open('all_links.pkl', 'rb') as f:\n",
    "    all_links = pickle.load(f)"
   ]
  },
  {
   "cell_type": "code",
   "execution_count": 22,
   "metadata": {
    "ExecuteTime": {
     "end_time": "2020-06-23T06:14:08.054034Z",
     "start_time": "2020-06-23T06:14:08.049789Z"
    }
   },
   "outputs": [],
   "source": [
    "# (all_links)"
   ]
  },
  {
   "cell_type": "markdown",
   "metadata": {},
   "source": [
    "# Извлечение информации"
   ]
  },
  {
   "cell_type": "code",
   "execution_count": 23,
   "metadata": {
    "ExecuteTime": {
     "end_time": "2020-06-23T06:14:20.063086Z",
     "start_time": "2020-06-23T06:14:19.785591Z"
    }
   },
   "outputs": [],
   "source": [
    "main_soup = _get_soup(\"https://krisha.kz/a/show/57859710\")"
   ]
  },
  {
   "cell_type": "code",
   "execution_count": 16,
   "metadata": {
    "ExecuteTime": {
     "end_time": "2020-06-23T05:04:54.231883Z",
     "start_time": "2020-06-23T05:04:54.229214Z"
    }
   },
   "outputs": [],
   "source": [
    "main_soup.find(\"div\", attrs={'class': 'offer__price'}).text"
   ]
  },
  {
   "cell_type": "markdown",
   "metadata": {},
   "source": [
    "## _get_price"
   ]
  },
  {
   "cell_type": "code",
   "execution_count": 25,
   "metadata": {
    "ExecuteTime": {
     "end_time": "2020-06-23T06:16:50.030767Z",
     "start_time": "2020-06-23T06:16:50.019331Z"
    }
   },
   "outputs": [
    {
     "data": {
      "text/plain": [
       "13000000"
      ]
     },
     "execution_count": 25,
     "metadata": {},
     "output_type": "execute_result"
    }
   ],
   "source": [
    "def _get_price(main_soup):\n",
    "    try:\n",
    "        price = main_soup.find(\"div\", attrs={'class': 'offer__price'}).text\n",
    "        price = fix_text(price, normalization='NFKC')\n",
    "        price = price.replace(\"〒\", \"\").strip()\n",
    "        price = price.replace(\" \", \"\").strip()\n",
    "        price = int(price)\n",
    "    except:\n",
    "        price = np.nan\n",
    "    return price\n",
    "\n",
    "_get_price(main_soup)"
   ]
  },
  {
   "cell_type": "markdown",
   "metadata": {},
   "source": [
    "## _get_rooms"
   ]
  },
  {
   "cell_type": "code",
   "execution_count": 26,
   "metadata": {
    "ExecuteTime": {
     "end_time": "2020-06-23T06:16:56.430587Z",
     "start_time": "2020-06-23T06:16:56.418634Z"
    }
   },
   "outputs": [
    {
     "data": {
      "text/plain": [
       "3"
      ]
     },
     "execution_count": 26,
     "metadata": {},
     "output_type": "execute_result"
    }
   ],
   "source": [
    "def _get_rooms(main_soup):\n",
    "    try:\n",
    "        tittle = main_soup.find(\"h1\")\n",
    "        tittle = tittle.text.strip()\n",
    "        tittle = tittle.split(\",\")[0]\n",
    "        tittle = tittle.replace(\"-комнатная квартира\", \"\")\n",
    "        tittle = int(tittle)\n",
    "    except:\n",
    "        tittle = np.nan\n",
    "    return tittle\n",
    "\n",
    "_get_rooms(main_soup)"
   ]
  },
  {
   "cell_type": "markdown",
   "metadata": {},
   "source": [
    "## _get_house_name"
   ]
  },
  {
   "cell_type": "code",
   "execution_count": 27,
   "metadata": {
    "ExecuteTime": {
     "end_time": "2020-06-23T06:17:01.131948Z",
     "start_time": "2020-06-23T06:17:01.120077Z"
    }
   },
   "outputs": [
    {
     "data": {
      "text/plain": [
       "nan"
      ]
     },
     "execution_count": 27,
     "metadata": {},
     "output_type": "execute_result"
    }
   ],
   "source": [
    "def _get_house_name(main_soup):\n",
    "    try:\n",
    "        house_name = main_soup.find(\"div\", attrs={'data-name': 'map.complex'})\n",
    "        house_name = house_name.text.replace(\"Жилой комплекс\", \"\").strip()\n",
    "    except:\n",
    "        house_name = np.nan\n",
    "    return house_name\n",
    "\n",
    "_get_house_name(main_soup)"
   ]
  },
  {
   "cell_type": "markdown",
   "metadata": {},
   "source": [
    "## _get_square"
   ]
  },
  {
   "cell_type": "code",
   "execution_count": 28,
   "metadata": {
    "ExecuteTime": {
     "end_time": "2020-06-23T06:17:10.700845Z",
     "start_time": "2020-06-23T06:17:10.692847Z"
    }
   },
   "outputs": [
    {
     "data": {
      "text/plain": [
       "[60, 6]"
      ]
     },
     "execution_count": 28,
     "metadata": {},
     "output_type": "execute_result"
    }
   ],
   "source": [
    "def _get_square(main_soup):\n",
    "    try:\n",
    "        square = main_soup.find(\"div\", {\"data-name\": \"live.square\"}).text\n",
    "        square = [int(s) for s in square.split() if s.isdigit()]\n",
    "    except:\n",
    "        square = np.nan\n",
    "    \n",
    "    return square\n",
    "\n",
    "_get_square(main_soup)"
   ]
  },
  {
   "cell_type": "markdown",
   "metadata": {},
   "source": [
    "## _get_ceiling"
   ]
  },
  {
   "cell_type": "code",
   "execution_count": 29,
   "metadata": {
    "ExecuteTime": {
     "end_time": "2020-06-23T06:17:22.317349Z",
     "start_time": "2020-06-23T06:17:22.304167Z"
    }
   },
   "outputs": [
    {
     "data": {
      "text/plain": [
       "nan"
      ]
     },
     "execution_count": 29,
     "metadata": {},
     "output_type": "execute_result"
    }
   ],
   "source": [
    "def _get_ceiling(main_soup):\n",
    "    try:\n",
    "        ceiling = main_soup.find(\"div\", {\"data-name\": \"ceiling\"})\n",
    "        ceiling = ceiling.text.replace(\"Потолки\", \"\").replace(\"м\", \"\").strip()\n",
    "        ceiling = int(ceiling)\n",
    "    except:\n",
    "        ceiling = np.nan\n",
    "    return ceiling\n",
    "\n",
    "_get_ceiling(main_soup)"
   ]
  },
  {
   "cell_type": "markdown",
   "metadata": {},
   "source": [
    "## _get_year_built"
   ]
  },
  {
   "cell_type": "code",
   "execution_count": 30,
   "metadata": {
    "ExecuteTime": {
     "end_time": "2020-06-23T06:17:47.090151Z",
     "start_time": "2020-06-23T06:17:47.059828Z"
    }
   },
   "outputs": [
    {
     "data": {
      "text/plain": [
       "1975"
      ]
     },
     "execution_count": 30,
     "metadata": {},
     "output_type": "execute_result"
    }
   ],
   "source": [
    "def _get_year_built(main_soup):\n",
    "    try:\n",
    "        year_built = main_soup.find(\"div\", {\"data-name\": \"flat.building\"}).text\n",
    "        year_built = [int(s) for s in year_built.split() if s.isdigit()][0]\n",
    "    except:\n",
    "        year_built = np.nan\n",
    "    return year_built\n",
    "\n",
    "_get_year_built(main_soup)"
   ]
  },
  {
   "cell_type": "markdown",
   "metadata": {},
   "source": [
    "## _get_floor"
   ]
  },
  {
   "cell_type": "code",
   "execution_count": 31,
   "metadata": {
    "ExecuteTime": {
     "end_time": "2020-06-23T06:17:51.329734Z",
     "start_time": "2020-06-23T06:17:51.319381Z"
    }
   },
   "outputs": [
    {
     "data": {
      "text/plain": [
       "['3', '5']"
      ]
     },
     "execution_count": 31,
     "metadata": {},
     "output_type": "execute_result"
    }
   ],
   "source": [
    "def _get_floor(main_soup):\n",
    "    try:\n",
    "        floor = main_soup.find(\"div\", {\"data-name\": \"flat.floor\"})\n",
    "        floor = floor.text.replace(\"Этаж\", \"\").strip().split(\" из \")\n",
    "    except:\n",
    "        floor = np.nan\n",
    "        \n",
    "    return floor\n",
    "\n",
    "_get_floor(main_soup)"
   ]
  },
  {
   "cell_type": "markdown",
   "metadata": {},
   "source": [
    "## _get_renovation"
   ]
  },
  {
   "cell_type": "code",
   "execution_count": 32,
   "metadata": {
    "ExecuteTime": {
     "end_time": "2020-06-23T06:17:59.599168Z",
     "start_time": "2020-06-23T06:17:59.579418Z"
    }
   },
   "outputs": [
    {
     "data": {
      "text/plain": [
       "'среднее'"
      ]
     },
     "execution_count": 32,
     "metadata": {},
     "output_type": "execute_result"
    }
   ],
   "source": [
    "def _get_renovation(main_soup):\n",
    "    try:\n",
    "        renovation = main_soup.find(\"div\", {\"data-name\": \"flat.renovation\"})\n",
    "        renovation = renovation.text.replace(\"Состояние\", \"\").strip()\n",
    "    except:\n",
    "        renovation = np.nan\n",
    "    return renovation\n",
    "\n",
    "_get_renovation(main_soup)"
   ]
  },
  {
   "cell_type": "markdown",
   "metadata": {},
   "source": [
    "# Объединение"
   ]
  },
  {
   "cell_type": "code",
   "execution_count": 33,
   "metadata": {
    "ExecuteTime": {
     "end_time": "2020-06-23T06:18:30.697032Z",
     "start_time": "2020-06-23T06:18:30.684930Z"
    }
   },
   "outputs": [],
   "source": [
    "def get_page_info(link):\n",
    "    main_soup = _get_soup(MAIN_LINK + link)\n",
    "    \n",
    "    price = _get_price(main_soup)\n",
    "    renovation = _get_renovation(main_soup)\n",
    "    floor = _get_floor(main_soup)\n",
    "    year_built = _get_year_built(main_soup)\n",
    "    ceiling= _get_ceiling(main_soup)\n",
    "    square = _get_square(main_soup)\n",
    "    rooms = _get_rooms(main_soup)\n",
    "    house_name = _get_house_name(main_soup)\n",
    "    \n",
    "    \n",
    "    info = {\n",
    "        'price': price,\n",
    "        'renovation':renovation,\n",
    "        'floor':floor,\n",
    "        'year_built':year_built,\n",
    "        'ceiling':ceiling,\n",
    "        'square':square,\n",
    "        'rooms':rooms,\n",
    "        'house_name':house_name,\n",
    "    }\n",
    "    \n",
    "    return info"
   ]
  },
  {
   "cell_type": "code",
   "execution_count": 34,
   "metadata": {
    "ExecuteTime": {
     "end_time": "2020-06-23T06:18:34.033240Z",
     "start_time": "2020-06-23T06:18:33.795895Z"
    }
   },
   "outputs": [
    {
     "data": {
      "text/plain": [
       "{'price': 13000000,\n",
       " 'renovation': 'среднее',\n",
       " 'floor': ['3', '5'],\n",
       " 'year_built': 1975,\n",
       " 'ceiling': nan,\n",
       " 'square': [60, 6],\n",
       " 'rooms': 3,\n",
       " 'house_name': nan}"
      ]
     },
     "execution_count": 34,
     "metadata": {},
     "output_type": "execute_result"
    }
   ],
   "source": [
    "get_page_info('/a/show/57859710')"
   ]
  },
  {
   "cell_type": "markdown",
   "metadata": {},
   "source": [
    "## Запускаем парсер"
   ]
  },
  {
   "cell_type": "code",
   "execution_count": 37,
   "metadata": {
    "ExecuteTime": {
     "end_time": "2020-06-23T06:19:19.895439Z",
     "start_time": "2020-06-23T06:19:19.891651Z"
    }
   },
   "outputs": [],
   "source": [
    "# news_dataset = pd.DataFrame(columns=[\n",
    "#                             'renovation', 'floor', 'year_built', 'ceiling', 'square', 'rooms', 'house_name'])\n",
    "\n",
    "# for link in tqdm_notebook(all_links):\n",
    "#     news_dataset = news_dataset.append(get_page_info(link), ignore_index=True)\n",
    "#     time.sleep(0.1)"
   ]
  },
  {
   "cell_type": "markdown",
   "metadata": {},
   "source": [
    "# Очистка данных"
   ]
  },
  {
   "cell_type": "code",
   "execution_count": 38,
   "metadata": {
    "ExecuteTime": {
     "end_time": "2020-06-23T06:19:25.511597Z",
     "start_time": "2020-06-23T06:19:25.466157Z"
    }
   },
   "outputs": [
    {
     "name": "stdout",
     "output_type": "stream",
     "text": [
      "(10802, 8)\n"
     ]
    },
    {
     "data": {
      "text/html": [
       "<div>\n",
       "<style scoped>\n",
       "    .dataframe tbody tr th:only-of-type {\n",
       "        vertical-align: middle;\n",
       "    }\n",
       "\n",
       "    .dataframe tbody tr th {\n",
       "        vertical-align: top;\n",
       "    }\n",
       "\n",
       "    .dataframe thead th {\n",
       "        text-align: right;\n",
       "    }\n",
       "</style>\n",
       "<table border=\"1\" class=\"dataframe\">\n",
       "  <thead>\n",
       "    <tr style=\"text-align: right;\">\n",
       "      <th></th>\n",
       "      <th>renovation</th>\n",
       "      <th>floor</th>\n",
       "      <th>year_built</th>\n",
       "      <th>ceiling</th>\n",
       "      <th>square</th>\n",
       "      <th>rooms</th>\n",
       "      <th>house_name</th>\n",
       "      <th>price</th>\n",
       "    </tr>\n",
       "  </thead>\n",
       "  <tbody>\n",
       "    <tr>\n",
       "      <th>0</th>\n",
       "      <td>NaN</td>\n",
       "      <td>NaN</td>\n",
       "      <td>NaN</td>\n",
       "      <td>NaN</td>\n",
       "      <td>NaN</td>\n",
       "      <td>NaN</td>\n",
       "      <td>NaN</td>\n",
       "      <td>NaN</td>\n",
       "    </tr>\n",
       "    <tr>\n",
       "      <th>1</th>\n",
       "      <td>NaN</td>\n",
       "      <td>[7, 22]</td>\n",
       "      <td>2019</td>\n",
       "      <td>NaN</td>\n",
       "      <td>[42]</td>\n",
       "      <td>1</td>\n",
       "      <td>Коркем Tower</td>\n",
       "      <td>15000000.0</td>\n",
       "    </tr>\n",
       "    <tr>\n",
       "      <th>2</th>\n",
       "      <td>черновая отделка</td>\n",
       "      <td>[4, 9]</td>\n",
       "      <td>2020</td>\n",
       "      <td>NaN</td>\n",
       "      <td>[]</td>\n",
       "      <td>1</td>\n",
       "      <td>NaN</td>\n",
       "      <td>8305500.0</td>\n",
       "    </tr>\n",
       "    <tr>\n",
       "      <th>3</th>\n",
       "      <td>евроремонт</td>\n",
       "      <td>[4, 10]</td>\n",
       "      <td>2013</td>\n",
       "      <td>NaN</td>\n",
       "      <td>[87]</td>\n",
       "      <td>2</td>\n",
       "      <td>Нурсая Бонита</td>\n",
       "      <td>38000000.0</td>\n",
       "    </tr>\n",
       "    <tr>\n",
       "      <th>4</th>\n",
       "      <td>хорошее</td>\n",
       "      <td>[4, 12]</td>\n",
       "      <td>2007</td>\n",
       "      <td>NaN</td>\n",
       "      <td>[70]</td>\n",
       "      <td>3</td>\n",
       "      <td>7 Бочек</td>\n",
       "      <td>24000000.0</td>\n",
       "    </tr>\n",
       "  </tbody>\n",
       "</table>\n",
       "</div>"
      ],
      "text/plain": [
       "         renovation    floor year_built ceiling square rooms     house_name  \\\n",
       "0               NaN      NaN        NaN     NaN    NaN   NaN            NaN   \n",
       "1               NaN  [7, 22]       2019     NaN   [42]     1   Коркем Tower   \n",
       "2  черновая отделка   [4, 9]       2020     NaN     []     1            NaN   \n",
       "3        евроремонт  [4, 10]       2013     NaN   [87]     2  Нурсая Бонита   \n",
       "4           хорошее  [4, 12]       2007     NaN   [70]     3        7 Бочек   \n",
       "\n",
       "        price  \n",
       "0         NaN  \n",
       "1  15000000.0  \n",
       "2   8305500.0  \n",
       "3  38000000.0  \n",
       "4  24000000.0  "
      ]
     },
     "execution_count": 38,
     "metadata": {},
     "output_type": "execute_result"
    }
   ],
   "source": [
    "data = pd.read_pickle(\"news_dataset.pkl\").drop(\"priv_dorm\", axis=1)\n",
    "print(data.shape)\n",
    "data.head(5)"
   ]
  },
  {
   "cell_type": "markdown",
   "metadata": {},
   "source": [
    "## Обработка пропусков"
   ]
  },
  {
   "cell_type": "code",
   "execution_count": 39,
   "metadata": {
    "ExecuteTime": {
     "end_time": "2020-06-23T06:20:26.860978Z",
     "start_time": "2020-06-23T06:20:26.720040Z"
    }
   },
   "outputs": [
    {
     "data": {
      "text/html": [
       "<div>\n",
       "<style scoped>\n",
       "    .dataframe tbody tr th:only-of-type {\n",
       "        vertical-align: middle;\n",
       "    }\n",
       "\n",
       "    .dataframe tbody tr th {\n",
       "        vertical-align: top;\n",
       "    }\n",
       "\n",
       "    .dataframe thead th {\n",
       "        text-align: right;\n",
       "    }\n",
       "</style>\n",
       "<table border=\"1\" class=\"dataframe\">\n",
       "  <thead>\n",
       "    <tr style=\"text-align: right;\">\n",
       "      <th></th>\n",
       "      <th>renovation</th>\n",
       "      <th>floor</th>\n",
       "      <th>year_built</th>\n",
       "      <th>ceiling</th>\n",
       "      <th>square</th>\n",
       "      <th>rooms</th>\n",
       "      <th>house_name</th>\n",
       "      <th>price</th>\n",
       "    </tr>\n",
       "  </thead>\n",
       "  <tbody>\n",
       "    <tr>\n",
       "      <th>1</th>\n",
       "      <td>NaN</td>\n",
       "      <td>[7, 22]</td>\n",
       "      <td>2019</td>\n",
       "      <td>NaN</td>\n",
       "      <td>[42]</td>\n",
       "      <td>1</td>\n",
       "      <td>Коркем Tower</td>\n",
       "      <td>15.0000</td>\n",
       "    </tr>\n",
       "    <tr>\n",
       "      <th>2</th>\n",
       "      <td>черновая отделка</td>\n",
       "      <td>[4, 9]</td>\n",
       "      <td>2020</td>\n",
       "      <td>NaN</td>\n",
       "      <td>[]</td>\n",
       "      <td>1</td>\n",
       "      <td>NaN</td>\n",
       "      <td>8.3055</td>\n",
       "    </tr>\n",
       "    <tr>\n",
       "      <th>3</th>\n",
       "      <td>евроремонт</td>\n",
       "      <td>[4, 10]</td>\n",
       "      <td>2013</td>\n",
       "      <td>NaN</td>\n",
       "      <td>[87]</td>\n",
       "      <td>2</td>\n",
       "      <td>Нурсая Бонита</td>\n",
       "      <td>38.0000</td>\n",
       "    </tr>\n",
       "  </tbody>\n",
       "</table>\n",
       "</div>"
      ],
      "text/plain": [
       "         renovation    floor year_built ceiling square rooms     house_name  \\\n",
       "1               NaN  [7, 22]       2019     NaN   [42]     1   Коркем Tower   \n",
       "2  черновая отделка   [4, 9]       2020     NaN     []     1            NaN   \n",
       "3        евроремонт  [4, 10]       2013     NaN   [87]     2  Нурсая Бонита   \n",
       "\n",
       "     price  \n",
       "1  15.0000  \n",
       "2   8.3055  \n",
       "3  38.0000  "
      ]
     },
     "execution_count": 39,
     "metadata": {},
     "output_type": "execute_result"
    }
   ],
   "source": [
    "data = data[data.price.isna()==False]\n",
    "\n",
    "data.price = data.price / 1000000\n",
    "data.head(3)"
   ]
  },
  {
   "cell_type": "code",
   "execution_count": 40,
   "metadata": {
    "ExecuteTime": {
     "end_time": "2020-06-23T06:20:31.796574Z",
     "start_time": "2020-06-23T06:20:31.788558Z"
    }
   },
   "outputs": [],
   "source": [
    "data.square.fillna(\"[]\", inplace=True)\n",
    "data.floor.fillna(\"[]\", inplace=True)"
   ]
  },
  {
   "cell_type": "code",
   "execution_count": 41,
   "metadata": {
    "ExecuteTime": {
     "end_time": "2020-06-23T06:20:36.622830Z",
     "start_time": "2020-06-23T06:20:36.586432Z"
    }
   },
   "outputs": [
    {
     "data": {
      "text/plain": [
       "3     883\n",
       "28      1\n",
       "5       1\n",
       "Name: ceiling, dtype: int64"
      ]
     },
     "execution_count": 41,
     "metadata": {},
     "output_type": "execute_result"
    }
   ],
   "source": [
    "data.ceiling.value_counts()"
   ]
  },
  {
   "cell_type": "code",
   "execution_count": 42,
   "metadata": {
    "ExecuteTime": {
     "end_time": "2020-06-23T06:20:41.428385Z",
     "start_time": "2020-06-23T06:20:41.411492Z"
    }
   },
   "outputs": [
    {
     "data": {
      "text/html": [
       "<div>\n",
       "<style scoped>\n",
       "    .dataframe tbody tr th:only-of-type {\n",
       "        vertical-align: middle;\n",
       "    }\n",
       "\n",
       "    .dataframe tbody tr th {\n",
       "        vertical-align: top;\n",
       "    }\n",
       "\n",
       "    .dataframe thead th {\n",
       "        text-align: right;\n",
       "    }\n",
       "</style>\n",
       "<table border=\"1\" class=\"dataframe\">\n",
       "  <thead>\n",
       "    <tr style=\"text-align: right;\">\n",
       "      <th></th>\n",
       "      <th>renovation</th>\n",
       "      <th>floor</th>\n",
       "      <th>year_built</th>\n",
       "      <th>ceiling</th>\n",
       "      <th>square</th>\n",
       "      <th>rooms</th>\n",
       "      <th>house_name</th>\n",
       "      <th>price</th>\n",
       "    </tr>\n",
       "  </thead>\n",
       "  <tbody>\n",
       "    <tr>\n",
       "      <th>1</th>\n",
       "      <td>NaN</td>\n",
       "      <td>[7, 22]</td>\n",
       "      <td>2019</td>\n",
       "      <td>2.75</td>\n",
       "      <td>[42]</td>\n",
       "      <td>1</td>\n",
       "      <td>Коркем Tower</td>\n",
       "      <td>15.0000</td>\n",
       "    </tr>\n",
       "    <tr>\n",
       "      <th>2</th>\n",
       "      <td>черновая отделка</td>\n",
       "      <td>[4, 9]</td>\n",
       "      <td>2020</td>\n",
       "      <td>2.75</td>\n",
       "      <td>[]</td>\n",
       "      <td>1</td>\n",
       "      <td>NaN</td>\n",
       "      <td>8.3055</td>\n",
       "    </tr>\n",
       "    <tr>\n",
       "      <th>3</th>\n",
       "      <td>евроремонт</td>\n",
       "      <td>[4, 10]</td>\n",
       "      <td>2013</td>\n",
       "      <td>2.75</td>\n",
       "      <td>[87]</td>\n",
       "      <td>2</td>\n",
       "      <td>Нурсая Бонита</td>\n",
       "      <td>38.0000</td>\n",
       "    </tr>\n",
       "  </tbody>\n",
       "</table>\n",
       "</div>"
      ],
      "text/plain": [
       "         renovation    floor year_built  ceiling square rooms     house_name  \\\n",
       "1               NaN  [7, 22]       2019     2.75   [42]     1   Коркем Tower   \n",
       "2  черновая отделка   [4, 9]       2020     2.75     []     1            NaN   \n",
       "3        евроремонт  [4, 10]       2013     2.75   [87]     2  Нурсая Бонита   \n",
       "\n",
       "     price  \n",
       "1  15.0000  \n",
       "2   8.3055  \n",
       "3  38.0000  "
      ]
     },
     "execution_count": 42,
     "metadata": {},
     "output_type": "execute_result"
    }
   ],
   "source": [
    "data.ceiling = data.ceiling.fillna(2.75)\n",
    "data.head(3)"
   ]
  },
  {
   "cell_type": "code",
   "execution_count": 43,
   "metadata": {
    "ExecuteTime": {
     "end_time": "2020-06-23T06:20:45.070935Z",
     "start_time": "2020-06-23T06:20:45.053381Z"
    }
   },
   "outputs": [
    {
     "data": {
      "text/html": [
       "<div>\n",
       "<style scoped>\n",
       "    .dataframe tbody tr th:only-of-type {\n",
       "        vertical-align: middle;\n",
       "    }\n",
       "\n",
       "    .dataframe tbody tr th {\n",
       "        vertical-align: top;\n",
       "    }\n",
       "\n",
       "    .dataframe thead th {\n",
       "        text-align: right;\n",
       "    }\n",
       "</style>\n",
       "<table border=\"1\" class=\"dataframe\">\n",
       "  <thead>\n",
       "    <tr style=\"text-align: right;\">\n",
       "      <th></th>\n",
       "      <th>renovation</th>\n",
       "      <th>floor</th>\n",
       "      <th>year_built</th>\n",
       "      <th>ceiling</th>\n",
       "      <th>square</th>\n",
       "      <th>rooms</th>\n",
       "      <th>house_name</th>\n",
       "      <th>price</th>\n",
       "    </tr>\n",
       "  </thead>\n",
       "  <tbody>\n",
       "    <tr>\n",
       "      <th>1</th>\n",
       "      <td>NaN</td>\n",
       "      <td>[7, 22]</td>\n",
       "      <td>2019</td>\n",
       "      <td>2.75</td>\n",
       "      <td>[42]</td>\n",
       "      <td>1</td>\n",
       "      <td>Коркем Tower</td>\n",
       "      <td>15.0000</td>\n",
       "    </tr>\n",
       "    <tr>\n",
       "      <th>2</th>\n",
       "      <td>черновая отделка</td>\n",
       "      <td>[4, 9]</td>\n",
       "      <td>2020</td>\n",
       "      <td>2.75</td>\n",
       "      <td>[]</td>\n",
       "      <td>1</td>\n",
       "      <td>Unknown</td>\n",
       "      <td>8.3055</td>\n",
       "    </tr>\n",
       "    <tr>\n",
       "      <th>3</th>\n",
       "      <td>евроремонт</td>\n",
       "      <td>[4, 10]</td>\n",
       "      <td>2013</td>\n",
       "      <td>2.75</td>\n",
       "      <td>[87]</td>\n",
       "      <td>2</td>\n",
       "      <td>Нурсая Бонита</td>\n",
       "      <td>38.0000</td>\n",
       "    </tr>\n",
       "  </tbody>\n",
       "</table>\n",
       "</div>"
      ],
      "text/plain": [
       "         renovation    floor year_built  ceiling square rooms     house_name  \\\n",
       "1               NaN  [7, 22]       2019     2.75   [42]     1   Коркем Tower   \n",
       "2  черновая отделка   [4, 9]       2020     2.75     []     1        Unknown   \n",
       "3        евроремонт  [4, 10]       2013     2.75   [87]     2  Нурсая Бонита   \n",
       "\n",
       "     price  \n",
       "1  15.0000  \n",
       "2   8.3055  \n",
       "3  38.0000  "
      ]
     },
     "execution_count": 43,
     "metadata": {},
     "output_type": "execute_result"
    }
   ],
   "source": [
    "data.house_name.fillna(\"Unknown\", inplace=True)\n",
    "data.head(3)"
   ]
  },
  {
   "cell_type": "code",
   "execution_count": 44,
   "metadata": {
    "ExecuteTime": {
     "end_time": "2020-06-23T06:20:49.112692Z",
     "start_time": "2020-06-23T06:20:49.088540Z"
    }
   },
   "outputs": [
    {
     "data": {
      "text/html": [
       "<div>\n",
       "<style scoped>\n",
       "    .dataframe tbody tr th:only-of-type {\n",
       "        vertical-align: middle;\n",
       "    }\n",
       "\n",
       "    .dataframe tbody tr th {\n",
       "        vertical-align: top;\n",
       "    }\n",
       "\n",
       "    .dataframe thead th {\n",
       "        text-align: right;\n",
       "    }\n",
       "</style>\n",
       "<table border=\"1\" class=\"dataframe\">\n",
       "  <thead>\n",
       "    <tr style=\"text-align: right;\">\n",
       "      <th></th>\n",
       "      <th>renovation</th>\n",
       "      <th>floor</th>\n",
       "      <th>year_built</th>\n",
       "      <th>ceiling</th>\n",
       "      <th>square</th>\n",
       "      <th>rooms</th>\n",
       "      <th>house_name</th>\n",
       "      <th>price</th>\n",
       "    </tr>\n",
       "  </thead>\n",
       "  <tbody>\n",
       "    <tr>\n",
       "      <th>1</th>\n",
       "      <td>Unknown</td>\n",
       "      <td>[7, 22]</td>\n",
       "      <td>2019</td>\n",
       "      <td>2.75</td>\n",
       "      <td>[42]</td>\n",
       "      <td>1</td>\n",
       "      <td>Коркем Tower</td>\n",
       "      <td>15.0000</td>\n",
       "    </tr>\n",
       "    <tr>\n",
       "      <th>2</th>\n",
       "      <td>черновая отделка</td>\n",
       "      <td>[4, 9]</td>\n",
       "      <td>2020</td>\n",
       "      <td>2.75</td>\n",
       "      <td>[]</td>\n",
       "      <td>1</td>\n",
       "      <td>Unknown</td>\n",
       "      <td>8.3055</td>\n",
       "    </tr>\n",
       "    <tr>\n",
       "      <th>3</th>\n",
       "      <td>евроремонт</td>\n",
       "      <td>[4, 10]</td>\n",
       "      <td>2013</td>\n",
       "      <td>2.75</td>\n",
       "      <td>[87]</td>\n",
       "      <td>2</td>\n",
       "      <td>Нурсая Бонита</td>\n",
       "      <td>38.0000</td>\n",
       "    </tr>\n",
       "  </tbody>\n",
       "</table>\n",
       "</div>"
      ],
      "text/plain": [
       "         renovation    floor year_built  ceiling square rooms     house_name  \\\n",
       "1           Unknown  [7, 22]       2019     2.75   [42]     1   Коркем Tower   \n",
       "2  черновая отделка   [4, 9]       2020     2.75     []     1        Unknown   \n",
       "3        евроремонт  [4, 10]       2013     2.75   [87]     2  Нурсая Бонита   \n",
       "\n",
       "     price  \n",
       "1  15.0000  \n",
       "2   8.3055  \n",
       "3  38.0000  "
      ]
     },
     "execution_count": 44,
     "metadata": {},
     "output_type": "execute_result"
    }
   ],
   "source": [
    "data.renovation.fillna(\"Unknown\", inplace=True)\n",
    "data.head(3)"
   ]
  },
  {
   "cell_type": "markdown",
   "metadata": {},
   "source": [
    "## Приведение к единому формату / Новые переменные"
   ]
  },
  {
   "cell_type": "code",
   "execution_count": 45,
   "metadata": {
    "ExecuteTime": {
     "end_time": "2020-06-23T06:21:18.336748Z",
     "start_time": "2020-06-23T06:21:18.318201Z"
    }
   },
   "outputs": [
    {
     "data": {
      "text/html": [
       "<div>\n",
       "<style scoped>\n",
       "    .dataframe tbody tr th:only-of-type {\n",
       "        vertical-align: middle;\n",
       "    }\n",
       "\n",
       "    .dataframe tbody tr th {\n",
       "        vertical-align: top;\n",
       "    }\n",
       "\n",
       "    .dataframe thead th {\n",
       "        text-align: right;\n",
       "    }\n",
       "</style>\n",
       "<table border=\"1\" class=\"dataframe\">\n",
       "  <thead>\n",
       "    <tr style=\"text-align: right;\">\n",
       "      <th></th>\n",
       "      <th>renovation</th>\n",
       "      <th>floor</th>\n",
       "      <th>year_built</th>\n",
       "      <th>ceiling</th>\n",
       "      <th>square</th>\n",
       "      <th>rooms</th>\n",
       "      <th>house_name</th>\n",
       "      <th>price</th>\n",
       "    </tr>\n",
       "  </thead>\n",
       "  <tbody>\n",
       "    <tr>\n",
       "      <th>1</th>\n",
       "      <td>Unknown</td>\n",
       "      <td>[7, 22]</td>\n",
       "      <td>2019</td>\n",
       "      <td>2.75</td>\n",
       "      <td>[42]</td>\n",
       "      <td>1</td>\n",
       "      <td>Коркем Tower</td>\n",
       "      <td>15.0000</td>\n",
       "    </tr>\n",
       "    <tr>\n",
       "      <th>2</th>\n",
       "      <td>черновая отделка</td>\n",
       "      <td>[4, 9]</td>\n",
       "      <td>2020</td>\n",
       "      <td>2.75</td>\n",
       "      <td>[]</td>\n",
       "      <td>1</td>\n",
       "      <td>Unknown</td>\n",
       "      <td>8.3055</td>\n",
       "    </tr>\n",
       "    <tr>\n",
       "      <th>3</th>\n",
       "      <td>евроремонт</td>\n",
       "      <td>[4, 10]</td>\n",
       "      <td>2013</td>\n",
       "      <td>2.75</td>\n",
       "      <td>[87]</td>\n",
       "      <td>2</td>\n",
       "      <td>Нурсая Бонита</td>\n",
       "      <td>38.0000</td>\n",
       "    </tr>\n",
       "  </tbody>\n",
       "</table>\n",
       "</div>"
      ],
      "text/plain": [
       "         renovation    floor year_built  ceiling square rooms     house_name  \\\n",
       "1           Unknown  [7, 22]       2019     2.75   [42]     1   Коркем Tower   \n",
       "2  черновая отделка   [4, 9]       2020     2.75     []     1        Unknown   \n",
       "3        евроремонт  [4, 10]       2013     2.75   [87]     2  Нурсая Бонита   \n",
       "\n",
       "     price  \n",
       "1  15.0000  \n",
       "2   8.3055  \n",
       "3  38.0000  "
      ]
     },
     "execution_count": 45,
     "metadata": {},
     "output_type": "execute_result"
    }
   ],
   "source": [
    "data.head(3)"
   ]
  },
  {
   "cell_type": "code",
   "execution_count": 46,
   "metadata": {
    "ExecuteTime": {
     "end_time": "2020-06-23T06:22:07.954710Z",
     "start_time": "2020-06-23T06:22:07.904533Z"
    }
   },
   "outputs": [
    {
     "data": {
      "text/html": [
       "<div>\n",
       "<style scoped>\n",
       "    .dataframe tbody tr th:only-of-type {\n",
       "        vertical-align: middle;\n",
       "    }\n",
       "\n",
       "    .dataframe tbody tr th {\n",
       "        vertical-align: top;\n",
       "    }\n",
       "\n",
       "    .dataframe thead th {\n",
       "        text-align: right;\n",
       "    }\n",
       "</style>\n",
       "<table border=\"1\" class=\"dataframe\">\n",
       "  <thead>\n",
       "    <tr style=\"text-align: right;\">\n",
       "      <th></th>\n",
       "      <th>renovation</th>\n",
       "      <th>floor</th>\n",
       "      <th>year_built</th>\n",
       "      <th>ceiling</th>\n",
       "      <th>square</th>\n",
       "      <th>rooms</th>\n",
       "      <th>house_name</th>\n",
       "      <th>price</th>\n",
       "      <th>house_age</th>\n",
       "    </tr>\n",
       "  </thead>\n",
       "  <tbody>\n",
       "    <tr>\n",
       "      <th>1</th>\n",
       "      <td>Unknown</td>\n",
       "      <td>[7, 22]</td>\n",
       "      <td>2019</td>\n",
       "      <td>2.75</td>\n",
       "      <td>[42]</td>\n",
       "      <td>1</td>\n",
       "      <td>Коркем Tower</td>\n",
       "      <td>15.0000</td>\n",
       "      <td>1</td>\n",
       "    </tr>\n",
       "    <tr>\n",
       "      <th>2</th>\n",
       "      <td>черновая отделка</td>\n",
       "      <td>[4, 9]</td>\n",
       "      <td>2020</td>\n",
       "      <td>2.75</td>\n",
       "      <td>[]</td>\n",
       "      <td>1</td>\n",
       "      <td>Unknown</td>\n",
       "      <td>8.3055</td>\n",
       "      <td>0</td>\n",
       "    </tr>\n",
       "    <tr>\n",
       "      <th>3</th>\n",
       "      <td>евроремонт</td>\n",
       "      <td>[4, 10]</td>\n",
       "      <td>2013</td>\n",
       "      <td>2.75</td>\n",
       "      <td>[87]</td>\n",
       "      <td>2</td>\n",
       "      <td>Нурсая Бонита</td>\n",
       "      <td>38.0000</td>\n",
       "      <td>7</td>\n",
       "    </tr>\n",
       "    <tr>\n",
       "      <th>4</th>\n",
       "      <td>хорошее</td>\n",
       "      <td>[4, 12]</td>\n",
       "      <td>2007</td>\n",
       "      <td>2.75</td>\n",
       "      <td>[70]</td>\n",
       "      <td>3</td>\n",
       "      <td>7 Бочек</td>\n",
       "      <td>24.0000</td>\n",
       "      <td>13</td>\n",
       "    </tr>\n",
       "    <tr>\n",
       "      <th>5</th>\n",
       "      <td>Unknown</td>\n",
       "      <td>[1, 3]</td>\n",
       "      <td>2021</td>\n",
       "      <td>2.75</td>\n",
       "      <td>[8]</td>\n",
       "      <td>1</td>\n",
       "      <td>МЖК Астана</td>\n",
       "      <td>5.5980</td>\n",
       "      <td>-1</td>\n",
       "    </tr>\n",
       "    <tr>\n",
       "      <th>6</th>\n",
       "      <td>черновая отделка</td>\n",
       "      <td>[9, 9]</td>\n",
       "      <td>2020</td>\n",
       "      <td>2.75</td>\n",
       "      <td>[88]</td>\n",
       "      <td>3</td>\n",
       "      <td>Panorama Park</td>\n",
       "      <td>32.5000</td>\n",
       "      <td>0</td>\n",
       "    </tr>\n",
       "    <tr>\n",
       "      <th>7</th>\n",
       "      <td>хорошее</td>\n",
       "      <td>[7, 9]</td>\n",
       "      <td>2017</td>\n",
       "      <td>2.75</td>\n",
       "      <td>[70]</td>\n",
       "      <td>2</td>\n",
       "      <td>Unknown</td>\n",
       "      <td>20.0000</td>\n",
       "      <td>3</td>\n",
       "    </tr>\n",
       "  </tbody>\n",
       "</table>\n",
       "</div>"
      ],
      "text/plain": [
       "         renovation    floor year_built  ceiling square rooms     house_name  \\\n",
       "1           Unknown  [7, 22]       2019     2.75   [42]     1   Коркем Tower   \n",
       "2  черновая отделка   [4, 9]       2020     2.75     []     1        Unknown   \n",
       "3        евроремонт  [4, 10]       2013     2.75   [87]     2  Нурсая Бонита   \n",
       "4           хорошее  [4, 12]       2007     2.75   [70]     3        7 Бочек   \n",
       "5           Unknown   [1, 3]       2021     2.75    [8]     1     МЖК Астана   \n",
       "6  черновая отделка   [9, 9]       2020     2.75   [88]     3  Panorama Park   \n",
       "7           хорошее   [7, 9]       2017     2.75   [70]     2        Unknown   \n",
       "\n",
       "     price  house_age  \n",
       "1  15.0000          1  \n",
       "2   8.3055          0  \n",
       "3  38.0000          7  \n",
       "4  24.0000         13  \n",
       "5   5.5980         -1  \n",
       "6  32.5000          0  \n",
       "7  20.0000          3  "
      ]
     },
     "execution_count": 46,
     "metadata": {},
     "output_type": "execute_result"
    }
   ],
   "source": [
    "data[\"house_age\"] = 2020 - data[\"year_built\"].astype(int)\n",
    "data.head(7)"
   ]
  },
  {
   "cell_type": "code",
   "execution_count": 47,
   "metadata": {
    "ExecuteTime": {
     "end_time": "2020-06-23T06:22:14.036377Z",
     "start_time": "2020-06-23T06:22:12.349939Z"
    }
   },
   "outputs": [
    {
     "data": {
      "text/html": [
       "<div>\n",
       "<style scoped>\n",
       "    .dataframe tbody tr th:only-of-type {\n",
       "        vertical-align: middle;\n",
       "    }\n",
       "\n",
       "    .dataframe tbody tr th {\n",
       "        vertical-align: top;\n",
       "    }\n",
       "\n",
       "    .dataframe thead th {\n",
       "        text-align: right;\n",
       "    }\n",
       "</style>\n",
       "<table border=\"1\" class=\"dataframe\">\n",
       "  <thead>\n",
       "    <tr style=\"text-align: right;\">\n",
       "      <th></th>\n",
       "      <th>renovation</th>\n",
       "      <th>floor</th>\n",
       "      <th>year_built</th>\n",
       "      <th>ceiling</th>\n",
       "      <th>square</th>\n",
       "      <th>rooms</th>\n",
       "      <th>house_name</th>\n",
       "      <th>price</th>\n",
       "      <th>house_age</th>\n",
       "      <th>square_total</th>\n",
       "      <th>square_living</th>\n",
       "      <th>square_kitchen</th>\n",
       "    </tr>\n",
       "  </thead>\n",
       "  <tbody>\n",
       "    <tr>\n",
       "      <th>1</th>\n",
       "      <td>Unknown</td>\n",
       "      <td>[7, 22]</td>\n",
       "      <td>2019</td>\n",
       "      <td>2.75</td>\n",
       "      <td>[42]</td>\n",
       "      <td>1</td>\n",
       "      <td>Коркем Tower</td>\n",
       "      <td>15.0000</td>\n",
       "      <td>1</td>\n",
       "      <td>42</td>\n",
       "      <td>21.0</td>\n",
       "      <td>6.0</td>\n",
       "    </tr>\n",
       "    <tr>\n",
       "      <th>2</th>\n",
       "      <td>черновая отделка</td>\n",
       "      <td>[4, 9]</td>\n",
       "      <td>2020</td>\n",
       "      <td>2.75</td>\n",
       "      <td>[]</td>\n",
       "      <td>1</td>\n",
       "      <td>Unknown</td>\n",
       "      <td>8.3055</td>\n",
       "      <td>0</td>\n",
       "      <td>30</td>\n",
       "      <td>21.0</td>\n",
       "      <td>6.0</td>\n",
       "    </tr>\n",
       "    <tr>\n",
       "      <th>3</th>\n",
       "      <td>евроремонт</td>\n",
       "      <td>[4, 10]</td>\n",
       "      <td>2013</td>\n",
       "      <td>2.75</td>\n",
       "      <td>[87]</td>\n",
       "      <td>2</td>\n",
       "      <td>Нурсая Бонита</td>\n",
       "      <td>38.0000</td>\n",
       "      <td>7</td>\n",
       "      <td>87</td>\n",
       "      <td>42.0</td>\n",
       "      <td>12.0</td>\n",
       "    </tr>\n",
       "    <tr>\n",
       "      <th>4</th>\n",
       "      <td>хорошее</td>\n",
       "      <td>[4, 12]</td>\n",
       "      <td>2007</td>\n",
       "      <td>2.75</td>\n",
       "      <td>[70]</td>\n",
       "      <td>3</td>\n",
       "      <td>7 Бочек</td>\n",
       "      <td>24.0000</td>\n",
       "      <td>13</td>\n",
       "      <td>70</td>\n",
       "      <td>63.0</td>\n",
       "      <td>18.0</td>\n",
       "    </tr>\n",
       "    <tr>\n",
       "      <th>5</th>\n",
       "      <td>Unknown</td>\n",
       "      <td>[1, 3]</td>\n",
       "      <td>2021</td>\n",
       "      <td>2.75</td>\n",
       "      <td>[8]</td>\n",
       "      <td>1</td>\n",
       "      <td>МЖК Астана</td>\n",
       "      <td>5.5980</td>\n",
       "      <td>-1</td>\n",
       "      <td>8</td>\n",
       "      <td>21.0</td>\n",
       "      <td>6.0</td>\n",
       "    </tr>\n",
       "  </tbody>\n",
       "</table>\n",
       "</div>"
      ],
      "text/plain": [
       "         renovation    floor year_built  ceiling square rooms     house_name  \\\n",
       "1           Unknown  [7, 22]       2019     2.75   [42]     1   Коркем Tower   \n",
       "2  черновая отделка   [4, 9]       2020     2.75     []     1        Unknown   \n",
       "3        евроремонт  [4, 10]       2013     2.75   [87]     2  Нурсая Бонита   \n",
       "4           хорошее  [4, 12]       2007     2.75   [70]     3        7 Бочек   \n",
       "5           Unknown   [1, 3]       2021     2.75    [8]     1     МЖК Астана   \n",
       "\n",
       "     price  house_age  square_total  square_living  square_kitchen  \n",
       "1  15.0000          1            42           21.0             6.0  \n",
       "2   8.3055          0            30           21.0             6.0  \n",
       "3  38.0000          7            87           42.0            12.0  \n",
       "4  24.0000         13            70           63.0            18.0  \n",
       "5   5.5980         -1             8           21.0             6.0  "
      ]
     },
     "execution_count": 47,
     "metadata": {},
     "output_type": "execute_result"
    }
   ],
   "source": [
    "square_total, square_living, square_kitchen = [], [], []\n",
    "for ind, row in data.iterrows():\n",
    "    if \"]\" in row[\"square\"]:\n",
    "        i = []\n",
    "    else:\n",
    "        i = row[\"square\"]\n",
    "        j = int(row[\"rooms\"]) * 30\n",
    "    square_n = len(i)\n",
    "    if square_n==0:\n",
    "        square_total.append(j)\n",
    "        square_living.append(j * 70 / 100)\n",
    "        square_kitchen.append(j * 20 / 100)\n",
    "    elif square_n==1:\n",
    "        square_total.append(i[0])\n",
    "        square_living.append(j * 70 / 100)\n",
    "        square_kitchen.append(j * 20 / 100)\n",
    "    elif square_n==2:\n",
    "        square_total.append(i[0])\n",
    "        square_living.append(i[1])\n",
    "        square_kitchen.append(j * 20 / 100)\n",
    "    elif square_n==3:\n",
    "        square_total.append(i[0])\n",
    "        square_living.append(i[1])\n",
    "        square_kitchen.append(i[2])\n",
    "        \n",
    "data[\"square_total\"] = square_total\n",
    "data[\"square_living\"] = square_living\n",
    "data[\"square_kitchen\"] = square_kitchen\n",
    "\n",
    "data.head()"
   ]
  },
  {
   "cell_type": "code",
   "execution_count": 48,
   "metadata": {
    "ExecuteTime": {
     "end_time": "2020-06-23T06:22:19.114071Z",
     "start_time": "2020-06-23T06:22:19.072181Z"
    }
   },
   "outputs": [
    {
     "data": {
      "text/html": [
       "<div>\n",
       "<style scoped>\n",
       "    .dataframe tbody tr th:only-of-type {\n",
       "        vertical-align: middle;\n",
       "    }\n",
       "\n",
       "    .dataframe tbody tr th {\n",
       "        vertical-align: top;\n",
       "    }\n",
       "\n",
       "    .dataframe thead th {\n",
       "        text-align: right;\n",
       "    }\n",
       "</style>\n",
       "<table border=\"1\" class=\"dataframe\">\n",
       "  <thead>\n",
       "    <tr style=\"text-align: right;\">\n",
       "      <th></th>\n",
       "      <th>renovation</th>\n",
       "      <th>floor</th>\n",
       "      <th>year_built</th>\n",
       "      <th>ceiling</th>\n",
       "      <th>square</th>\n",
       "      <th>rooms</th>\n",
       "      <th>house_name</th>\n",
       "      <th>price</th>\n",
       "      <th>house_age</th>\n",
       "      <th>square_total</th>\n",
       "      <th>square_living</th>\n",
       "      <th>square_kitchen</th>\n",
       "      <th>floor_flat</th>\n",
       "      <th>floors_total</th>\n",
       "    </tr>\n",
       "  </thead>\n",
       "  <tbody>\n",
       "    <tr>\n",
       "      <th>1</th>\n",
       "      <td>Unknown</td>\n",
       "      <td>[7, 22]</td>\n",
       "      <td>2019</td>\n",
       "      <td>2.75</td>\n",
       "      <td>[42]</td>\n",
       "      <td>1</td>\n",
       "      <td>Коркем Tower</td>\n",
       "      <td>15.0000</td>\n",
       "      <td>1</td>\n",
       "      <td>42</td>\n",
       "      <td>21.0</td>\n",
       "      <td>6.0</td>\n",
       "      <td>7.0</td>\n",
       "      <td>22.0</td>\n",
       "    </tr>\n",
       "    <tr>\n",
       "      <th>2</th>\n",
       "      <td>черновая отделка</td>\n",
       "      <td>[4, 9]</td>\n",
       "      <td>2020</td>\n",
       "      <td>2.75</td>\n",
       "      <td>[]</td>\n",
       "      <td>1</td>\n",
       "      <td>Unknown</td>\n",
       "      <td>8.3055</td>\n",
       "      <td>0</td>\n",
       "      <td>30</td>\n",
       "      <td>21.0</td>\n",
       "      <td>6.0</td>\n",
       "      <td>4.0</td>\n",
       "      <td>9.0</td>\n",
       "    </tr>\n",
       "    <tr>\n",
       "      <th>3</th>\n",
       "      <td>евроремонт</td>\n",
       "      <td>[4, 10]</td>\n",
       "      <td>2013</td>\n",
       "      <td>2.75</td>\n",
       "      <td>[87]</td>\n",
       "      <td>2</td>\n",
       "      <td>Нурсая Бонита</td>\n",
       "      <td>38.0000</td>\n",
       "      <td>7</td>\n",
       "      <td>87</td>\n",
       "      <td>42.0</td>\n",
       "      <td>12.0</td>\n",
       "      <td>4.0</td>\n",
       "      <td>10.0</td>\n",
       "    </tr>\n",
       "    <tr>\n",
       "      <th>4</th>\n",
       "      <td>хорошее</td>\n",
       "      <td>[4, 12]</td>\n",
       "      <td>2007</td>\n",
       "      <td>2.75</td>\n",
       "      <td>[70]</td>\n",
       "      <td>3</td>\n",
       "      <td>7 Бочек</td>\n",
       "      <td>24.0000</td>\n",
       "      <td>13</td>\n",
       "      <td>70</td>\n",
       "      <td>63.0</td>\n",
       "      <td>18.0</td>\n",
       "      <td>4.0</td>\n",
       "      <td>12.0</td>\n",
       "    </tr>\n",
       "    <tr>\n",
       "      <th>5</th>\n",
       "      <td>Unknown</td>\n",
       "      <td>[1, 3]</td>\n",
       "      <td>2021</td>\n",
       "      <td>2.75</td>\n",
       "      <td>[8]</td>\n",
       "      <td>1</td>\n",
       "      <td>МЖК Астана</td>\n",
       "      <td>5.5980</td>\n",
       "      <td>-1</td>\n",
       "      <td>8</td>\n",
       "      <td>21.0</td>\n",
       "      <td>6.0</td>\n",
       "      <td>1.0</td>\n",
       "      <td>3.0</td>\n",
       "    </tr>\n",
       "  </tbody>\n",
       "</table>\n",
       "</div>"
      ],
      "text/plain": [
       "         renovation    floor year_built  ceiling square rooms     house_name  \\\n",
       "1           Unknown  [7, 22]       2019     2.75   [42]     1   Коркем Tower   \n",
       "2  черновая отделка   [4, 9]       2020     2.75     []     1        Unknown   \n",
       "3        евроремонт  [4, 10]       2013     2.75   [87]     2  Нурсая Бонита   \n",
       "4           хорошее  [4, 12]       2007     2.75   [70]     3        7 Бочек   \n",
       "5           Unknown   [1, 3]       2021     2.75    [8]     1     МЖК Астана   \n",
       "\n",
       "     price  house_age  square_total  square_living  square_kitchen  \\\n",
       "1  15.0000          1            42           21.0             6.0   \n",
       "2   8.3055          0            30           21.0             6.0   \n",
       "3  38.0000          7            87           42.0            12.0   \n",
       "4  24.0000         13            70           63.0            18.0   \n",
       "5   5.5980         -1             8           21.0             6.0   \n",
       "\n",
       "   floor_flat  floors_total  \n",
       "1         7.0          22.0  \n",
       "2         4.0           9.0  \n",
       "3         4.0          10.0  \n",
       "4         4.0          12.0  \n",
       "5         1.0           3.0  "
      ]
     },
     "execution_count": 48,
     "metadata": {},
     "output_type": "execute_result"
    }
   ],
   "source": [
    "floor_flat, floors_total = [], []\n",
    "for i in data.floor:\n",
    "    if i == '[]':\n",
    "        i = []\n",
    "    floor_n = len(i)\n",
    "    if floor_n == 0:\n",
    "        floor_flat.append(np.nan)\n",
    "        floors_total.append(np.nan)\n",
    "    elif floor_n==1:\n",
    "        floor_flat.append(int(i[0]))\n",
    "        floors_total.append(np.nan)\n",
    "    elif floor_n==2:\n",
    "        floor_flat.append(int(i[0]))\n",
    "        floors_total.append(int(i[1]))\n",
    "        \n",
    "data[\"floor_flat\"] = floor_flat\n",
    "data[\"floors_total\"] = floors_total\n",
    "\n",
    "data.head()"
   ]
  },
  {
   "cell_type": "code",
   "execution_count": 49,
   "metadata": {
    "ExecuteTime": {
     "end_time": "2020-06-23T06:22:23.128019Z",
     "start_time": "2020-06-23T06:22:23.113659Z"
    }
   },
   "outputs": [],
   "source": [
    "data.year_built = data.year_built.astype(int)\n",
    "data.rooms = data.rooms.astype(int)"
   ]
  },
  {
   "cell_type": "code",
   "execution_count": 50,
   "metadata": {
    "ExecuteTime": {
     "end_time": "2020-06-23T06:22:26.713577Z",
     "start_time": "2020-06-23T06:22:26.693725Z"
    }
   },
   "outputs": [
    {
     "data": {
      "text/html": [
       "<div>\n",
       "<style scoped>\n",
       "    .dataframe tbody tr th:only-of-type {\n",
       "        vertical-align: middle;\n",
       "    }\n",
       "\n",
       "    .dataframe tbody tr th {\n",
       "        vertical-align: top;\n",
       "    }\n",
       "\n",
       "    .dataframe thead th {\n",
       "        text-align: right;\n",
       "    }\n",
       "</style>\n",
       "<table border=\"1\" class=\"dataframe\">\n",
       "  <thead>\n",
       "    <tr style=\"text-align: right;\">\n",
       "      <th></th>\n",
       "      <th>renovation</th>\n",
       "      <th>ceiling</th>\n",
       "      <th>rooms</th>\n",
       "      <th>house_name</th>\n",
       "      <th>price</th>\n",
       "      <th>house_age</th>\n",
       "      <th>square_total</th>\n",
       "      <th>square_living</th>\n",
       "      <th>square_kitchen</th>\n",
       "      <th>floor_flat</th>\n",
       "      <th>floors_total</th>\n",
       "    </tr>\n",
       "  </thead>\n",
       "  <tbody>\n",
       "    <tr>\n",
       "      <th>1</th>\n",
       "      <td>Unknown</td>\n",
       "      <td>2.75</td>\n",
       "      <td>1</td>\n",
       "      <td>Коркем Tower</td>\n",
       "      <td>15.0000</td>\n",
       "      <td>1</td>\n",
       "      <td>42</td>\n",
       "      <td>21.0</td>\n",
       "      <td>6.0</td>\n",
       "      <td>7.0</td>\n",
       "      <td>22.0</td>\n",
       "    </tr>\n",
       "    <tr>\n",
       "      <th>2</th>\n",
       "      <td>черновая отделка</td>\n",
       "      <td>2.75</td>\n",
       "      <td>1</td>\n",
       "      <td>Unknown</td>\n",
       "      <td>8.3055</td>\n",
       "      <td>0</td>\n",
       "      <td>30</td>\n",
       "      <td>21.0</td>\n",
       "      <td>6.0</td>\n",
       "      <td>4.0</td>\n",
       "      <td>9.0</td>\n",
       "    </tr>\n",
       "    <tr>\n",
       "      <th>3</th>\n",
       "      <td>евроремонт</td>\n",
       "      <td>2.75</td>\n",
       "      <td>2</td>\n",
       "      <td>Нурсая Бонита</td>\n",
       "      <td>38.0000</td>\n",
       "      <td>7</td>\n",
       "      <td>87</td>\n",
       "      <td>42.0</td>\n",
       "      <td>12.0</td>\n",
       "      <td>4.0</td>\n",
       "      <td>10.0</td>\n",
       "    </tr>\n",
       "  </tbody>\n",
       "</table>\n",
       "</div>"
      ],
      "text/plain": [
       "         renovation  ceiling  rooms     house_name    price  house_age  \\\n",
       "1           Unknown     2.75      1   Коркем Tower  15.0000          1   \n",
       "2  черновая отделка     2.75      1        Unknown   8.3055          0   \n",
       "3        евроремонт     2.75      2  Нурсая Бонита  38.0000          7   \n",
       "\n",
       "   square_total  square_living  square_kitchen  floor_flat  floors_total  \n",
       "1            42           21.0             6.0         7.0          22.0  \n",
       "2            30           21.0             6.0         4.0           9.0  \n",
       "3            87           42.0            12.0         4.0          10.0  "
      ]
     },
     "execution_count": 50,
     "metadata": {},
     "output_type": "execute_result"
    }
   ],
   "source": [
    "data.drop([\"floor\", \"square\", \"year_built\"], axis=1, inplace=True)\n",
    "data.head(3)"
   ]
  },
  {
   "cell_type": "markdown",
   "metadata": {},
   "source": [
    "# Разведочный анализ"
   ]
  },
  {
   "cell_type": "code",
   "execution_count": 51,
   "metadata": {
    "ExecuteTime": {
     "end_time": "2020-06-23T06:22:55.092476Z",
     "start_time": "2020-06-23T06:22:55.070075Z"
    }
   },
   "outputs": [
    {
     "data": {
      "text/html": [
       "<div>\n",
       "<style scoped>\n",
       "    .dataframe tbody tr th:only-of-type {\n",
       "        vertical-align: middle;\n",
       "    }\n",
       "\n",
       "    .dataframe tbody tr th {\n",
       "        vertical-align: top;\n",
       "    }\n",
       "\n",
       "    .dataframe thead th {\n",
       "        text-align: right;\n",
       "    }\n",
       "</style>\n",
       "<table border=\"1\" class=\"dataframe\">\n",
       "  <thead>\n",
       "    <tr style=\"text-align: right;\">\n",
       "      <th></th>\n",
       "      <th>renovation</th>\n",
       "      <th>ceiling</th>\n",
       "      <th>rooms</th>\n",
       "      <th>house_name</th>\n",
       "      <th>price</th>\n",
       "      <th>house_age</th>\n",
       "      <th>square_total</th>\n",
       "      <th>square_living</th>\n",
       "      <th>square_kitchen</th>\n",
       "      <th>floor_flat</th>\n",
       "      <th>floors_total</th>\n",
       "      <th>price_square</th>\n",
       "    </tr>\n",
       "  </thead>\n",
       "  <tbody>\n",
       "    <tr>\n",
       "      <th>1</th>\n",
       "      <td>Unknown</td>\n",
       "      <td>2.75</td>\n",
       "      <td>1</td>\n",
       "      <td>Коркем Tower</td>\n",
       "      <td>15.0000</td>\n",
       "      <td>1</td>\n",
       "      <td>42</td>\n",
       "      <td>21.0</td>\n",
       "      <td>6.0</td>\n",
       "      <td>7.0</td>\n",
       "      <td>22.0</td>\n",
       "      <td>357142.86</td>\n",
       "    </tr>\n",
       "    <tr>\n",
       "      <th>2</th>\n",
       "      <td>черновая отделка</td>\n",
       "      <td>2.75</td>\n",
       "      <td>1</td>\n",
       "      <td>Unknown</td>\n",
       "      <td>8.3055</td>\n",
       "      <td>0</td>\n",
       "      <td>30</td>\n",
       "      <td>21.0</td>\n",
       "      <td>6.0</td>\n",
       "      <td>4.0</td>\n",
       "      <td>9.0</td>\n",
       "      <td>276850.00</td>\n",
       "    </tr>\n",
       "    <tr>\n",
       "      <th>3</th>\n",
       "      <td>евроремонт</td>\n",
       "      <td>2.75</td>\n",
       "      <td>2</td>\n",
       "      <td>Нурсая Бонита</td>\n",
       "      <td>38.0000</td>\n",
       "      <td>7</td>\n",
       "      <td>87</td>\n",
       "      <td>42.0</td>\n",
       "      <td>12.0</td>\n",
       "      <td>4.0</td>\n",
       "      <td>10.0</td>\n",
       "      <td>436781.61</td>\n",
       "    </tr>\n",
       "    <tr>\n",
       "      <th>4</th>\n",
       "      <td>хорошее</td>\n",
       "      <td>2.75</td>\n",
       "      <td>3</td>\n",
       "      <td>7 Бочек</td>\n",
       "      <td>24.0000</td>\n",
       "      <td>13</td>\n",
       "      <td>70</td>\n",
       "      <td>63.0</td>\n",
       "      <td>18.0</td>\n",
       "      <td>4.0</td>\n",
       "      <td>12.0</td>\n",
       "      <td>342857.14</td>\n",
       "    </tr>\n",
       "    <tr>\n",
       "      <th>5</th>\n",
       "      <td>Unknown</td>\n",
       "      <td>2.75</td>\n",
       "      <td>1</td>\n",
       "      <td>МЖК Астана</td>\n",
       "      <td>5.5980</td>\n",
       "      <td>-1</td>\n",
       "      <td>8</td>\n",
       "      <td>21.0</td>\n",
       "      <td>6.0</td>\n",
       "      <td>1.0</td>\n",
       "      <td>3.0</td>\n",
       "      <td>699750.00</td>\n",
       "    </tr>\n",
       "  </tbody>\n",
       "</table>\n",
       "</div>"
      ],
      "text/plain": [
       "         renovation  ceiling  rooms     house_name    price  house_age  \\\n",
       "1           Unknown     2.75      1   Коркем Tower  15.0000          1   \n",
       "2  черновая отделка     2.75      1        Unknown   8.3055          0   \n",
       "3        евроремонт     2.75      2  Нурсая Бонита  38.0000          7   \n",
       "4           хорошее     2.75      3        7 Бочек  24.0000         13   \n",
       "5           Unknown     2.75      1     МЖК Астана   5.5980         -1   \n",
       "\n",
       "   square_total  square_living  square_kitchen  floor_flat  floors_total  \\\n",
       "1            42           21.0             6.0         7.0          22.0   \n",
       "2            30           21.0             6.0         4.0           9.0   \n",
       "3            87           42.0            12.0         4.0          10.0   \n",
       "4            70           63.0            18.0         4.0          12.0   \n",
       "5             8           21.0             6.0         1.0           3.0   \n",
       "\n",
       "   price_square  \n",
       "1     357142.86  \n",
       "2     276850.00  \n",
       "3     436781.61  \n",
       "4     342857.14  \n",
       "5     699750.00  "
      ]
     },
     "execution_count": 51,
     "metadata": {},
     "output_type": "execute_result"
    }
   ],
   "source": [
    "data[\"price_square\"] = round(data[\"price\"] * 1000000 / data[\"square_total\"],2)\n",
    "data.head()"
   ]
  },
  {
   "cell_type": "code",
   "execution_count": 52,
   "metadata": {
    "ExecuteTime": {
     "end_time": "2020-06-23T06:23:00.423871Z",
     "start_time": "2020-06-23T06:23:00.403845Z"
    }
   },
   "outputs": [
    {
     "data": {
      "text/html": [
       "<div>\n",
       "<style scoped>\n",
       "    .dataframe tbody tr th:only-of-type {\n",
       "        vertical-align: middle;\n",
       "    }\n",
       "\n",
       "    .dataframe tbody tr th {\n",
       "        vertical-align: top;\n",
       "    }\n",
       "\n",
       "    .dataframe thead th {\n",
       "        text-align: right;\n",
       "    }\n",
       "</style>\n",
       "<table border=\"1\" class=\"dataframe\">\n",
       "  <thead>\n",
       "    <tr style=\"text-align: right;\">\n",
       "      <th></th>\n",
       "      <th>cnt</th>\n",
       "    </tr>\n",
       "  </thead>\n",
       "  <tbody>\n",
       "    <tr>\n",
       "      <th>Unknown</th>\n",
       "      <td>2592</td>\n",
       "    </tr>\n",
       "    <tr>\n",
       "      <th>Nova City</th>\n",
       "      <td>300</td>\n",
       "    </tr>\n",
       "    <tr>\n",
       "      <th>Венский квартал</th>\n",
       "      <td>151</td>\n",
       "    </tr>\n",
       "    <tr>\n",
       "      <th>Арнау</th>\n",
       "      <td>146</td>\n",
       "    </tr>\n",
       "    <tr>\n",
       "      <th>Adal</th>\n",
       "      <td>138</td>\n",
       "    </tr>\n",
       "    <tr>\n",
       "      <th>College</th>\n",
       "      <td>137</td>\n",
       "    </tr>\n",
       "    <tr>\n",
       "      <th>Manhattan</th>\n",
       "      <td>134</td>\n",
       "    </tr>\n",
       "    <tr>\n",
       "      <th>Panorama Park</th>\n",
       "      <td>134</td>\n",
       "    </tr>\n",
       "    <tr>\n",
       "      <th>Sezim Qala</th>\n",
       "      <td>133</td>\n",
       "    </tr>\n",
       "    <tr>\n",
       "      <th>Времена года. Лето</th>\n",
       "      <td>132</td>\n",
       "    </tr>\n",
       "    <tr>\n",
       "      <th>Only Sun</th>\n",
       "      <td>128</td>\n",
       "    </tr>\n",
       "    <tr>\n",
       "      <th>Crocus City</th>\n",
       "      <td>125</td>\n",
       "    </tr>\n",
       "    <tr>\n",
       "      <th>BI City Seoul</th>\n",
       "      <td>114</td>\n",
       "    </tr>\n",
       "    <tr>\n",
       "      <th>Аркада</th>\n",
       "      <td>106</td>\n",
       "    </tr>\n",
       "    <tr>\n",
       "      <th>Dream City</th>\n",
       "      <td>105</td>\n",
       "    </tr>\n",
       "  </tbody>\n",
       "</table>\n",
       "</div>"
      ],
      "text/plain": [
       "                     cnt\n",
       "Unknown             2592\n",
       "Nova City            300\n",
       "Венский квартал      151\n",
       "Арнау                146\n",
       "Adal                 138\n",
       "College              137\n",
       "Manhattan            134\n",
       "Panorama Park        134\n",
       "Sezim Qala           133\n",
       "Времена года. Лето   132\n",
       "Only Sun             128\n",
       "Crocus City          125\n",
       "BI City Seoul        114\n",
       "Аркада               106\n",
       "Dream City           105"
      ]
     },
     "execution_count": 52,
     "metadata": {},
     "output_type": "execute_result"
    }
   ],
   "source": [
    "data.house_name.value_counts().to_frame(\"cnt\").sort_values(by=\"cnt\" , ascending=False).head(15)"
   ]
  },
  {
   "cell_type": "code",
   "execution_count": 53,
   "metadata": {
    "ExecuteTime": {
     "end_time": "2020-06-23T06:23:42.283690Z",
     "start_time": "2020-06-23T06:23:42.273862Z"
    }
   },
   "outputs": [],
   "source": [
    "def vis_data(room_number):\n",
    "    table = data[data.rooms==room_number].groupby(\"house_name\").agg({\"price\": \"mean\"}).reset_index(\n",
    "    ).sort_values(by=\"price\", ascending=False).head(20)\n",
    "    plt.figure(figsize=(15,7))\n",
    "    sns.barplot(data=table, x=\"price\", y = \"house_name\")\n",
    "    \n",
    "    print(\"{} - комнатная\".format(room_number))\n",
    "    plt.figure(figsize=(15,3))\n",
    "    sns.boxplot(data=data[data.rooms==room_number][[\"price\"]], orient=\"h\")\n",
    "    \n",
    "    plt.show()\n",
    "    "
   ]
  },
  {
   "cell_type": "code",
   "execution_count": 56,
   "metadata": {
    "ExecuteTime": {
     "end_time": "2020-06-23T06:24:55.522716Z",
     "start_time": "2020-06-23T06:24:55.136208Z"
    }
   },
   "outputs": [
    {
     "name": "stdout",
     "output_type": "stream",
     "text": [
      "1 - комнатная\n"
     ]
    },
    {
     "data": {
      "image/png": "[encoded data removed]",
      "text/plain": [
       "<Figure size 1080x504 with 1 Axes>"
      ]
     },
     "metadata": {
      "needs_background": "light"
     },
     "output_type": "display_data"
    },
    {
     "data": {
      "image/png": "[encoded data removed]",
      "text/plain": [
       "<Figure size 1080x216 with 1 Axes>"
      ]
     },
     "metadata": {
      "needs_background": "light"
     },
     "output_type": "display_data"
    }
   ],
   "source": [
    "vis_data(1)"
   ]
  },
  {
   "cell_type": "markdown",
   "metadata": {},
   "source": [
    "# Моделирование и интерпретация результатов"
   ]
  },
  {
   "cell_type": "code",
   "execution_count": 57,
   "metadata": {
    "ExecuteTime": {
     "end_time": "2020-06-23T06:25:36.062370Z",
     "start_time": "2020-06-23T06:25:35.760996Z"
    }
   },
   "outputs": [],
   "source": [
    "from sklearn.linear_model import LinearRegression\n",
    "from sklearn.preprocessing import StandardScaler\n",
    "\n",
    "from sklearn.model_selection import train_test_split\n",
    "from sklearn.metrics import mean_squared_error"
   ]
  },
  {
   "cell_type": "code",
   "execution_count": 88,
   "metadata": {
    "ExecuteTime": {
     "end_time": "2020-06-23T05:20:08.161429Z",
     "start_time": "2020-06-23T05:20:08.156908Z"
    }
   },
   "outputs": [],
   "source": [
    "# data.info()"
   ]
  },
  {
   "cell_type": "code",
   "execution_count": 58,
   "metadata": {
    "ExecuteTime": {
     "end_time": "2020-06-23T06:26:09.283889Z",
     "start_time": "2020-06-23T06:26:09.277312Z"
    }
   },
   "outputs": [],
   "source": [
    "data.drop(\"house_name\", axis=1, inplace=True)"
   ]
  },
  {
   "cell_type": "code",
   "execution_count": 59,
   "metadata": {
    "ExecuteTime": {
     "end_time": "2020-06-23T06:26:14.265006Z",
     "start_time": "2020-06-23T06:26:14.243890Z"
    }
   },
   "outputs": [],
   "source": [
    "data.dropna(inplace=True)"
   ]
  },
  {
   "cell_type": "code",
   "execution_count": 60,
   "metadata": {
    "ExecuteTime": {
     "end_time": "2020-06-23T06:26:18.338666Z",
     "start_time": "2020-06-23T06:26:18.333135Z"
    }
   },
   "outputs": [],
   "source": [
    "scaler = StandardScaler()\n",
    "m_linear = LinearRegression()"
   ]
  },
  {
   "cell_type": "code",
   "execution_count": 61,
   "metadata": {
    "ExecuteTime": {
     "end_time": "2020-06-23T06:26:21.603946Z",
     "start_time": "2020-06-23T06:26:21.591076Z"
    }
   },
   "outputs": [],
   "source": [
    "data_renovation = pd.get_dummies(data[\"renovation\"])\n",
    "\n",
    "df = pd.concat([data, data_renovation], axis=1).drop(\"renovation\", axis=1)"
   ]
  },
  {
   "cell_type": "code",
   "execution_count": 62,
   "metadata": {
    "ExecuteTime": {
     "end_time": "2020-06-23T06:26:26.017353Z",
     "start_time": "2020-06-23T06:26:25.997467Z"
    }
   },
   "outputs": [
    {
     "data": {
      "text/html": [
       "<div>\n",
       "<style scoped>\n",
       "    .dataframe tbody tr th:only-of-type {\n",
       "        vertical-align: middle;\n",
       "    }\n",
       "\n",
       "    .dataframe tbody tr th {\n",
       "        vertical-align: top;\n",
       "    }\n",
       "\n",
       "    .dataframe thead th {\n",
       "        text-align: right;\n",
       "    }\n",
       "</style>\n",
       "<table border=\"1\" class=\"dataframe\">\n",
       "  <thead>\n",
       "    <tr style=\"text-align: right;\">\n",
       "      <th></th>\n",
       "      <th>ceiling</th>\n",
       "      <th>rooms</th>\n",
       "      <th>price</th>\n",
       "      <th>house_age</th>\n",
       "      <th>square_total</th>\n",
       "      <th>square_living</th>\n",
       "      <th>square_kitchen</th>\n",
       "      <th>floor_flat</th>\n",
       "      <th>floors_total</th>\n",
       "      <th>price_square</th>\n",
       "      <th>Unknown</th>\n",
       "      <th>евроремонт</th>\n",
       "      <th>свободная планировка</th>\n",
       "      <th>среднее</th>\n",
       "      <th>требует ремонта</th>\n",
       "      <th>хорошее</th>\n",
       "      <th>черновая отделка</th>\n",
       "    </tr>\n",
       "  </thead>\n",
       "  <tbody>\n",
       "    <tr>\n",
       "      <th>1</th>\n",
       "      <td>2.75</td>\n",
       "      <td>1</td>\n",
       "      <td>15.0000</td>\n",
       "      <td>1</td>\n",
       "      <td>42</td>\n",
       "      <td>21.0</td>\n",
       "      <td>6.0</td>\n",
       "      <td>7.0</td>\n",
       "      <td>22.0</td>\n",
       "      <td>357142.86</td>\n",
       "      <td>1</td>\n",
       "      <td>0</td>\n",
       "      <td>0</td>\n",
       "      <td>0</td>\n",
       "      <td>0</td>\n",
       "      <td>0</td>\n",
       "      <td>0</td>\n",
       "    </tr>\n",
       "    <tr>\n",
       "      <th>2</th>\n",
       "      <td>2.75</td>\n",
       "      <td>1</td>\n",
       "      <td>8.3055</td>\n",
       "      <td>0</td>\n",
       "      <td>30</td>\n",
       "      <td>21.0</td>\n",
       "      <td>6.0</td>\n",
       "      <td>4.0</td>\n",
       "      <td>9.0</td>\n",
       "      <td>276850.00</td>\n",
       "      <td>0</td>\n",
       "      <td>0</td>\n",
       "      <td>0</td>\n",
       "      <td>0</td>\n",
       "      <td>0</td>\n",
       "      <td>0</td>\n",
       "      <td>1</td>\n",
       "    </tr>\n",
       "    <tr>\n",
       "      <th>3</th>\n",
       "      <td>2.75</td>\n",
       "      <td>2</td>\n",
       "      <td>38.0000</td>\n",
       "      <td>7</td>\n",
       "      <td>87</td>\n",
       "      <td>42.0</td>\n",
       "      <td>12.0</td>\n",
       "      <td>4.0</td>\n",
       "      <td>10.0</td>\n",
       "      <td>436781.61</td>\n",
       "      <td>0</td>\n",
       "      <td>1</td>\n",
       "      <td>0</td>\n",
       "      <td>0</td>\n",
       "      <td>0</td>\n",
       "      <td>0</td>\n",
       "      <td>0</td>\n",
       "    </tr>\n",
       "  </tbody>\n",
       "</table>\n",
       "</div>"
      ],
      "text/plain": [
       "   ceiling  rooms    price  house_age  square_total  square_living  \\\n",
       "1     2.75      1  15.0000          1            42           21.0   \n",
       "2     2.75      1   8.3055          0            30           21.0   \n",
       "3     2.75      2  38.0000          7            87           42.0   \n",
       "\n",
       "   square_kitchen  floor_flat  floors_total  price_square  Unknown  \\\n",
       "1             6.0         7.0          22.0     357142.86        1   \n",
       "2             6.0         4.0           9.0     276850.00        0   \n",
       "3            12.0         4.0          10.0     436781.61        0   \n",
       "\n",
       "   евроремонт  свободная планировка  среднее  требует ремонта  хорошее  \\\n",
       "1           0                     0        0                0        0   \n",
       "2           0                     0        0                0        0   \n",
       "3           1                     0        0                0        0   \n",
       "\n",
       "   черновая отделка  \n",
       "1                 0  \n",
       "2                 1  \n",
       "3                 0  "
      ]
     },
     "execution_count": 62,
     "metadata": {},
     "output_type": "execute_result"
    }
   ],
   "source": [
    "df = df[df.price<150]\n",
    "df.head(3)"
   ]
  },
  {
   "cell_type": "code",
   "execution_count": 63,
   "metadata": {
    "ExecuteTime": {
     "end_time": "2020-06-23T06:26:31.545095Z",
     "start_time": "2020-06-23T06:26:31.538048Z"
    }
   },
   "outputs": [],
   "source": [
    "X = df.drop(\"price\", axis=1)\n",
    "y = df[\"price\"]"
   ]
  },
  {
   "cell_type": "code",
   "execution_count": 64,
   "metadata": {
    "ExecuteTime": {
     "end_time": "2020-06-23T06:26:50.541869Z",
     "start_time": "2020-06-23T06:26:50.528267Z"
    }
   },
   "outputs": [
    {
     "name": "stdout",
     "output_type": "stream",
     "text": [
      "(7632, 16) (1908, 16) (7632,) (1908,)\n"
     ]
    }
   ],
   "source": [
    "X_train, X_test, y_train, y_test = train_test_split(X, y, test_size=0.20)\n",
    "print(X_train.shape, X_test.shape, y_train.shape, y_test.shape)"
   ]
  },
  {
   "cell_type": "code",
   "execution_count": 65,
   "metadata": {
    "ExecuteTime": {
     "end_time": "2020-06-23T06:26:56.911264Z",
     "start_time": "2020-06-23T06:26:56.892855Z"
    }
   },
   "outputs": [
    {
     "data": {
      "text/plain": [
       "LinearRegression(copy_X=True, fit_intercept=True, n_jobs=None, normalize=False)"
      ]
     },
     "execution_count": 65,
     "metadata": {},
     "output_type": "execute_result"
    }
   ],
   "source": [
    "m_linear.fit(X_train, y_train)"
   ]
  },
  {
   "cell_type": "code",
   "execution_count": 92,
   "metadata": {
    "ExecuteTime": {
     "end_time": "2020-06-21T11:12:11.831084Z",
     "start_time": "2020-06-21T11:12:11.826510Z"
    }
   },
   "outputs": [],
   "source": [
    "## Результат"
   ]
  },
  {
   "cell_type": "code",
   "execution_count": 66,
   "metadata": {
    "ExecuteTime": {
     "end_time": "2020-06-23T06:27:03.092246Z",
     "start_time": "2020-06-23T06:27:02.958320Z"
    }
   },
   "outputs": [],
   "source": [
    "def model_scores(modelName):\n",
    "    y_pred = modelName.predict(X_test)\n",
    "    mse = \"RMSE: {:.4f}\".format(mean_squared_error(y_pred, y_test))\n",
    "    rmse = \"MSE: {:.4f}\".format(math.sqrt(mean_squared_error(y_pred, y_test)))\n",
    "    return mse, rmse\n",
    "\n",
    "y_pred = m_linear.predict(X_test)\n",
    "\n",
    "result = pd.DataFrame([y_pred, y_test.values]).T\n",
    "result.columns = [\"actual\", \"predicted\"]\n",
    "result = result.reset_index()\n",
    "result = pd.melt(result, id_vars=[\"index\"], value_vars=[\"actual\", \"predicted\"])"
   ]
  },
  {
   "cell_type": "code",
   "execution_count": 67,
   "metadata": {
    "ExecuteTime": {
     "end_time": "2020-06-23T06:27:09.035740Z",
     "start_time": "2020-06-23T06:27:09.026126Z"
    }
   },
   "outputs": [],
   "source": [
    "result = result.sort_values(by=\"index\").head(50)"
   ]
  },
  {
   "cell_type": "code",
   "execution_count": 68,
   "metadata": {
    "ExecuteTime": {
     "end_time": "2020-06-23T06:28:43.336955Z",
     "start_time": "2020-06-23T06:28:42.927746Z"
    }
   },
   "outputs": [
    {
     "data": {
      "image/png": "[encoded data removed]",
      "text/plain": [
       "<Figure size 1080x504 with 1 Axes>"
      ]
     },
     "metadata": {
      "needs_background": "light"
     },
     "output_type": "display_data"
    }
   ],
   "source": [
    "plt.figure(figsize=(15,7))\n",
    "sns.barplot(x=\"index\", hue=\"variable\", y=\"value\", data=result)\n",
    "plt.title(\"{}\".format(model_scores(m_linear)))\n",
    "plt.show()"
   ]
  },
  {
   "cell_type": "markdown",
   "metadata": {},
   "source": [
    "- [Mean Squared Error](http://scikit-learn.org/stable/modules/model_evaluation.html#mean-squared-error), используется в большинстве случаев, сильнее наказывает модель за большие ошибки и меньше - за маленькие (парабола), $[0, +\\infty)$\n",
    "\n",
    "$MSE = \\frac{1}{n}\\sum\\limits_{i=1}^{n} (y_i - \\hat{y}_i)^2$\n",
    "\n",
    "```python\n",
    "sklearn.metrics.mean_squared_error\n",
    "```\n",
    "---\n",
    "- [Mean Absolute Error](http://scikit-learn.org/stable/modules/model_evaluation.html#mean-absolute-error), интерпретируемая метрика, измеряется в тех же единицах, что и исходный ряд, $[0, +\\infty)$\n",
    "\n",
    "$MAE = \\frac{\\sum\\limits_{i=1}^{n} |y_i - \\hat{y}_i|}{n}$ \n",
    "\n",
    "```python\n",
    "sklearn.metrics.mean_absolute_error\n",
    "```\n",
    "---\n",
    "- [Median Absolute Error](http://scikit-learn.org/stable/modules/model_evaluation.html#median-absolute-error), также интерпретируемая метрика, однако её преимущество - нечувствительность (робастность) к выбросам в данных, $[0, +\\infty)$\n",
    "\n",
    "$MedAE = median(|y_1 - \\hat{y}_1|, ... , |y_n - \\hat{y}_n|)$\n",
    "\n",
    "```python\n",
    "sklearn.metrics.median_absolute_error\n",
    "```\n",
    "---\n",
    "\n",
    "- [Mean Squared Logarithmic Error](http://scikit-learn.org/stable/modules/model_evaluation.html#mean-squared-logarithmic-error), практически тоже самое, но значения предварительно логарифмируются, таким образом маленьким ошибкам также уделяется значительное внимание, обычно используется, если данным присущ экспоненциальный рост, $[0, +\\infty)$\n",
    "\n",
    "$MSLE = \\frac{1}{n}\\sum\\limits_{i=1}^{n} (log(1+y_i) - log(1+\\hat{y}_i))^2$\n",
    "\n",
    "```python\n",
    "sklearn.metrics.mean_squared_log_error\n",
    "```\n",
    "---\n",
    "- Mean Absolute Percentage Error, как MAE, только в процентах, - удобно для объяснения заказчику качества прогноза, $[0, +\\infty)$\n",
    "\n",
    "$MAPE = \\frac{100}{n}\\sum\\limits_{i=1}^{n} \\frac{|y_i - \\hat{y}_i|}{y_i}$ \n",
    "\n",
    "```python\n",
    "def mean_absolute_percentage_error(y_true, y_pred): \n",
    "    return np.mean(np.abs((y_true - y_pred) / y_true)) * 100\n",
    "```\n",
    "---\n",
    "- [R squared](http://scikit-learn.org/stable/modules/model_evaluation.html#r2-score-the-coefficient-of-determination), коэффициент детерминации (в эконометрике - доля объясненной моделью дисперсии), $(-\\infty, 1]$\n",
    "\n",
    "$R^2 = 1 - \\frac{SS_{res}}{SS_{tot}}$ \n",
    "\n",
    "```python\n",
    "sklearn.metrics.r2_score\n",
    "```\n",
    "---"
   ]
  },
  {
   "cell_type": "code",
   "execution_count": 69,
   "metadata": {
    "ExecuteTime": {
     "end_time": "2020-06-23T06:30:28.167709Z",
     "start_time": "2020-06-23T06:30:27.934836Z"
    }
   },
   "outputs": [
    {
     "data": {
      "image/png": "[encoded data removed]",
      "text/plain": [
       "<Figure size 1080x432 with 1 Axes>"
      ]
     },
     "metadata": {
      "needs_background": "light"
     },
     "output_type": "display_data"
    }
   ],
   "source": [
    "Importance = m_linear.coef_\n",
    "Columns = X_train.columns\n",
    "\n",
    "imp = pd.DataFrame([Columns, Importance]).T\n",
    "imp.columns = [\"feature\", \"coef\"]\n",
    "imp.sort_values(by=\"coef\", inplace=True, ascending=False)\n",
    "\n",
    "plt.figure(figsize=(15,6))\n",
    "sns.barplot(data=imp, x=\"coef\", y=\"feature\")\n",
    "plt.title(\"Важность параметров\")\n",
    "plt.show()"
   ]
  },
  {
   "cell_type": "markdown",
   "metadata": {
    "ExecuteTime": {
     "end_time": "2020-06-21T15:26:32.771187Z",
     "start_time": "2020-06-21T15:26:32.768364Z"
    }
   },
   "source": [
    "# MVP"
   ]
  },
  {
   "cell_type": "code",
   "execution_count": 70,
   "metadata": {
    "ExecuteTime": {
     "end_time": "2020-06-23T06:33:50.932368Z",
     "start_time": "2020-06-23T06:32:41.493586Z"
    }
   },
   "outputs": [
    {
     "name": "stdout",
     "output_type": "stream",
     "text": [
      "Высота потолка:2.7\n",
      "Колиество комнат:3\n",
      "Возраст дома:10\n",
      "Общая площадь:95\n",
      "Жилая площадь:55\n",
      "Площадь кухни:13.5\n",
      "Этаж:3\n",
      "Всего этажей:9\n"
     ]
    }
   ],
   "source": [
    "ceiling = input(\"Высота потолка:\")\n",
    "rooms = input(\"Колиество комнат:\")\n",
    "house_age = input(\"Возраст дома:\")\n",
    "square_total = input(\"Общая площадь:\")\n",
    "square_living = input(\"Жилая площадь:\")\n",
    "square_kitchen = input(\"Площадь кухни:\")\n",
    "floor_flat = input(\"Этаж:\")\n",
    "floors_total = input(\"Всего этажей:\")"
   ]
  },
  {
   "cell_type": "code",
   "execution_count": 71,
   "metadata": {
    "ExecuteTime": {
     "end_time": "2020-06-23T06:33:57.104353Z",
     "start_time": "2020-06-23T06:33:57.093524Z"
    }
   },
   "outputs": [
    {
     "name": "stdout",
     "output_type": "stream",
     "text": [
      "Рыночная стоимость вашего жилья около 37.67 млн. тенге\n"
     ]
    }
   ],
   "source": [
    "def price_estiamtor():\n",
    "    # Средний индекс цен в Есильском районе\n",
    "    price_square = 350000\n",
    "    input_data = np.array([ceiling, rooms, house_age, square_total, square_living,\n",
    "                    square_kitchen, floor_flat, floors_total, price_square])\n",
    "    # По умолчанию считаем, что состояние жилья хорошое\n",
    "    renovation_array = np.array([0, 0, 0, 0, 0, 1, 0])\n",
    "\n",
    "    arr = pd.DataFrame(np.concatenate((input_data, renovation_array))).T\n",
    "    arr.columns = X_test.columns\n",
    "\n",
    "    price_predicted = round(m_linear.predict(arr)[0], 2)\n",
    "    print('Рыночная стоимость вашего жилья около {} млн. тенге'.format(price_predicted))\n",
    "    \n",
    "price_estiamtor()"
   ]
  },
  {
   "cell_type": "code",
   "execution_count": null,
   "metadata": {},
   "outputs": [],
   "source": []
  }
 ],
 "metadata": {
  "kernelspec": {
   "display_name": "Python 3",
   "language": "python",
   "name": "python3"
  },
  "language_info": {
   "codemirror_mode": {
    "name": "ipython",
    "version": 3
   },
   "file_extension": ".py",
   "mimetype": "text/x-python",
   "name": "python",
   "nbconvert_exporter": "python",
   "pygments_lexer": "ipython3",
   "version": "3.7.3"
  },
  "toc": {
   "base_numbering": 1,
   "nav_menu": {},
   "number_sections": true,
   "sideBar": true,
   "skip_h1_title": false,
   "title_cell": "Table of Contents",
   "title_sidebar": "Contents",
   "toc_cell": false,
   "toc_position": {
    "height": "calc(100% - 180px)",
    "left": "10px",
    "top": "150px",
    "width": "287px"
   },
   "toc_section_display": true,
   "toc_window_display": true
  },
  "varInspector": {
   "cols": {
    "lenName": 16,
    "lenType": 16,
    "lenVar": 40
   },
   "kernels_config": {
    "python": {
     "delete_cmd_postfix": "",
     "delete_cmd_prefix": "del ",
     "library": "var_list.py",
     "varRefreshCmd": "print(var_dic_list())"
    },
    "r": {
     "delete_cmd_postfix": ") ",
     "delete_cmd_prefix": "rm(",
     "library": "var_list.r",
     "varRefreshCmd": "cat(var_dic_list()) "
    }
   },
   "types_to_exclude": [
    "module",
    "function",
    "builtin_function_or_method",
    "instance",
    "_Feature"
   ],
   "window_display": false
  }
 },
 "nbformat": 4,
 "nbformat_minor": 2
}
