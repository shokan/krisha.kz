{
 "cells": [
  {
   "cell_type": "code",
   "execution_count": 275,
   "metadata": {
    "ExecuteTime": {
     "end_time": "2020-05-21T10:24:26.760593Z",
     "start_time": "2020-05-21T10:24:26.756113Z"
    }
   },
   "outputs": [],
   "source": [
    "from bs4 import BeautifulSoup\n",
    "import requests\n",
    "from fake_useragent import UserAgent\n",
    "\n",
    "import pandas as pd\n",
    "import time\n",
    "import unidecode\n",
    "from tqdm import tqdm_notebook\n",
    "\n",
    "from ftfy import fix_text\n",
    "\n",
    "import pickle"
   ]
  },
  {
   "cell_type": "markdown",
   "metadata": {},
   "source": [
    "# Кроулер"
   ]
  },
  {
   "cell_type": "code",
   "execution_count": 266,
   "metadata": {
    "ExecuteTime": {
     "end_time": "2020-05-21T10:13:27.730102Z",
     "start_time": "2020-05-21T10:13:27.725060Z"
    }
   },
   "outputs": [],
   "source": [
    "main_link = \"https://krisha.kz/prodazha/kvartiry/astana-esilskij/?das[_sys.hasphoto]=1&das[checked]=1&das[novostroiki]=1&das[who]=1&page=\"\n",
    "page_link = \"https://krisha.kz/\""
   ]
  },
  {
   "cell_type": "code",
   "execution_count": 720,
   "metadata": {
    "ExecuteTime": {
     "end_time": "2020-05-22T04:02:10.083351Z",
     "start_time": "2020-05-22T04:02:09.712465Z"
    }
   },
   "outputs": [],
   "source": [
    "responce = requests.get(page_link, headers={'User-Agent': UserAgent().chrome})"
   ]
  },
  {
   "cell_type": "code",
   "execution_count": 4,
   "metadata": {
    "ExecuteTime": {
     "end_time": "2020-05-21T08:33:52.698454Z",
     "start_time": "2020-05-21T08:33:52.693719Z"
    }
   },
   "outputs": [],
   "source": [
    "def get_soup(page_link):\n",
    "    responce = requests.get(page_link, headers={'User-Agent': UserAgent().chrome})\n",
    "    soup = BeautifulSoup(responce.content, \"html.parser\")\n",
    "    return soup"
   ]
  },
  {
   "cell_type": "code",
   "execution_count": 5,
   "metadata": {
    "ExecuteTime": {
     "end_time": "2020-05-21T08:33:54.624069Z",
     "start_time": "2020-05-21T08:33:54.033098Z"
    }
   },
   "outputs": [],
   "source": [
    "soup = get_soup(main_link+str(2))"
   ]
  },
  {
   "cell_type": "code",
   "execution_count": 6,
   "metadata": {
    "ExecuteTime": {
     "end_time": "2020-05-21T08:33:55.351598Z",
     "start_time": "2020-05-21T08:33:55.329805Z"
    }
   },
   "outputs": [],
   "source": [
    "links_raw = soup.findAll(\"a\", attrs={\"a-card__title\"})"
   ]
  },
  {
   "cell_type": "code",
   "execution_count": 7,
   "metadata": {
    "ExecuteTime": {
     "end_time": "2020-05-21T08:33:56.035736Z",
     "start_time": "2020-05-21T08:33:56.032343Z"
    }
   },
   "outputs": [],
   "source": [
    "links = [i[\"href\"] for i in links_raw]"
   ]
  },
  {
   "cell_type": "code",
   "execution_count": 8,
   "metadata": {
    "ExecuteTime": {
     "end_time": "2020-05-21T08:33:56.837971Z",
     "start_time": "2020-05-21T08:33:56.833452Z"
    }
   },
   "outputs": [],
   "source": [
    "def get_links(page_number):\n",
    "    soup = get_soup(main_link+str(page_number))\n",
    "    links_raw = soup.findAll(\"a\", attrs={\"a-card__title\"})\n",
    "    links = [i[\"href\"] for i in links_raw]\n",
    "    return links"
   ]
  },
  {
   "cell_type": "code",
   "execution_count": 9,
   "metadata": {
    "ExecuteTime": {
     "end_time": "2020-05-21T08:33:58.323798Z",
     "start_time": "2020-05-21T08:33:57.879398Z"
    }
   },
   "outputs": [
    {
     "data": {
      "text/plain": [
       "['/a/show/57384754',\n",
       " '/a/show/57464356',\n",
       " '/a/show/56089229',\n",
       " '/a/show/55376811',\n",
       " '/a/show/57825571',\n",
       " '/a/show/56688229',\n",
       " '/a/show/57503858',\n",
       " '/a/show/57503879',\n",
       " '/a/show/57503772',\n",
       " '/a/show/57503826',\n",
       " '/a/show/57503793',\n",
       " '/a/show/57503872',\n",
       " '/a/show/55504624',\n",
       " '/a/show/57281498',\n",
       " '/a/show/57410926',\n",
       " '/a/show/57410626',\n",
       " '/a/show/57281611',\n",
       " '/a/show/57281581',\n",
       " '/a/show/57206703',\n",
       " '/a/show/57206245']"
      ]
     },
     "execution_count": 9,
     "metadata": {},
     "output_type": "execute_result"
    }
   ],
   "source": [
    "get_links(4)"
   ]
  },
  {
   "cell_type": "markdown",
   "metadata": {},
   "source": [
    "## Собираем ссылки"
   ]
  },
  {
   "cell_type": "code",
   "execution_count": 272,
   "metadata": {
    "ExecuteTime": {
     "end_time": "2020-05-21T10:23:31.988498Z",
     "start_time": "2020-05-21T10:23:31.981820Z"
    }
   },
   "outputs": [],
   "source": [
    "all_links = []\n",
    "for i in range(553):\n",
    "    links = get_links(i)\n",
    "    all_links.extend(links)\n",
    "\n",
    "all_links = list((set(all_links)))"
   ]
  },
  {
   "cell_type": "code",
   "execution_count": 274,
   "metadata": {
    "ExecuteTime": {
     "end_time": "2020-05-21T10:23:47.488223Z",
     "start_time": "2020-05-21T10:23:47.482779Z"
    }
   },
   "outputs": [
    {
     "data": {
      "text/plain": [
       "10802"
      ]
     },
     "execution_count": 274,
     "metadata": {},
     "output_type": "execute_result"
    }
   ],
   "source": [
    "len(all_links)"
   ]
  },
  {
   "cell_type": "markdown",
   "metadata": {},
   "source": [
    "## Сохроняем"
   ]
  },
  {
   "cell_type": "code",
   "execution_count": 276,
   "metadata": {
    "ExecuteTime": {
     "end_time": "2020-05-21T10:26:03.795358Z",
     "start_time": "2020-05-21T10:26:03.787390Z"
    }
   },
   "outputs": [],
   "source": [
    "with open('all_links.pkl', 'wb') as f:\n",
    "    pickle.dump(all_links, f)"
   ]
  },
  {
   "cell_type": "code",
   "execution_count": 277,
   "metadata": {
    "ExecuteTime": {
     "end_time": "2020-05-21T10:27:00.350047Z",
     "start_time": "2020-05-21T10:27:00.336767Z"
    }
   },
   "outputs": [],
   "source": [
    "with open('all_links.pkl', 'rb') as f:\n",
    "    lk = pickle.load(f)"
   ]
  },
  {
   "cell_type": "code",
   "execution_count": 279,
   "metadata": {
    "ExecuteTime": {
     "end_time": "2020-05-21T10:27:08.932571Z",
     "start_time": "2020-05-21T10:27:08.927528Z"
    }
   },
   "outputs": [],
   "source": [
    "# lk"
   ]
  },
  {
   "cell_type": "markdown",
   "metadata": {},
   "source": [
    "# Парсер"
   ]
  },
  {
   "cell_type": "code",
   "execution_count": 150,
   "metadata": {
    "ExecuteTime": {
     "end_time": "2020-05-21T09:18:59.372041Z",
     "start_time": "2020-05-21T09:18:59.111190Z"
    }
   },
   "outputs": [],
   "source": [
    "link = page_link+'a/show/57743274'\n",
    "main_soup = get_soup(\"https://krisha.kz/a/show/57300188\")"
   ]
  },
  {
   "cell_type": "markdown",
   "metadata": {},
   "source": [
    "## _get_price"
   ]
  },
  {
   "cell_type": "code",
   "execution_count": 254,
   "metadata": {
    "ExecuteTime": {
     "end_time": "2020-05-21T10:10:14.976865Z",
     "start_time": "2020-05-21T10:10:14.959336Z"
    }
   },
   "outputs": [
    {
     "data": {
      "text/plain": [
       "35000000"
      ]
     },
     "execution_count": 254,
     "metadata": {},
     "output_type": "execute_result"
    }
   ],
   "source": [
    "def _get_price(main_soup):\n",
    "    try:\n",
    "        price = main_soup.find(\"div\", attrs={'class': 'offer__price'}).text\n",
    "        price = fix_text(price, normalization='NFKC')\n",
    "        price = price.replace(\"〒\", \"\").strip()\n",
    "        price = price.replace(\" \", \"\").strip()\n",
    "        price = int(price)\n",
    "    except:\n",
    "        price = np.nan\n",
    "    return price\n",
    "\n",
    "_get_price(main_soup)"
   ]
  },
  {
   "cell_type": "markdown",
   "metadata": {},
   "source": [
    "## _get_rooms"
   ]
  },
  {
   "cell_type": "code",
   "execution_count": 256,
   "metadata": {
    "ExecuteTime": {
     "end_time": "2020-05-21T10:10:41.726162Z",
     "start_time": "2020-05-21T10:10:41.711649Z"
    }
   },
   "outputs": [
    {
     "data": {
      "text/plain": [
       "2"
      ]
     },
     "execution_count": 256,
     "metadata": {},
     "output_type": "execute_result"
    }
   ],
   "source": [
    "def _get_rooms(main_soup):\n",
    "    try:\n",
    "        tittle = main_soup.find(\"h1\")\n",
    "        tittle = tittle.text.strip()\n",
    "        tittle = tittle.split(\",\")[0]\n",
    "        tittle = tittle.replace(\"-комнатная квартира\", \"\")\n",
    "        tittle = int(tittle)\n",
    "    except:\n",
    "        tittle = np.nan\n",
    "    return tittle\n",
    "\n",
    "_get_rooms(main_soup)"
   ]
  },
  {
   "cell_type": "markdown",
   "metadata": {},
   "source": [
    "## _get_house_name"
   ]
  },
  {
   "cell_type": "code",
   "execution_count": 257,
   "metadata": {
    "ExecuteTime": {
     "end_time": "2020-05-21T10:10:46.289308Z",
     "start_time": "2020-05-21T10:10:46.280966Z"
    }
   },
   "outputs": [
    {
     "data": {
      "text/plain": [
       "'Park Avenue Exclusive'"
      ]
     },
     "execution_count": 257,
     "metadata": {},
     "output_type": "execute_result"
    }
   ],
   "source": [
    "def _get_house_name(main_soup):\n",
    "    try:\n",
    "        house_name = main_soup.find(\"div\", attrs={'data-name': 'map.complex'})\n",
    "        house_name = house_name.text.replace(\"Жилой комплекс\", \"\").strip()\n",
    "    except:\n",
    "        house_name = np.nan\n",
    "    return house_name\n",
    "\n",
    "_get_house_name(main_soup)"
   ]
  },
  {
   "cell_type": "markdown",
   "metadata": {
    "ExecuteTime": {
     "end_time": "2020-05-21T09:19:17.111069Z",
     "start_time": "2020-05-21T09:19:17.102861Z"
    }
   },
   "source": [
    "## _get_square"
   ]
  },
  {
   "cell_type": "code",
   "execution_count": 289,
   "metadata": {
    "ExecuteTime": {
     "end_time": "2020-05-21T10:34:14.019529Z",
     "start_time": "2020-05-21T10:34:14.011934Z"
    }
   },
   "outputs": [
    {
     "data": {
      "text/plain": [
       "[66, 12]"
      ]
     },
     "execution_count": 289,
     "metadata": {},
     "output_type": "execute_result"
    }
   ],
   "source": [
    "def _get_square(main_soup):\n",
    "    try:\n",
    "        square = main_soup.find(\"div\", {\"data-name\": \"live.square\"}).text\n",
    "        square = [int(s) for s in square.split() if s.isdigit()]\n",
    "    except:\n",
    "        square = np.nan\n",
    "    \n",
    "    return square\n",
    "\n",
    "_get_square(main_soup)"
   ]
  },
  {
   "cell_type": "markdown",
   "metadata": {},
   "source": [
    "## _get_ceiling"
   ]
  },
  {
   "cell_type": "code",
   "execution_count": 259,
   "metadata": {
    "ExecuteTime": {
     "end_time": "2020-05-21T10:11:04.677325Z",
     "start_time": "2020-05-21T10:11:04.659092Z"
    }
   },
   "outputs": [
    {
     "data": {
      "text/plain": [
       "nan"
      ]
     },
     "execution_count": 259,
     "metadata": {},
     "output_type": "execute_result"
    }
   ],
   "source": [
    "def _get_ceiling(main_soup):\n",
    "    try:\n",
    "        ceiling = main_soup.find(\"div\", {\"data-name\": \"ceiling\"})\n",
    "        ceiling = ceiling.text.replace(\"Потолки\", \"\").replace(\"м\", \"\").strip()\n",
    "        ceiling = int(ceiling)\n",
    "    except:\n",
    "        ceiling = np.nan\n",
    "    return ceiling\n",
    "\n",
    "_get_ceiling(main_soup)"
   ]
  },
  {
   "cell_type": "markdown",
   "metadata": {},
   "source": [
    "## _get_year_built"
   ]
  },
  {
   "cell_type": "code",
   "execution_count": 260,
   "metadata": {
    "ExecuteTime": {
     "end_time": "2020-05-21T10:11:09.221551Z",
     "start_time": "2020-05-21T10:11:09.212234Z"
    }
   },
   "outputs": [
    {
     "data": {
      "text/plain": [
       "2019"
      ]
     },
     "execution_count": 260,
     "metadata": {},
     "output_type": "execute_result"
    }
   ],
   "source": [
    "def _get_year_built(main_soup):\n",
    "    try:\n",
    "        year_built = main_soup.find(\"div\", {\"data-name\": \"flat.building\"}).text\n",
    "        year_built = [int(s) for s in year_built.split() if s.isdigit()][0]\n",
    "    except:\n",
    "        year_built = np.nan\n",
    "    return year_built\n",
    "\n",
    "_get_year_built(main_soup)"
   ]
  },
  {
   "cell_type": "markdown",
   "metadata": {},
   "source": [
    "## _get_floor"
   ]
  },
  {
   "cell_type": "code",
   "execution_count": 293,
   "metadata": {
    "ExecuteTime": {
     "end_time": "2020-05-21T10:34:59.246122Z",
     "start_time": "2020-05-21T10:34:59.238069Z"
    }
   },
   "outputs": [
    {
     "data": {
      "text/plain": [
       "['3', '14']"
      ]
     },
     "execution_count": 293,
     "metadata": {},
     "output_type": "execute_result"
    }
   ],
   "source": [
    "def _get_floor(main_soup):\n",
    "    try:\n",
    "        floor = main_soup.find(\"div\", {\"data-name\": \"flat.floor\"})\n",
    "        floor = floor.text.replace(\"Этаж\", \"\").strip().split(\" из \")\n",
    "    except:\n",
    "        floor = np.nan\n",
    "        \n",
    "    return floor\n",
    "\n",
    "_get_floor(main_soup)"
   ]
  },
  {
   "cell_type": "markdown",
   "metadata": {},
   "source": [
    "## _get_renovation"
   ]
  },
  {
   "cell_type": "code",
   "execution_count": 262,
   "metadata": {
    "ExecuteTime": {
     "end_time": "2020-05-21T10:11:25.837473Z",
     "start_time": "2020-05-21T10:11:25.824472Z"
    }
   },
   "outputs": [
    {
     "data": {
      "text/plain": [
       "'евроремонт'"
      ]
     },
     "execution_count": 262,
     "metadata": {},
     "output_type": "execute_result"
    }
   ],
   "source": [
    "def _get_renovation(main_soup):\n",
    "    try:\n",
    "        renovation = main_soup.find(\"div\", {\"data-name\": \"flat.renovation\"})\n",
    "        renovation = renovation.text.replace(\"Состояние\", \"\").strip()\n",
    "    except:\n",
    "        renovation = np.nan\n",
    "    return renovation\n",
    "\n",
    "_get_renovation(main_soup)"
   ]
  },
  {
   "cell_type": "markdown",
   "metadata": {},
   "source": [
    "## _get_priv_dorm"
   ]
  },
  {
   "cell_type": "code",
   "execution_count": 263,
   "metadata": {
    "ExecuteTime": {
     "end_time": "2020-05-21T10:11:28.376949Z",
     "start_time": "2020-05-21T10:11:28.362894Z"
    }
   },
   "outputs": [
    {
     "data": {
      "text/plain": [
       "nan"
      ]
     },
     "execution_count": 263,
     "metadata": {},
     "output_type": "execute_result"
    }
   ],
   "source": [
    "def _get_priv_dorm(main_soup):\n",
    "    try:\n",
    "        priv_dorm = main_soup.find(\"div\", {\"data-name\": \"flat.priv_dorm\"})\n",
    "        priv_dorm = priv_dorm.text.replace(\"В прив. общежитии\", \"\").strip()\n",
    "    except:\n",
    "        priv_dorm = np.nan\n",
    "    return priv_dorm\n",
    "\n",
    "_get_priv_dorm(main_soup)"
   ]
  },
  {
   "cell_type": "markdown",
   "metadata": {},
   "source": [
    "# Сбор данных"
   ]
  },
  {
   "cell_type": "code",
   "execution_count": 306,
   "metadata": {
    "ExecuteTime": {
     "end_time": "2020-05-21T12:13:13.284609Z",
     "start_time": "2020-05-21T12:13:13.278382Z"
    }
   },
   "outputs": [],
   "source": [
    "def get_page_info(link):\n",
    "    main_soup = get_soup(page_link + link)\n",
    "    \n",
    "    price = _get_price(main_soup)\n",
    "    priv_dorm = _get_priv_dorm(main_soup)\n",
    "    renovation = _get_renovation(main_soup)\n",
    "    floor = _get_floor(main_soup)\n",
    "    year_built = _get_year_built(main_soup)\n",
    "    ceiling= _get_ceiling(main_soup)\n",
    "    square = _get_square(main_soup)\n",
    "    rooms = _get_rooms(main_soup)\n",
    "    house_name = _get_house_name(main_soup)\n",
    "    \n",
    "    \n",
    "    info = {\n",
    "        'price': price,\n",
    "        'priv_dorm':priv_dorm,\n",
    "        'renovation':renovation,\n",
    "        'floor':floor,\n",
    "        'year_built':year_built,\n",
    "        'ceiling':ceiling,\n",
    "        'square':square,\n",
    "        'rooms':rooms,\n",
    "        'house_name':house_name,\n",
    "    }\n",
    "    \n",
    "    return info"
   ]
  },
  {
   "cell_type": "code",
   "execution_count": 307,
   "metadata": {
    "ExecuteTime": {
     "end_time": "2020-05-21T12:13:14.869044Z",
     "start_time": "2020-05-21T12:13:14.602973Z"
    }
   },
   "outputs": [
    {
     "data": {
      "text/plain": [
       "{'price': 35000000,\n",
       " 'priv_dorm': nan,\n",
       " 'renovation': 'евроремонт',\n",
       " 'floor': ['3', '14'],\n",
       " 'year_built': 2019,\n",
       " 'ceiling': nan,\n",
       " 'square': [66, 12],\n",
       " 'rooms': 2,\n",
       " 'house_name': 'Park Avenue Exclusive'}"
      ]
     },
     "execution_count": 307,
     "metadata": {},
     "output_type": "execute_result"
    }
   ],
   "source": [
    "get_page_info('/a/show/57300188')"
   ]
  },
  {
   "cell_type": "code",
   "execution_count": 308,
   "metadata": {
    "ExecuteTime": {
     "end_time": "2020-05-21T13:20:53.152581Z",
     "start_time": "2020-05-21T12:13:16.949759Z"
    }
   },
   "outputs": [
    {
     "data": {
      "application/vnd.jupyter.widget-view+json": {
       "model_id": "45b2af31e5f9493b9577bde7c1b79e72",
       "version_major": 2,
       "version_minor": 0
      },
      "text/plain": [
       "HBox(children=(IntProgress(value=0, max=10802), HTML(value='')))"
      ]
     },
     "metadata": {},
     "output_type": "display_data"
    },
    {
     "name": "stdout",
     "output_type": "stream",
     "text": [
      "\n"
     ]
    }
   ],
   "source": [
    "news_dataset = pd.DataFrame(columns=['priv_dorm', 'renovation', 'floor', 'year_built', 'ceiling', 'square', 'rooms', 'house_name'])\n",
    "\n",
    "for link in tqdm_notebook(all_links):\n",
    "    news_dataset = news_dataset.append(get_page_info(link), ignore_index=True)\n",
    "    time.sleep(0.1)"
   ]
  },
  {
   "cell_type": "code",
   "execution_count": 354,
   "metadata": {
    "ExecuteTime": {
     "end_time": "2020-05-21T13:48:34.645554Z",
     "start_time": "2020-05-21T13:48:34.611126Z"
    }
   },
   "outputs": [],
   "source": [
    "news_dataset.to_pickle(\"news_dataset.pkl\")"
   ]
  },
  {
   "cell_type": "markdown",
   "metadata": {},
   "source": [
    "# Data cleaning"
   ]
  },
  {
   "cell_type": "code",
   "execution_count": 504,
   "metadata": {
    "ExecuteTime": {
     "end_time": "2020-05-21T15:02:16.323400Z",
     "start_time": "2020-05-21T15:02:16.313269Z"
    }
   },
   "outputs": [],
   "source": [
    "data = news_dataset.copy()"
   ]
  },
  {
   "cell_type": "code",
   "execution_count": 505,
   "metadata": {
    "ExecuteTime": {
     "end_time": "2020-05-21T15:02:17.141943Z",
     "start_time": "2020-05-21T15:02:17.134371Z"
    }
   },
   "outputs": [],
   "source": [
    "data.price = data.price / 1000000"
   ]
  },
  {
   "cell_type": "code",
   "execution_count": 506,
   "metadata": {
    "ExecuteTime": {
     "end_time": "2020-05-21T15:02:21.963766Z",
     "start_time": "2020-05-21T15:02:21.956290Z"
    }
   },
   "outputs": [],
   "source": [
    "data = data[data.price.isna()==False]"
   ]
  },
  {
   "cell_type": "code",
   "execution_count": 507,
   "metadata": {
    "ExecuteTime": {
     "end_time": "2020-05-21T15:02:45.036825Z",
     "start_time": "2020-05-21T15:02:45.017821Z"
    }
   },
   "outputs": [
    {
     "data": {
      "text/html": [
       "<div>\n",
       "<style scoped>\n",
       "    .dataframe tbody tr th:only-of-type {\n",
       "        vertical-align: middle;\n",
       "    }\n",
       "\n",
       "    .dataframe tbody tr th {\n",
       "        vertical-align: top;\n",
       "    }\n",
       "\n",
       "    .dataframe thead th {\n",
       "        text-align: right;\n",
       "    }\n",
       "</style>\n",
       "<table border=\"1\" class=\"dataframe\">\n",
       "  <thead>\n",
       "    <tr style=\"text-align: right;\">\n",
       "      <th></th>\n",
       "      <th>priv_dorm</th>\n",
       "      <th>renovation</th>\n",
       "      <th>floor</th>\n",
       "      <th>year_built</th>\n",
       "      <th>ceiling</th>\n",
       "      <th>square</th>\n",
       "      <th>rooms</th>\n",
       "      <th>house_name</th>\n",
       "      <th>price</th>\n",
       "    </tr>\n",
       "  </thead>\n",
       "  <tbody>\n",
       "    <tr>\n",
       "      <th>1</th>\n",
       "      <td>NaN</td>\n",
       "      <td>NaN</td>\n",
       "      <td>[7, 22]</td>\n",
       "      <td>2019</td>\n",
       "      <td>NaN</td>\n",
       "      <td>[42]</td>\n",
       "      <td>1</td>\n",
       "      <td>Коркем Tower</td>\n",
       "      <td>15.0000</td>\n",
       "    </tr>\n",
       "    <tr>\n",
       "      <th>2</th>\n",
       "      <td>NaN</td>\n",
       "      <td>черновая отделка</td>\n",
       "      <td>[4, 9]</td>\n",
       "      <td>2020</td>\n",
       "      <td>NaN</td>\n",
       "      <td>[]</td>\n",
       "      <td>1</td>\n",
       "      <td>NaN</td>\n",
       "      <td>8.3055</td>\n",
       "    </tr>\n",
       "    <tr>\n",
       "      <th>3</th>\n",
       "      <td>NaN</td>\n",
       "      <td>евроремонт</td>\n",
       "      <td>[4, 10]</td>\n",
       "      <td>2013</td>\n",
       "      <td>NaN</td>\n",
       "      <td>[87]</td>\n",
       "      <td>2</td>\n",
       "      <td>Нурсая Бонита</td>\n",
       "      <td>38.0000</td>\n",
       "    </tr>\n",
       "    <tr>\n",
       "      <th>4</th>\n",
       "      <td>NaN</td>\n",
       "      <td>хорошее</td>\n",
       "      <td>[4, 12]</td>\n",
       "      <td>2007</td>\n",
       "      <td>NaN</td>\n",
       "      <td>[70]</td>\n",
       "      <td>3</td>\n",
       "      <td>7 Бочек</td>\n",
       "      <td>24.0000</td>\n",
       "    </tr>\n",
       "    <tr>\n",
       "      <th>5</th>\n",
       "      <td>NaN</td>\n",
       "      <td>NaN</td>\n",
       "      <td>[1, 3]</td>\n",
       "      <td>2021</td>\n",
       "      <td>NaN</td>\n",
       "      <td>[8]</td>\n",
       "      <td>1</td>\n",
       "      <td>МЖК Астана</td>\n",
       "      <td>5.5980</td>\n",
       "    </tr>\n",
       "  </tbody>\n",
       "</table>\n",
       "</div>"
      ],
      "text/plain": [
       "  priv_dorm        renovation    floor year_built ceiling square rooms  \\\n",
       "1       NaN               NaN  [7, 22]       2019     NaN   [42]     1   \n",
       "2       NaN  черновая отделка   [4, 9]       2020     NaN     []     1   \n",
       "3       NaN        евроремонт  [4, 10]       2013     NaN   [87]     2   \n",
       "4       NaN           хорошее  [4, 12]       2007     NaN   [70]     3   \n",
       "5       NaN               NaN   [1, 3]       2021     NaN    [8]     1   \n",
       "\n",
       "      house_name    price  \n",
       "1   Коркем Tower  15.0000  \n",
       "2            NaN   8.3055  \n",
       "3  Нурсая Бонита  38.0000  \n",
       "4        7 Бочек  24.0000  \n",
       "5     МЖК Астана   5.5980  "
      ]
     },
     "execution_count": 507,
     "metadata": {},
     "output_type": "execute_result"
    }
   ],
   "source": [
    "data.head()"
   ]
  },
  {
   "cell_type": "code",
   "execution_count": 508,
   "metadata": {
    "ExecuteTime": {
     "end_time": "2020-05-21T15:02:50.029771Z",
     "start_time": "2020-05-21T15:02:50.022105Z"
    }
   },
   "outputs": [
    {
     "data": {
      "text/plain": [
       "(10534, 9)"
      ]
     },
     "execution_count": 508,
     "metadata": {},
     "output_type": "execute_result"
    }
   ],
   "source": [
    "data.shape"
   ]
  },
  {
   "cell_type": "code",
   "execution_count": 509,
   "metadata": {
    "ExecuteTime": {
     "end_time": "2020-05-21T15:02:52.369689Z",
     "start_time": "2020-05-21T15:02:52.358121Z"
    }
   },
   "outputs": [
    {
     "data": {
      "text/plain": [
       "3     922\n",
       "28      1\n",
       "5       1\n",
       "Name: ceiling, dtype: int64"
      ]
     },
     "execution_count": 509,
     "metadata": {},
     "output_type": "execute_result"
    }
   ],
   "source": [
    "news_dataset.ceiling.value_counts()"
   ]
  },
  {
   "cell_type": "code",
   "execution_count": 510,
   "metadata": {
    "ExecuteTime": {
     "end_time": "2020-05-21T15:03:01.948328Z",
     "start_time": "2020-05-21T15:03:00.859547Z"
    }
   },
   "outputs": [],
   "source": [
    "data.square.fillna(\"[]\", inplace=True)\n",
    "data.floor.fillna(\"[]\", inplace=True)"
   ]
  },
  {
   "cell_type": "code",
   "execution_count": 562,
   "metadata": {
    "ExecuteTime": {
     "end_time": "2020-05-21T15:26:05.304860Z",
     "start_time": "2020-05-21T15:26:04.106732Z"
    }
   },
   "outputs": [],
   "source": [
    "square_total, square_living, square_kitchen = [], [], []\n",
    "for ind, row in data.iterrows():\n",
    "    if \"]\" in row[\"square\"]:\n",
    "        i = []\n",
    "    else:\n",
    "        i = row[\"square\"]\n",
    "        j = int(row[\"rooms\"]) * 30\n",
    "    square_n = len(i)\n",
    "    if square_n==0:\n",
    "        square_total.append(j)\n",
    "        square_living.append(j * 70 / 100)\n",
    "        square_kitchen.append(j * 20 / 100)\n",
    "    elif square_n==1:\n",
    "        square_total.append(val)\n",
    "        square_living.append(j * 70 / 100)\n",
    "        square_kitchen.append(j * 20 / 100)\n",
    "    elif square_n==2:\n",
    "        val0 = int()\n",
    "        val1 = i[1]\n",
    "        square_total.append(val0)\n",
    "        square_living.append(val1)\n",
    "        square_kitchen.append(j * 20 / 100)\n",
    "    elif square_n==3:\n",
    "        square_total.append(i[0])\n",
    "        square_living.append(i[1])\n",
    "        square_kitchen.append(i[2])\n",
    "        \n",
    "data[\"square_total\"] = square_total\n",
    "data[\"square_living\"] = square_living\n",
    "data[\"square_kitchen\"] = square_kitchen"
   ]
  },
  {
   "cell_type": "code",
   "execution_count": 575,
   "metadata": {
    "ExecuteTime": {
     "end_time": "2020-05-21T15:29:03.779655Z",
     "start_time": "2020-05-21T15:29:03.747656Z"
    }
   },
   "outputs": [],
   "source": [
    "floor_flat, floors_total = [], []\n",
    "for i in data.floor:\n",
    "    if i == '[]':\n",
    "        i = []\n",
    "    floor_n = len(i)\n",
    "    if floor_n == 0:\n",
    "        floor_flat.append(np.nan)\n",
    "        floors_total.append(np.nan)\n",
    "    elif floor_n==1:\n",
    "        floor_flat.append(int(i[0]))\n",
    "        floors_total.append(np.nan)\n",
    "    elif floor_n==2:\n",
    "        floor_flat.append(int(i[0]))\n",
    "        floors_total.append(int(i[1]))\n",
    "        \n",
    "data[\"floor_flat\"] = floor_flat\n",
    "data[\"floors_total\"] = floors_total"
   ]
  },
  {
   "cell_type": "code",
   "execution_count": 576,
   "metadata": {
    "ExecuteTime": {
     "end_time": "2020-05-21T15:29:05.116610Z",
     "start_time": "2020-05-21T15:29:05.096285Z"
    }
   },
   "outputs": [
    {
     "data": {
      "text/html": [
       "<div>\n",
       "<style scoped>\n",
       "    .dataframe tbody tr th:only-of-type {\n",
       "        vertical-align: middle;\n",
       "    }\n",
       "\n",
       "    .dataframe tbody tr th {\n",
       "        vertical-align: top;\n",
       "    }\n",
       "\n",
       "    .dataframe thead th {\n",
       "        text-align: right;\n",
       "    }\n",
       "</style>\n",
       "<table border=\"1\" class=\"dataframe\">\n",
       "  <thead>\n",
       "    <tr style=\"text-align: right;\">\n",
       "      <th></th>\n",
       "      <th>priv_dorm</th>\n",
       "      <th>renovation</th>\n",
       "      <th>floor</th>\n",
       "      <th>year_built</th>\n",
       "      <th>ceiling</th>\n",
       "      <th>square</th>\n",
       "      <th>rooms</th>\n",
       "      <th>house_name</th>\n",
       "      <th>price</th>\n",
       "      <th>square_total</th>\n",
       "      <th>square_living</th>\n",
       "      <th>square_kitchen</th>\n",
       "      <th>floor_flat</th>\n",
       "      <th>floors_total</th>\n",
       "      <th>house_age</th>\n",
       "    </tr>\n",
       "  </thead>\n",
       "  <tbody>\n",
       "    <tr>\n",
       "      <th>1</th>\n",
       "      <td>NaN</td>\n",
       "      <td>Unknown</td>\n",
       "      <td>[7, 22]</td>\n",
       "      <td>2019</td>\n",
       "      <td>2.75</td>\n",
       "      <td>[42]</td>\n",
       "      <td>1</td>\n",
       "      <td>Коркем Tower</td>\n",
       "      <td>15.0000</td>\n",
       "      <td>61</td>\n",
       "      <td>21.0</td>\n",
       "      <td>6.0</td>\n",
       "      <td>7.0</td>\n",
       "      <td>22.0</td>\n",
       "      <td>1</td>\n",
       "    </tr>\n",
       "    <tr>\n",
       "      <th>2</th>\n",
       "      <td>NaN</td>\n",
       "      <td>черновая отделка</td>\n",
       "      <td>[4, 9]</td>\n",
       "      <td>2020</td>\n",
       "      <td>2.75</td>\n",
       "      <td>[]</td>\n",
       "      <td>1</td>\n",
       "      <td>Unknown</td>\n",
       "      <td>8.3055</td>\n",
       "      <td>30</td>\n",
       "      <td>21.0</td>\n",
       "      <td>6.0</td>\n",
       "      <td>4.0</td>\n",
       "      <td>9.0</td>\n",
       "      <td>0</td>\n",
       "    </tr>\n",
       "    <tr>\n",
       "      <th>3</th>\n",
       "      <td>NaN</td>\n",
       "      <td>евроремонт</td>\n",
       "      <td>[4, 10]</td>\n",
       "      <td>2013</td>\n",
       "      <td>2.75</td>\n",
       "      <td>[87]</td>\n",
       "      <td>2</td>\n",
       "      <td>Нурсая Бонита</td>\n",
       "      <td>38.0000</td>\n",
       "      <td>61</td>\n",
       "      <td>42.0</td>\n",
       "      <td>12.0</td>\n",
       "      <td>4.0</td>\n",
       "      <td>10.0</td>\n",
       "      <td>7</td>\n",
       "    </tr>\n",
       "    <tr>\n",
       "      <th>4</th>\n",
       "      <td>NaN</td>\n",
       "      <td>хорошее</td>\n",
       "      <td>[4, 12]</td>\n",
       "      <td>2007</td>\n",
       "      <td>2.75</td>\n",
       "      <td>[70]</td>\n",
       "      <td>3</td>\n",
       "      <td>7 Бочек</td>\n",
       "      <td>24.0000</td>\n",
       "      <td>61</td>\n",
       "      <td>63.0</td>\n",
       "      <td>18.0</td>\n",
       "      <td>4.0</td>\n",
       "      <td>12.0</td>\n",
       "      <td>13</td>\n",
       "    </tr>\n",
       "    <tr>\n",
       "      <th>5</th>\n",
       "      <td>NaN</td>\n",
       "      <td>Unknown</td>\n",
       "      <td>[1, 3]</td>\n",
       "      <td>2021</td>\n",
       "      <td>2.75</td>\n",
       "      <td>[8]</td>\n",
       "      <td>1</td>\n",
       "      <td>МЖК Астана</td>\n",
       "      <td>5.5980</td>\n",
       "      <td>61</td>\n",
       "      <td>21.0</td>\n",
       "      <td>6.0</td>\n",
       "      <td>1.0</td>\n",
       "      <td>3.0</td>\n",
       "      <td>-1</td>\n",
       "    </tr>\n",
       "  </tbody>\n",
       "</table>\n",
       "</div>"
      ],
      "text/plain": [
       "  priv_dorm        renovation    floor  year_built  ceiling square  rooms  \\\n",
       "1       NaN           Unknown  [7, 22]        2019     2.75   [42]      1   \n",
       "2       NaN  черновая отделка   [4, 9]        2020     2.75     []      1   \n",
       "3       NaN        евроремонт  [4, 10]        2013     2.75   [87]      2   \n",
       "4       NaN           хорошее  [4, 12]        2007     2.75   [70]      3   \n",
       "5       NaN           Unknown   [1, 3]        2021     2.75    [8]      1   \n",
       "\n",
       "      house_name    price  square_total  square_living  square_kitchen  \\\n",
       "1   Коркем Tower  15.0000            61           21.0             6.0   \n",
       "2        Unknown   8.3055            30           21.0             6.0   \n",
       "3  Нурсая Бонита  38.0000            61           42.0            12.0   \n",
       "4        7 Бочек  24.0000            61           63.0            18.0   \n",
       "5     МЖК Астана   5.5980            61           21.0             6.0   \n",
       "\n",
       "   floor_flat  floors_total  house_age  \n",
       "1         7.0          22.0          1  \n",
       "2         4.0           9.0          0  \n",
       "3         4.0          10.0          7  \n",
       "4         4.0          12.0         13  \n",
       "5         1.0           3.0         -1  "
      ]
     },
     "execution_count": 576,
     "metadata": {},
     "output_type": "execute_result"
    }
   ],
   "source": [
    "data.head()"
   ]
  },
  {
   "cell_type": "code",
   "execution_count": 577,
   "metadata": {
    "ExecuteTime": {
     "end_time": "2020-05-21T15:29:07.405846Z",
     "start_time": "2020-05-21T15:29:07.401334Z"
    }
   },
   "outputs": [],
   "source": [
    "data.year_built = data.year_built.astype(int)"
   ]
  },
  {
   "cell_type": "code",
   "execution_count": 578,
   "metadata": {
    "ExecuteTime": {
     "end_time": "2020-05-21T15:29:08.152396Z",
     "start_time": "2020-05-21T15:29:08.148664Z"
    }
   },
   "outputs": [],
   "source": [
    "data.rooms = data.rooms.astype(int)"
   ]
  },
  {
   "cell_type": "code",
   "execution_count": 580,
   "metadata": {
    "ExecuteTime": {
     "end_time": "2020-05-21T15:29:17.544877Z",
     "start_time": "2020-05-21T15:29:17.525353Z"
    }
   },
   "outputs": [
    {
     "data": {
      "text/html": [
       "<div>\n",
       "<style scoped>\n",
       "    .dataframe tbody tr th:only-of-type {\n",
       "        vertical-align: middle;\n",
       "    }\n",
       "\n",
       "    .dataframe tbody tr th {\n",
       "        vertical-align: top;\n",
       "    }\n",
       "\n",
       "    .dataframe thead th {\n",
       "        text-align: right;\n",
       "    }\n",
       "</style>\n",
       "<table border=\"1\" class=\"dataframe\">\n",
       "  <thead>\n",
       "    <tr style=\"text-align: right;\">\n",
       "      <th></th>\n",
       "      <th>priv_dorm</th>\n",
       "      <th>renovation</th>\n",
       "      <th>floor</th>\n",
       "      <th>year_built</th>\n",
       "      <th>ceiling</th>\n",
       "      <th>square</th>\n",
       "      <th>rooms</th>\n",
       "      <th>house_name</th>\n",
       "      <th>price</th>\n",
       "      <th>square_total</th>\n",
       "      <th>square_living</th>\n",
       "      <th>square_kitchen</th>\n",
       "      <th>floor_flat</th>\n",
       "      <th>floors_total</th>\n",
       "      <th>house_age</th>\n",
       "    </tr>\n",
       "  </thead>\n",
       "  <tbody>\n",
       "    <tr>\n",
       "      <th>1</th>\n",
       "      <td>NaN</td>\n",
       "      <td>Unknown</td>\n",
       "      <td>[7, 22]</td>\n",
       "      <td>2019</td>\n",
       "      <td>2.75</td>\n",
       "      <td>[42]</td>\n",
       "      <td>1</td>\n",
       "      <td>Коркем Tower</td>\n",
       "      <td>15.0000</td>\n",
       "      <td>61</td>\n",
       "      <td>21.0</td>\n",
       "      <td>6.0</td>\n",
       "      <td>7.0</td>\n",
       "      <td>22.0</td>\n",
       "      <td>1</td>\n",
       "    </tr>\n",
       "    <tr>\n",
       "      <th>2</th>\n",
       "      <td>NaN</td>\n",
       "      <td>черновая отделка</td>\n",
       "      <td>[4, 9]</td>\n",
       "      <td>2020</td>\n",
       "      <td>2.75</td>\n",
       "      <td>[]</td>\n",
       "      <td>1</td>\n",
       "      <td>Unknown</td>\n",
       "      <td>8.3055</td>\n",
       "      <td>30</td>\n",
       "      <td>21.0</td>\n",
       "      <td>6.0</td>\n",
       "      <td>4.0</td>\n",
       "      <td>9.0</td>\n",
       "      <td>0</td>\n",
       "    </tr>\n",
       "    <tr>\n",
       "      <th>3</th>\n",
       "      <td>NaN</td>\n",
       "      <td>евроремонт</td>\n",
       "      <td>[4, 10]</td>\n",
       "      <td>2013</td>\n",
       "      <td>2.75</td>\n",
       "      <td>[87]</td>\n",
       "      <td>2</td>\n",
       "      <td>Нурсая Бонита</td>\n",
       "      <td>38.0000</td>\n",
       "      <td>61</td>\n",
       "      <td>42.0</td>\n",
       "      <td>12.0</td>\n",
       "      <td>4.0</td>\n",
       "      <td>10.0</td>\n",
       "      <td>7</td>\n",
       "    </tr>\n",
       "  </tbody>\n",
       "</table>\n",
       "</div>"
      ],
      "text/plain": [
       "  priv_dorm        renovation    floor  year_built  ceiling square  rooms  \\\n",
       "1       NaN           Unknown  [7, 22]        2019     2.75   [42]      1   \n",
       "2       NaN  черновая отделка   [4, 9]        2020     2.75     []      1   \n",
       "3       NaN        евроремонт  [4, 10]        2013     2.75   [87]      2   \n",
       "\n",
       "      house_name    price  square_total  square_living  square_kitchen  \\\n",
       "1   Коркем Tower  15.0000            61           21.0             6.0   \n",
       "2        Unknown   8.3055            30           21.0             6.0   \n",
       "3  Нурсая Бонита  38.0000            61           42.0            12.0   \n",
       "\n",
       "   floor_flat  floors_total  house_age  \n",
       "1         7.0          22.0          1  \n",
       "2         4.0           9.0          0  \n",
       "3         4.0          10.0          7  "
      ]
     },
     "execution_count": 580,
     "metadata": {},
     "output_type": "execute_result"
    }
   ],
   "source": [
    "data.ceiling = data.ceiling.fillna(2.75)\n",
    "data.head(3)"
   ]
  },
  {
   "cell_type": "code",
   "execution_count": 581,
   "metadata": {
    "ExecuteTime": {
     "end_time": "2020-05-21T15:29:19.763202Z",
     "start_time": "2020-05-21T15:29:19.731746Z"
    }
   },
   "outputs": [
    {
     "data": {
      "text/html": [
       "<div>\n",
       "<style scoped>\n",
       "    .dataframe tbody tr th:only-of-type {\n",
       "        vertical-align: middle;\n",
       "    }\n",
       "\n",
       "    .dataframe tbody tr th {\n",
       "        vertical-align: top;\n",
       "    }\n",
       "\n",
       "    .dataframe thead th {\n",
       "        text-align: right;\n",
       "    }\n",
       "</style>\n",
       "<table border=\"1\" class=\"dataframe\">\n",
       "  <thead>\n",
       "    <tr style=\"text-align: right;\">\n",
       "      <th></th>\n",
       "      <th>priv_dorm</th>\n",
       "      <th>renovation</th>\n",
       "      <th>floor</th>\n",
       "      <th>year_built</th>\n",
       "      <th>ceiling</th>\n",
       "      <th>square</th>\n",
       "      <th>rooms</th>\n",
       "      <th>house_name</th>\n",
       "      <th>price</th>\n",
       "      <th>square_total</th>\n",
       "      <th>square_living</th>\n",
       "      <th>square_kitchen</th>\n",
       "      <th>floor_flat</th>\n",
       "      <th>floors_total</th>\n",
       "      <th>house_age</th>\n",
       "    </tr>\n",
       "  </thead>\n",
       "  <tbody>\n",
       "    <tr>\n",
       "      <th>1</th>\n",
       "      <td>NaN</td>\n",
       "      <td>Unknown</td>\n",
       "      <td>[7, 22]</td>\n",
       "      <td>2019</td>\n",
       "      <td>2.75</td>\n",
       "      <td>[42]</td>\n",
       "      <td>1</td>\n",
       "      <td>Коркем Tower</td>\n",
       "      <td>15.0000</td>\n",
       "      <td>61</td>\n",
       "      <td>21.0</td>\n",
       "      <td>6.0</td>\n",
       "      <td>7.0</td>\n",
       "      <td>22.0</td>\n",
       "      <td>1</td>\n",
       "    </tr>\n",
       "    <tr>\n",
       "      <th>2</th>\n",
       "      <td>NaN</td>\n",
       "      <td>черновая отделка</td>\n",
       "      <td>[4, 9]</td>\n",
       "      <td>2020</td>\n",
       "      <td>2.75</td>\n",
       "      <td>[]</td>\n",
       "      <td>1</td>\n",
       "      <td>Unknown</td>\n",
       "      <td>8.3055</td>\n",
       "      <td>30</td>\n",
       "      <td>21.0</td>\n",
       "      <td>6.0</td>\n",
       "      <td>4.0</td>\n",
       "      <td>9.0</td>\n",
       "      <td>0</td>\n",
       "    </tr>\n",
       "    <tr>\n",
       "      <th>3</th>\n",
       "      <td>NaN</td>\n",
       "      <td>евроремонт</td>\n",
       "      <td>[4, 10]</td>\n",
       "      <td>2013</td>\n",
       "      <td>2.75</td>\n",
       "      <td>[87]</td>\n",
       "      <td>2</td>\n",
       "      <td>Нурсая Бонита</td>\n",
       "      <td>38.0000</td>\n",
       "      <td>61</td>\n",
       "      <td>42.0</td>\n",
       "      <td>12.0</td>\n",
       "      <td>4.0</td>\n",
       "      <td>10.0</td>\n",
       "      <td>7</td>\n",
       "    </tr>\n",
       "  </tbody>\n",
       "</table>\n",
       "</div>"
      ],
      "text/plain": [
       "  priv_dorm        renovation    floor  year_built  ceiling square  rooms  \\\n",
       "1       NaN           Unknown  [7, 22]        2019     2.75   [42]      1   \n",
       "2       NaN  черновая отделка   [4, 9]        2020     2.75     []      1   \n",
       "3       NaN        евроремонт  [4, 10]        2013     2.75   [87]      2   \n",
       "\n",
       "      house_name    price  square_total  square_living  square_kitchen  \\\n",
       "1   Коркем Tower  15.0000            61           21.0             6.0   \n",
       "2        Unknown   8.3055            30           21.0             6.0   \n",
       "3  Нурсая Бонита  38.0000            61           42.0            12.0   \n",
       "\n",
       "   floor_flat  floors_total  house_age  \n",
       "1         7.0          22.0          1  \n",
       "2         4.0           9.0          0  \n",
       "3         4.0          10.0          7  "
      ]
     },
     "execution_count": 581,
     "metadata": {},
     "output_type": "execute_result"
    }
   ],
   "source": [
    "data.house_name.fillna(\"Unknown\", inplace=True)\n",
    "data.head(3)"
   ]
  },
  {
   "cell_type": "code",
   "execution_count": 582,
   "metadata": {
    "ExecuteTime": {
     "end_time": "2020-05-21T15:29:21.753435Z",
     "start_time": "2020-05-21T15:29:21.732403Z"
    }
   },
   "outputs": [
    {
     "data": {
      "text/html": [
       "<div>\n",
       "<style scoped>\n",
       "    .dataframe tbody tr th:only-of-type {\n",
       "        vertical-align: middle;\n",
       "    }\n",
       "\n",
       "    .dataframe tbody tr th {\n",
       "        vertical-align: top;\n",
       "    }\n",
       "\n",
       "    .dataframe thead th {\n",
       "        text-align: right;\n",
       "    }\n",
       "</style>\n",
       "<table border=\"1\" class=\"dataframe\">\n",
       "  <thead>\n",
       "    <tr style=\"text-align: right;\">\n",
       "      <th></th>\n",
       "      <th>priv_dorm</th>\n",
       "      <th>renovation</th>\n",
       "      <th>floor</th>\n",
       "      <th>year_built</th>\n",
       "      <th>ceiling</th>\n",
       "      <th>square</th>\n",
       "      <th>rooms</th>\n",
       "      <th>house_name</th>\n",
       "      <th>price</th>\n",
       "      <th>square_total</th>\n",
       "      <th>square_living</th>\n",
       "      <th>square_kitchen</th>\n",
       "      <th>floor_flat</th>\n",
       "      <th>floors_total</th>\n",
       "      <th>house_age</th>\n",
       "    </tr>\n",
       "  </thead>\n",
       "  <tbody>\n",
       "    <tr>\n",
       "      <th>1</th>\n",
       "      <td>NaN</td>\n",
       "      <td>Unknown</td>\n",
       "      <td>[7, 22]</td>\n",
       "      <td>2019</td>\n",
       "      <td>2.75</td>\n",
       "      <td>[42]</td>\n",
       "      <td>1</td>\n",
       "      <td>Коркем Tower</td>\n",
       "      <td>15.0000</td>\n",
       "      <td>61</td>\n",
       "      <td>21.0</td>\n",
       "      <td>6.0</td>\n",
       "      <td>7.0</td>\n",
       "      <td>22.0</td>\n",
       "      <td>1</td>\n",
       "    </tr>\n",
       "    <tr>\n",
       "      <th>2</th>\n",
       "      <td>NaN</td>\n",
       "      <td>черновая отделка</td>\n",
       "      <td>[4, 9]</td>\n",
       "      <td>2020</td>\n",
       "      <td>2.75</td>\n",
       "      <td>[]</td>\n",
       "      <td>1</td>\n",
       "      <td>Unknown</td>\n",
       "      <td>8.3055</td>\n",
       "      <td>30</td>\n",
       "      <td>21.0</td>\n",
       "      <td>6.0</td>\n",
       "      <td>4.0</td>\n",
       "      <td>9.0</td>\n",
       "      <td>0</td>\n",
       "    </tr>\n",
       "    <tr>\n",
       "      <th>3</th>\n",
       "      <td>NaN</td>\n",
       "      <td>евроремонт</td>\n",
       "      <td>[4, 10]</td>\n",
       "      <td>2013</td>\n",
       "      <td>2.75</td>\n",
       "      <td>[87]</td>\n",
       "      <td>2</td>\n",
       "      <td>Нурсая Бонита</td>\n",
       "      <td>38.0000</td>\n",
       "      <td>61</td>\n",
       "      <td>42.0</td>\n",
       "      <td>12.0</td>\n",
       "      <td>4.0</td>\n",
       "      <td>10.0</td>\n",
       "      <td>7</td>\n",
       "    </tr>\n",
       "  </tbody>\n",
       "</table>\n",
       "</div>"
      ],
      "text/plain": [
       "  priv_dorm        renovation    floor  year_built  ceiling square  rooms  \\\n",
       "1       NaN           Unknown  [7, 22]        2019     2.75   [42]      1   \n",
       "2       NaN  черновая отделка   [4, 9]        2020     2.75     []      1   \n",
       "3       NaN        евроремонт  [4, 10]        2013     2.75   [87]      2   \n",
       "\n",
       "      house_name    price  square_total  square_living  square_kitchen  \\\n",
       "1   Коркем Tower  15.0000            61           21.0             6.0   \n",
       "2        Unknown   8.3055            30           21.0             6.0   \n",
       "3  Нурсая Бонита  38.0000            61           42.0            12.0   \n",
       "\n",
       "   floor_flat  floors_total  house_age  \n",
       "1         7.0          22.0          1  \n",
       "2         4.0           9.0          0  \n",
       "3         4.0          10.0          7  "
      ]
     },
     "execution_count": 582,
     "metadata": {},
     "output_type": "execute_result"
    }
   ],
   "source": [
    "data.renovation.fillna(\"Unknown\", inplace=True)\n",
    "data.head(3)"
   ]
  },
  {
   "cell_type": "code",
   "execution_count": 583,
   "metadata": {
    "ExecuteTime": {
     "end_time": "2020-05-21T15:29:25.902072Z",
     "start_time": "2020-05-21T15:29:25.875809Z"
    }
   },
   "outputs": [
    {
     "data": {
      "text/html": [
       "<div>\n",
       "<style scoped>\n",
       "    .dataframe tbody tr th:only-of-type {\n",
       "        vertical-align: middle;\n",
       "    }\n",
       "\n",
       "    .dataframe tbody tr th {\n",
       "        vertical-align: top;\n",
       "    }\n",
       "\n",
       "    .dataframe thead th {\n",
       "        text-align: right;\n",
       "    }\n",
       "</style>\n",
       "<table border=\"1\" class=\"dataframe\">\n",
       "  <thead>\n",
       "    <tr style=\"text-align: right;\">\n",
       "      <th></th>\n",
       "      <th>priv_dorm</th>\n",
       "      <th>renovation</th>\n",
       "      <th>floor</th>\n",
       "      <th>year_built</th>\n",
       "      <th>ceiling</th>\n",
       "      <th>square</th>\n",
       "      <th>rooms</th>\n",
       "      <th>house_name</th>\n",
       "      <th>price</th>\n",
       "      <th>square_total</th>\n",
       "      <th>square_living</th>\n",
       "      <th>square_kitchen</th>\n",
       "      <th>floor_flat</th>\n",
       "      <th>floors_total</th>\n",
       "      <th>house_age</th>\n",
       "    </tr>\n",
       "  </thead>\n",
       "  <tbody>\n",
       "    <tr>\n",
       "      <th>1</th>\n",
       "      <td>NaN</td>\n",
       "      <td>Unknown</td>\n",
       "      <td>[7, 22]</td>\n",
       "      <td>2019</td>\n",
       "      <td>2.75</td>\n",
       "      <td>[42]</td>\n",
       "      <td>1</td>\n",
       "      <td>Коркем Tower</td>\n",
       "      <td>15.0000</td>\n",
       "      <td>61</td>\n",
       "      <td>21.0</td>\n",
       "      <td>6.0</td>\n",
       "      <td>7.0</td>\n",
       "      <td>22.0</td>\n",
       "      <td>1</td>\n",
       "    </tr>\n",
       "    <tr>\n",
       "      <th>2</th>\n",
       "      <td>NaN</td>\n",
       "      <td>черновая отделка</td>\n",
       "      <td>[4, 9]</td>\n",
       "      <td>2020</td>\n",
       "      <td>2.75</td>\n",
       "      <td>[]</td>\n",
       "      <td>1</td>\n",
       "      <td>Unknown</td>\n",
       "      <td>8.3055</td>\n",
       "      <td>30</td>\n",
       "      <td>21.0</td>\n",
       "      <td>6.0</td>\n",
       "      <td>4.0</td>\n",
       "      <td>9.0</td>\n",
       "      <td>0</td>\n",
       "    </tr>\n",
       "    <tr>\n",
       "      <th>3</th>\n",
       "      <td>NaN</td>\n",
       "      <td>евроремонт</td>\n",
       "      <td>[4, 10]</td>\n",
       "      <td>2013</td>\n",
       "      <td>2.75</td>\n",
       "      <td>[87]</td>\n",
       "      <td>2</td>\n",
       "      <td>Нурсая Бонита</td>\n",
       "      <td>38.0000</td>\n",
       "      <td>61</td>\n",
       "      <td>42.0</td>\n",
       "      <td>12.0</td>\n",
       "      <td>4.0</td>\n",
       "      <td>10.0</td>\n",
       "      <td>7</td>\n",
       "    </tr>\n",
       "  </tbody>\n",
       "</table>\n",
       "</div>"
      ],
      "text/plain": [
       "  priv_dorm        renovation    floor  year_built  ceiling square  rooms  \\\n",
       "1       NaN           Unknown  [7, 22]        2019     2.75   [42]      1   \n",
       "2       NaN  черновая отделка   [4, 9]        2020     2.75     []      1   \n",
       "3       NaN        евроремонт  [4, 10]        2013     2.75   [87]      2   \n",
       "\n",
       "      house_name    price  square_total  square_living  square_kitchen  \\\n",
       "1   Коркем Tower  15.0000            61           21.0             6.0   \n",
       "2        Unknown   8.3055            30           21.0             6.0   \n",
       "3  Нурсая Бонита  38.0000            61           42.0            12.0   \n",
       "\n",
       "   floor_flat  floors_total  house_age  \n",
       "1         7.0          22.0          1  \n",
       "2         4.0           9.0          0  \n",
       "3         4.0          10.0          7  "
      ]
     },
     "execution_count": 583,
     "metadata": {},
     "output_type": "execute_result"
    }
   ],
   "source": [
    "data[\"house_age\"] = 2020 - data[\"year_built\"].astype(int)\n",
    "data.head(3)"
   ]
  },
  {
   "cell_type": "code",
   "execution_count": 584,
   "metadata": {
    "ExecuteTime": {
     "end_time": "2020-05-21T15:29:27.579113Z",
     "start_time": "2020-05-21T15:29:27.562186Z"
    }
   },
   "outputs": [
    {
     "name": "stdout",
     "output_type": "stream",
     "text": [
      "<class 'pandas.core.frame.DataFrame'>\n",
      "Int64Index: 10534 entries, 1 to 10801\n",
      "Data columns (total 15 columns):\n",
      "priv_dorm         1515 non-null object\n",
      "renovation        10534 non-null object\n",
      "floor             10534 non-null object\n",
      "year_built        10534 non-null int64\n",
      "ceiling           10534 non-null float64\n",
      "square            10534 non-null object\n",
      "rooms             10534 non-null int64\n",
      "house_name        10534 non-null object\n",
      "price             10534 non-null float64\n",
      "square_total      10534 non-null int64\n",
      "square_living     10534 non-null float64\n",
      "square_kitchen    10534 non-null float64\n",
      "floor_flat        9801 non-null float64\n",
      "floors_total      9615 non-null float64\n",
      "house_age         10534 non-null int64\n",
      "dtypes: float64(6), int64(4), object(5)\n",
      "memory usage: 1.6+ MB\n"
     ]
    }
   ],
   "source": [
    "data.info()"
   ]
  },
  {
   "cell_type": "code",
   "execution_count": 585,
   "metadata": {
    "ExecuteTime": {
     "end_time": "2020-05-21T15:30:33.545146Z",
     "start_time": "2020-05-21T15:30:33.529101Z"
    }
   },
   "outputs": [
    {
     "data": {
      "text/html": [
       "<div>\n",
       "<style scoped>\n",
       "    .dataframe tbody tr th:only-of-type {\n",
       "        vertical-align: middle;\n",
       "    }\n",
       "\n",
       "    .dataframe tbody tr th {\n",
       "        vertical-align: top;\n",
       "    }\n",
       "\n",
       "    .dataframe thead th {\n",
       "        text-align: right;\n",
       "    }\n",
       "</style>\n",
       "<table border=\"1\" class=\"dataframe\">\n",
       "  <thead>\n",
       "    <tr style=\"text-align: right;\">\n",
       "      <th></th>\n",
       "      <th>renovation</th>\n",
       "      <th>year_built</th>\n",
       "      <th>ceiling</th>\n",
       "      <th>rooms</th>\n",
       "      <th>price</th>\n",
       "      <th>square_total</th>\n",
       "      <th>square_living</th>\n",
       "      <th>square_kitchen</th>\n",
       "      <th>floor_flat</th>\n",
       "      <th>floors_total</th>\n",
       "      <th>house_age</th>\n",
       "    </tr>\n",
       "  </thead>\n",
       "  <tbody>\n",
       "    <tr>\n",
       "      <th>1</th>\n",
       "      <td>Unknown</td>\n",
       "      <td>2019</td>\n",
       "      <td>2.75</td>\n",
       "      <td>1</td>\n",
       "      <td>15.0000</td>\n",
       "      <td>61</td>\n",
       "      <td>21.0</td>\n",
       "      <td>6.0</td>\n",
       "      <td>7.0</td>\n",
       "      <td>22.0</td>\n",
       "      <td>1</td>\n",
       "    </tr>\n",
       "    <tr>\n",
       "      <th>2</th>\n",
       "      <td>черновая отделка</td>\n",
       "      <td>2020</td>\n",
       "      <td>2.75</td>\n",
       "      <td>1</td>\n",
       "      <td>8.3055</td>\n",
       "      <td>30</td>\n",
       "      <td>21.0</td>\n",
       "      <td>6.0</td>\n",
       "      <td>4.0</td>\n",
       "      <td>9.0</td>\n",
       "      <td>0</td>\n",
       "    </tr>\n",
       "    <tr>\n",
       "      <th>3</th>\n",
       "      <td>евроремонт</td>\n",
       "      <td>2013</td>\n",
       "      <td>2.75</td>\n",
       "      <td>2</td>\n",
       "      <td>38.0000</td>\n",
       "      <td>61</td>\n",
       "      <td>42.0</td>\n",
       "      <td>12.0</td>\n",
       "      <td>4.0</td>\n",
       "      <td>10.0</td>\n",
       "      <td>7</td>\n",
       "    </tr>\n",
       "  </tbody>\n",
       "</table>\n",
       "</div>"
      ],
      "text/plain": [
       "         renovation  year_built  ceiling  rooms    price  square_total  \\\n",
       "1           Unknown        2019     2.75      1  15.0000            61   \n",
       "2  черновая отделка        2020     2.75      1   8.3055            30   \n",
       "3        евроремонт        2013     2.75      2  38.0000            61   \n",
       "\n",
       "   square_living  square_kitchen  floor_flat  floors_total  house_age  \n",
       "1           21.0             6.0         7.0          22.0          1  \n",
       "2           21.0             6.0         4.0           9.0          0  \n",
       "3           42.0            12.0         4.0          10.0          7  "
      ]
     },
     "execution_count": 585,
     "metadata": {},
     "output_type": "execute_result"
    }
   ],
   "source": [
    "data.drop([\"priv_dorm\", \"floor\", \"square\", \"house_name\", \"year_built\"], axis=1, inplace=True)\n",
    "data.head(3)"
   ]
  },
  {
   "cell_type": "markdown",
   "metadata": {},
   "source": [
    "# EDA"
   ]
  },
  {
   "cell_type": "code",
   "execution_count": 503,
   "metadata": {
    "ExecuteTime": {
     "end_time": "2020-05-21T15:01:10.623919Z",
     "start_time": "2020-05-21T15:01:10.610090Z"
    }
   },
   "outputs": [
    {
     "data": {
      "text/html": [
       "<div>\n",
       "<style scoped>\n",
       "    .dataframe tbody tr th:only-of-type {\n",
       "        vertical-align: middle;\n",
       "    }\n",
       "\n",
       "    .dataframe tbody tr th {\n",
       "        vertical-align: top;\n",
       "    }\n",
       "\n",
       "    .dataframe thead th {\n",
       "        text-align: right;\n",
       "    }\n",
       "</style>\n",
       "<table border=\"1\" class=\"dataframe\">\n",
       "  <thead>\n",
       "    <tr style=\"text-align: right;\">\n",
       "      <th></th>\n",
       "      <th>cnt</th>\n",
       "    </tr>\n",
       "  </thead>\n",
       "  <tbody>\n",
       "    <tr>\n",
       "      <th>Nova City</th>\n",
       "      <td>300</td>\n",
       "    </tr>\n",
       "    <tr>\n",
       "      <th>Венский квартал</th>\n",
       "      <td>151</td>\n",
       "    </tr>\n",
       "    <tr>\n",
       "      <th>Арнау</th>\n",
       "      <td>146</td>\n",
       "    </tr>\n",
       "    <tr>\n",
       "      <th>Adal</th>\n",
       "      <td>138</td>\n",
       "    </tr>\n",
       "    <tr>\n",
       "      <th>College</th>\n",
       "      <td>137</td>\n",
       "    </tr>\n",
       "    <tr>\n",
       "      <th>Panorama Park</th>\n",
       "      <td>134</td>\n",
       "    </tr>\n",
       "    <tr>\n",
       "      <th>Manhattan</th>\n",
       "      <td>134</td>\n",
       "    </tr>\n",
       "    <tr>\n",
       "      <th>Sezim Qala</th>\n",
       "      <td>133</td>\n",
       "    </tr>\n",
       "    <tr>\n",
       "      <th>Времена года. Лето</th>\n",
       "      <td>132</td>\n",
       "    </tr>\n",
       "    <tr>\n",
       "      <th>Only Sun</th>\n",
       "      <td>128</td>\n",
       "    </tr>\n",
       "  </tbody>\n",
       "</table>\n",
       "</div>"
      ],
      "text/plain": [
       "                    cnt\n",
       "Nova City           300\n",
       "Венский квартал     151\n",
       "Арнау               146\n",
       "Adal                138\n",
       "College             137\n",
       "Panorama Park       134\n",
       "Manhattan           134\n",
       "Sezim Qala          133\n",
       "Времена года. Лето  132\n",
       "Only Sun            128"
      ]
     },
     "execution_count": 503,
     "metadata": {},
     "output_type": "execute_result"
    }
   ],
   "source": [
    "data.house_name.value_counts().to_frame(\"cnt\").sort_values(by=\"cnt\" , ascending=False).head(10)"
   ]
  },
  {
   "cell_type": "code",
   "execution_count": 502,
   "metadata": {
    "ExecuteTime": {
     "end_time": "2020-05-21T14:59:55.038522Z",
     "start_time": "2020-05-21T14:59:54.832970Z"
    }
   },
   "outputs": [
    {
     "data": {
      "text/plain": [
       "<matplotlib.axes._subplots.AxesSubplot at 0x1300998d0>"
      ]
     },
     "execution_count": 502,
     "metadata": {},
     "output_type": "execute_result"
    },
    {
     "data": {
      "image/png": "[encoded data removed]",
      "text/plain": [
       "<Figure size 1080x288 with 1 Axes>"
      ]
     },
     "metadata": {
      "needs_background": "light"
     },
     "output_type": "display_data"
    }
   ],
   "source": [
    "plt.figure(figsize=(15,4))\n",
    "data[data.rooms==1].price.hist()"
   ]
  },
  {
   "cell_type": "code",
   "execution_count": 367,
   "metadata": {
    "ExecuteTime": {
     "end_time": "2020-05-21T13:50:21.428614Z",
     "start_time": "2020-05-21T13:50:21.225557Z"
    }
   },
   "outputs": [
    {
     "data": {
      "text/plain": [
       "<matplotlib.axes._subplots.AxesSubplot at 0x12e001d30>"
      ]
     },
     "execution_count": 367,
     "metadata": {},
     "output_type": "execute_result"
    },
    {
     "data": {
      "image/png": "[encoded data removed]",
      "text/plain": [
       "<Figure size 1080x288 with 1 Axes>"
      ]
     },
     "metadata": {
      "needs_background": "light"
     },
     "output_type": "display_data"
    }
   ],
   "source": [
    "plt.figure(figsize=(15,4))\n",
    "data[data.rooms==3].price.hist()"
   ]
  },
  {
   "cell_type": "code",
   "execution_count": 368,
   "metadata": {
    "ExecuteTime": {
     "end_time": "2020-05-21T13:50:27.339134Z",
     "start_time": "2020-05-21T13:50:27.153318Z"
    },
    "scrolled": true
   },
   "outputs": [
    {
     "data": {
      "text/plain": [
       "<matplotlib.axes._subplots.AxesSubplot at 0x12ffc8208>"
      ]
     },
     "execution_count": 368,
     "metadata": {},
     "output_type": "execute_result"
    },
    {
     "data": {
      "image/png": "[encoded data removed]",
      "text/plain": [
       "<Figure size 1080x288 with 1 Axes>"
      ]
     },
     "metadata": {
      "needs_background": "light"
     },
     "output_type": "display_data"
    }
   ],
   "source": [
    "plt.figure(figsize=(15,4))\n",
    "data[data.rooms==4].price.hist()"
   ]
  },
  {
   "cell_type": "code",
   "execution_count": 372,
   "metadata": {
    "ExecuteTime": {
     "end_time": "2020-05-21T13:51:00.223273Z",
     "start_time": "2020-05-21T13:51:00.016398Z"
    }
   },
   "outputs": [
    {
     "data": {
      "text/plain": [
       "<matplotlib.axes._subplots.AxesSubplot at 0x130104898>"
      ]
     },
     "execution_count": 372,
     "metadata": {},
     "output_type": "execute_result"
    },
    {
     "data": {
      "image/png": "[encoded data removed]",
      "text/plain": [
       "<Figure size 1080x288 with 1 Axes>"
      ]
     },
     "metadata": {
      "needs_background": "light"
     },
     "output_type": "display_data"
    }
   ],
   "source": [
    "plt.figure(figsize=(15,4))\n",
    "data.rooms.hist()"
   ]
  },
  {
   "cell_type": "markdown",
   "metadata": {},
   "source": [
    "# Modeling"
   ]
  },
  {
   "cell_type": "code",
   "execution_count": 712,
   "metadata": {
    "ExecuteTime": {
     "end_time": "2020-05-21T16:00:53.924531Z",
     "start_time": "2020-05-21T16:00:53.919408Z"
    }
   },
   "outputs": [],
   "source": [
    "from sklearn.linear_model import LinearRegression, RidgeCV, LassoCV, ElasticNetCV\n",
    "from sklearn.model_selection import train_test_split\n",
    "from sklearn.metrics import mean_squared_error\n",
    "import math\n",
    "from catboost import CatBoostRegressor\n",
    "from sklearn.preprocessing import StandardScaler\n",
    "import seaborn as sns"
   ]
  },
  {
   "cell_type": "code",
   "execution_count": 598,
   "metadata": {
    "ExecuteTime": {
     "end_time": "2020-05-21T15:34:36.452210Z",
     "start_time": "2020-05-21T15:34:36.446386Z"
    }
   },
   "outputs": [],
   "source": [
    "scaler = StandardScaler()"
   ]
  },
  {
   "cell_type": "code",
   "execution_count": 587,
   "metadata": {
    "ExecuteTime": {
     "end_time": "2020-05-21T15:30:50.328994Z",
     "start_time": "2020-05-21T15:30:50.315182Z"
    }
   },
   "outputs": [
    {
     "name": "stdout",
     "output_type": "stream",
     "text": [
      "<class 'pandas.core.frame.DataFrame'>\n",
      "Int64Index: 10534 entries, 1 to 10801\n",
      "Data columns (total 11 columns):\n",
      "renovation        10534 non-null object\n",
      "year_built        10534 non-null int64\n",
      "ceiling           10534 non-null float64\n",
      "rooms             10534 non-null int64\n",
      "price             10534 non-null float64\n",
      "square_total      10534 non-null int64\n",
      "square_living     10534 non-null float64\n",
      "square_kitchen    10534 non-null float64\n",
      "floor_flat        9801 non-null float64\n",
      "floors_total      9615 non-null float64\n",
      "house_age         10534 non-null int64\n",
      "dtypes: float64(6), int64(4), object(1)\n",
      "memory usage: 1.3+ MB\n"
     ]
    }
   ],
   "source": [
    "data.info()"
   ]
  },
  {
   "cell_type": "code",
   "execution_count": 626,
   "metadata": {
    "ExecuteTime": {
     "end_time": "2020-05-21T15:40:39.788113Z",
     "start_time": "2020-05-21T15:40:39.780823Z"
    }
   },
   "outputs": [],
   "source": [
    "data_renovation = pd.get_dummies(data[\"renovation\"])"
   ]
  },
  {
   "cell_type": "code",
   "execution_count": 627,
   "metadata": {
    "ExecuteTime": {
     "end_time": "2020-05-21T15:40:41.966402Z",
     "start_time": "2020-05-21T15:40:41.957118Z"
    }
   },
   "outputs": [],
   "source": [
    "df = pd.concat([data, data_renovation], axis=1).drop(\"renovation\", axis=1)"
   ]
  },
  {
   "cell_type": "code",
   "execution_count": 638,
   "metadata": {
    "ExecuteTime": {
     "end_time": "2020-05-21T15:41:40.180848Z",
     "start_time": "2020-05-21T15:41:40.174982Z"
    }
   },
   "outputs": [],
   "source": [
    "df = df[df.price<150]"
   ]
  },
  {
   "cell_type": "code",
   "execution_count": 639,
   "metadata": {
    "ExecuteTime": {
     "end_time": "2020-05-21T15:41:40.922782Z",
     "start_time": "2020-05-21T15:41:40.917254Z"
    }
   },
   "outputs": [],
   "source": [
    "X = df.drop(\"price\", axis=1)\n",
    "y = df[\"price\"]"
   ]
  },
  {
   "cell_type": "code",
   "execution_count": 640,
   "metadata": {
    "ExecuteTime": {
     "end_time": "2020-05-21T15:41:41.644542Z",
     "start_time": "2020-05-21T15:41:41.634728Z"
    }
   },
   "outputs": [
    {
     "name": "stdout",
     "output_type": "stream",
     "text": [
      "(8360, 15) (2091, 15) (8360,) (2091,)\n"
     ]
    }
   ],
   "source": [
    "X_train, X_test, y_train, y_test = train_test_split(X, y, test_size=0.20)\n",
    "print(X_train.shape, X_test.shape, y_train.shape, y_test.shape)"
   ]
  },
  {
   "cell_type": "code",
   "execution_count": 641,
   "metadata": {
    "ExecuteTime": {
     "end_time": "2020-05-21T15:41:44.942534Z",
     "start_time": "2020-05-21T15:41:44.939881Z"
    }
   },
   "outputs": [],
   "source": [
    "# scaler = StandardScaler()\n",
    "\n",
    "# X_train_scaled = scaler.fit_transform(X_train)\n",
    "# X_test_scaled = scaler.transform(X_test)"
   ]
  },
  {
   "cell_type": "code",
   "execution_count": 642,
   "metadata": {
    "ExecuteTime": {
     "end_time": "2020-05-21T15:41:46.925242Z",
     "start_time": "2020-05-21T15:41:46.920574Z"
    }
   },
   "outputs": [],
   "source": [
    "m_linear = LinearRegression()\n",
    "model = CatBoostRegressor(iterations=2,\n",
    "                          learning_rate=1,\n",
    "                          depth=2)"
   ]
  },
  {
   "cell_type": "code",
   "execution_count": 643,
   "metadata": {
    "ExecuteTime": {
     "end_time": "2020-05-21T15:41:47.633418Z",
     "start_time": "2020-05-21T15:41:47.596064Z"
    }
   },
   "outputs": [
    {
     "name": "stdout",
     "output_type": "stream",
     "text": [
      "0:\tlearn: 14.0452323\ttotal: 5.3ms\tremaining: 5.3ms\n",
      "1:\tlearn: 13.4515322\ttotal: 9.01ms\tremaining: 0us\n"
     ]
    },
    {
     "data": {
      "text/plain": [
       "<catboost.core.CatBoostRegressor at 0x1337d1048>"
      ]
     },
     "execution_count": 643,
     "metadata": {},
     "output_type": "execute_result"
    }
   ],
   "source": [
    "model.fit(X_train, y_train)\n",
    "# m_linear.fit(X_train_scaled, y_train)"
   ]
  },
  {
   "cell_type": "code",
   "execution_count": 644,
   "metadata": {
    "ExecuteTime": {
     "end_time": "2020-05-21T15:41:55.481444Z",
     "start_time": "2020-05-21T15:41:55.475781Z"
    }
   },
   "outputs": [],
   "source": [
    "def model_scores(modelName):\n",
    "    y_pred = modelName.predict(X_test)\n",
    "    mse = \"\\nMSE: {:.4f}\".format(mean_squared_error(y_pred, y_test))\n",
    "    rmse = \"\\nMSE: {:.4f}\".format(math.sqrt(mean_squared_error(y_pred, y_test)))\n",
    "    return mse, rmse"
   ]
  },
  {
   "cell_type": "code",
   "execution_count": 645,
   "metadata": {
    "ExecuteTime": {
     "end_time": "2020-05-21T15:41:56.227968Z",
     "start_time": "2020-05-21T15:41:56.218788Z"
    }
   },
   "outputs": [
    {
     "data": {
      "text/plain": [
       "('\\nMSE: 190.1954', '\\nMSE: 13.7911')"
      ]
     },
     "execution_count": 645,
     "metadata": {},
     "output_type": "execute_result"
    }
   ],
   "source": [
    "model_scores(model)"
   ]
  },
  {
   "cell_type": "code",
   "execution_count": 652,
   "metadata": {
    "ExecuteTime": {
     "end_time": "2020-05-21T15:45:27.107464Z",
     "start_time": "2020-05-21T15:45:27.103012Z"
    }
   },
   "outputs": [],
   "source": [
    "y_pred = model.predict(X_test)"
   ]
  },
  {
   "cell_type": "code",
   "execution_count": 716,
   "metadata": {
    "ExecuteTime": {
     "end_time": "2020-05-21T16:01:16.527524Z",
     "start_time": "2020-05-21T16:01:16.424287Z"
    }
   },
   "outputs": [],
   "source": [
    "result = pd.DataFrame([y_pred, y_test.values]).T\n",
    "result.columns = [\"actual\", \"predicted\"]\n",
    "result = result.reset_index()\n",
    "result = pd.melt(result, id_vars=[\"index\"], value_vars=[\"actual\", \"predicted\"])"
   ]
  },
  {
   "cell_type": "code",
   "execution_count": 717,
   "metadata": {
    "ExecuteTime": {
     "end_time": "2020-05-21T16:01:16.882719Z",
     "start_time": "2020-05-21T16:01:16.876963Z"
    }
   },
   "outputs": [],
   "source": [
    "result = result.sort_values(by=\"index\").head(50)"
   ]
  },
  {
   "cell_type": "code",
   "execution_count": 719,
   "metadata": {
    "ExecuteTime": {
     "end_time": "2020-05-21T16:01:30.915889Z",
     "start_time": "2020-05-21T16:01:30.497700Z"
    }
   },
   "outputs": [
    {
     "data": {
      "text/plain": [
       "<matplotlib.axes._subplots.AxesSubplot at 0x1a40369c50>"
      ]
     },
     "execution_count": 719,
     "metadata": {},
     "output_type": "execute_result"
    },
    {
     "data": {
      "image/png": "[encoded data removed]",
      "text/plain": [
       "<Figure size 1080x504 with 1 Axes>"
      ]
     },
     "metadata": {
      "needs_background": "light"
     },
     "output_type": "display_data"
    }
   ],
   "source": [
    "plt.figure(figsize=(15,7))\n",
    "sns.barplot(x=\"index\", hue=\"variable\", y=\"value\", data=result)"
   ]
  }
 ],
 "metadata": {
  "kernelspec": {
   "display_name": "Python 3",
   "language": "python",
   "name": "python3"
  },
  "language_info": {
   "codemirror_mode": {
    "name": "ipython",
    "version": 3
   },
   "file_extension": ".py",
   "mimetype": "text/x-python",
   "name": "python",
   "nbconvert_exporter": "python",
   "pygments_lexer": "ipython3",
   "version": "3.7.3"
  },
  "toc": {
   "base_numbering": 1,
   "nav_menu": {},
   "number_sections": true,
   "sideBar": true,
   "skip_h1_title": false,
   "title_cell": "Table of Contents",
   "title_sidebar": "Contents",
   "toc_cell": false,
   "toc_position": {
    "height": "calc(100% - 180px)",
    "left": "10px",
    "top": "150px",
    "width": "288px"
   },
   "toc_section_display": true,
   "toc_window_display": true
  },
  "varInspector": {
   "cols": {
    "lenName": 16,
    "lenType": 16,
    "lenVar": 40
   },
   "kernels_config": {
    "python": {
     "delete_cmd_postfix": "",
     "delete_cmd_prefix": "del ",
     "library": "var_list.py",
     "varRefreshCmd": "print(var_dic_list())"
    },
    "r": {
     "delete_cmd_postfix": ") ",
     "delete_cmd_prefix": "rm(",
     "library": "var_list.r",
     "varRefreshCmd": "cat(var_dic_list()) "
    }
   },
   "types_to_exclude": [
    "module",
    "function",
    "builtin_function_or_method",
    "instance",
    "_Feature"
   ],
   "window_display": false
  }
 },
 "nbformat": 4,
 "nbformat_minor": 2
}
