{
 "cells": [
  {
   "cell_type": "markdown",
   "metadata": {},
   "source": [
    "* Сбор данных\n",
    " *    Кроллинг\n",
    " *    Парсинг\n",
    "* Очистка данных\n",
    " *    Обработка пропусков\n",
    " *    Приведение к единому формату\n",
    "* Разводочный анализ\n",
    "* Моделирование и интерпретация результатов"
   ]
  },
  {
   "cell_type": "code",
   "execution_count": 162,
   "metadata": {
    "ExecuteTime": {
     "end_time": "2020-05-22T08:21:40.923963Z",
     "start_time": "2020-05-22T08:21:40.911854Z"
    }
   },
   "outputs": [],
   "source": [
    "import requests\n",
    "from bs4 import BeautifulSoup\n",
    "\n",
    "from fake_useragent import UserAgent\n",
    "\n",
    "import pandas as pd\n",
    "import time\n",
    "\n",
    "from tqdm import tqdm_notebook\n",
    "from ftfy import fix_text\n",
    "\n",
    "import pickle\n",
    "import matplotlib.pyplot as plt\n",
    "import seaborn as sns\n",
    "import math"
   ]
  },
  {
   "cell_type": "markdown",
   "metadata": {},
   "source": [
    "# Кроулинг"
   ]
  },
  {
   "cell_type": "code",
   "execution_count": 2,
   "metadata": {
    "ExecuteTime": {
     "end_time": "2020-05-22T07:56:46.094623Z",
     "start_time": "2020-05-22T07:56:46.091946Z"
    }
   },
   "outputs": [],
   "source": [
    "main_link = \"https://krisha.kz/prodazha/kvartiry/astana-esilskij/?das[_sys.hasphoto]=1&das[checked]=1&das[novostroiki]=1&das[who]=1&page=\""
   ]
  },
  {
   "cell_type": "code",
   "execution_count": 3,
   "metadata": {
    "ExecuteTime": {
     "end_time": "2020-05-22T07:56:47.044921Z",
     "start_time": "2020-05-22T07:56:46.673638Z"
    }
   },
   "outputs": [],
   "source": [
    "responce = requests.get(main_link, headers={\"User-Agent\": UserAgent().chrome})"
   ]
  },
  {
   "cell_type": "code",
   "execution_count": 4,
   "metadata": {
    "ExecuteTime": {
     "end_time": "2020-05-22T07:56:48.736265Z",
     "start_time": "2020-05-22T07:56:48.732700Z"
    }
   },
   "outputs": [],
   "source": [
    "def get_soup(page_link):\n",
    "    responce = requests.get(page_link, headers={\"User-Agent\": UserAgent().chrome})\n",
    "    soup = BeautifulSoup(responce.content, \"html.parser\")\n",
    "    return soup"
   ]
  },
  {
   "cell_type": "code",
   "execution_count": 5,
   "metadata": {
    "ExecuteTime": {
     "end_time": "2020-05-22T07:56:51.433772Z",
     "start_time": "2020-05-22T07:56:50.865251Z"
    }
   },
   "outputs": [],
   "source": [
    "soup = get_soup(main_link+str(2))"
   ]
  },
  {
   "cell_type": "code",
   "execution_count": 6,
   "metadata": {
    "ExecuteTime": {
     "end_time": "2020-05-22T07:56:53.108144Z",
     "start_time": "2020-05-22T07:56:53.086949Z"
    }
   },
   "outputs": [],
   "source": [
    "link_raw = soup.findAll(\"a\", attrs={\"a-card__title\"})"
   ]
  },
  {
   "cell_type": "code",
   "execution_count": 7,
   "metadata": {
    "ExecuteTime": {
     "end_time": "2020-05-22T07:56:55.030721Z",
     "start_time": "2020-05-22T07:56:55.025574Z"
    }
   },
   "outputs": [],
   "source": [
    "link = [i[\"href\"] for i in link_raw]"
   ]
  },
  {
   "cell_type": "code",
   "execution_count": 8,
   "metadata": {
    "ExecuteTime": {
     "end_time": "2020-05-22T07:56:56.453339Z",
     "start_time": "2020-05-22T07:56:56.448302Z"
    }
   },
   "outputs": [],
   "source": [
    "def get_link(page_number):\n",
    "    soup = get_soup(main_link+str(page_number))\n",
    "    link_raw = soup.findAll(\"a\", attrs={\"a-card__title\"})\n",
    "    link = [i[\"href\"] for i in link_raw]\n",
    "    return link\n",
    "    "
   ]
  },
  {
   "cell_type": "code",
   "execution_count": 213,
   "metadata": {
    "ExecuteTime": {
     "end_time": "2020-05-22T08:33:16.618362Z",
     "start_time": "2020-05-22T08:33:16.614488Z"
    }
   },
   "outputs": [],
   "source": [
    "get_link(5)"
   ]
  },
  {
   "cell_type": "code",
   "execution_count": 12,
   "metadata": {
    "ExecuteTime": {
     "end_time": "2020-05-22T07:57:19.073823Z",
     "start_time": "2020-05-22T07:57:19.070855Z"
    }
   },
   "outputs": [],
   "source": [
    "all_links = []\n",
    "for i in range(1000):\n",
    "    links = get_link(i)\n",
    "    all_links.append(links)\n",
    "\n",
    "# all_links"
   ]
  },
  {
   "cell_type": "code",
   "execution_count": 13,
   "metadata": {
    "ExecuteTime": {
     "end_time": "2020-05-22T07:57:21.147334Z",
     "start_time": "2020-05-22T07:57:21.138658Z"
    }
   },
   "outputs": [],
   "source": [
    "with open('all_links.pkl', 'rb') as f:\n",
    "    all_links = pickle.load(f)"
   ]
  },
  {
   "cell_type": "code",
   "execution_count": 214,
   "metadata": {
    "ExecuteTime": {
     "end_time": "2020-05-22T08:33:32.174511Z",
     "start_time": "2020-05-22T08:33:32.171050Z"
    }
   },
   "outputs": [],
   "source": [
    "len(all_links)"
   ]
  },
  {
   "cell_type": "markdown",
   "metadata": {},
   "source": [
    "# Парсинг"
   ]
  },
  {
   "cell_type": "code",
   "execution_count": 16,
   "metadata": {
    "ExecuteTime": {
     "end_time": "2020-05-22T07:57:35.934185Z",
     "start_time": "2020-05-22T07:57:35.726072Z"
    }
   },
   "outputs": [],
   "source": [
    "page_link = \"https://krisha.kz\"\n",
    "main_soup = get_soup(\"https://krisha.kz/a/show/57857347\")"
   ]
  },
  {
   "cell_type": "code",
   "execution_count": 215,
   "metadata": {
    "ExecuteTime": {
     "end_time": "2020-05-22T08:33:38.722920Z",
     "start_time": "2020-05-22T08:33:38.719661Z"
    }
   },
   "outputs": [],
   "source": [
    "main_soup.find(\"div\", attrs={\"class\": \"offer__price\"}).text"
   ]
  },
  {
   "cell_type": "markdown",
   "metadata": {},
   "source": [
    "## _get_price"
   ]
  },
  {
   "cell_type": "code",
   "execution_count": 216,
   "metadata": {
    "ExecuteTime": {
     "end_time": "2020-05-22T08:33:45.713091Z",
     "start_time": "2020-05-22T08:33:45.710238Z"
    }
   },
   "outputs": [],
   "source": [
    "def _get_price(main_soup):\n",
    "    try:\n",
    "        price = main_soup.find(\"div\", attrs={'class': 'offer__price'}).text\n",
    "        price = fix_text(price, normalization='NFKC')\n",
    "        price = price.replace(\"〒\", \"\").strip()\n",
    "        price = price.replace(\" \", \"\").strip()\n",
    "        price = int(price)\n",
    "    except:\n",
    "        price = np.nan\n",
    "    return price\n",
    "\n",
    "_get_price(main_soup)"
   ]
  },
  {
   "cell_type": "markdown",
   "metadata": {},
   "source": [
    "## _get_rooms"
   ]
  },
  {
   "cell_type": "code",
   "execution_count": 217,
   "metadata": {
    "ExecuteTime": {
     "end_time": "2020-05-22T08:33:50.379001Z",
     "start_time": "2020-05-22T08:33:50.375601Z"
    }
   },
   "outputs": [],
   "source": [
    "def _get_rooms(main_soup):\n",
    "    try:\n",
    "        tittle = main_soup.find(\"h1\")\n",
    "        tittle = tittle.text.strip()\n",
    "        tittle = tittle.split(\",\")[0]\n",
    "        tittle = tittle.replace(\"-комнатная квартира\", \"\")\n",
    "        tittle = int(tittle)\n",
    "    except:\n",
    "        tittle = np.nan\n",
    "    return tittle\n",
    "\n",
    "_get_rooms(main_soup)"
   ]
  },
  {
   "cell_type": "markdown",
   "metadata": {},
   "source": [
    "## _get_house_name"
   ]
  },
  {
   "cell_type": "code",
   "execution_count": 218,
   "metadata": {
    "ExecuteTime": {
     "end_time": "2020-05-22T08:33:55.618912Z",
     "start_time": "2020-05-22T08:33:55.615639Z"
    }
   },
   "outputs": [],
   "source": [
    "def _get_house_name(main_soup):\n",
    "    try:\n",
    "        house_name = main_soup.find(\"div\", attrs={'data-name': 'map.complex'})\n",
    "        house_name = house_name.text.replace(\"Жилой комплекс\", \"\").strip()\n",
    "    except:\n",
    "        house_name = np.nan\n",
    "    return house_name\n",
    "\n",
    "_get_house_name(main_soup)"
   ]
  },
  {
   "cell_type": "markdown",
   "metadata": {},
   "source": [
    "## _get_square"
   ]
  },
  {
   "cell_type": "code",
   "execution_count": 219,
   "metadata": {
    "ExecuteTime": {
     "end_time": "2020-05-22T08:34:00.507415Z",
     "start_time": "2020-05-22T08:34:00.503168Z"
    }
   },
   "outputs": [],
   "source": [
    "def _get_square(main_soup):\n",
    "    try:\n",
    "        square = main_soup.find(\"div\", {\"data-name\": \"live.square\"}).text\n",
    "        square = [int(s) for s in square.split() if s.isdigit()]\n",
    "    except:\n",
    "        square = np.nan\n",
    "    \n",
    "    return square\n",
    "\n",
    "_get_square(main_soup)"
   ]
  },
  {
   "cell_type": "markdown",
   "metadata": {},
   "source": [
    "## _get_ceiling"
   ]
  },
  {
   "cell_type": "code",
   "execution_count": 220,
   "metadata": {
    "ExecuteTime": {
     "end_time": "2020-05-22T08:34:06.160080Z",
     "start_time": "2020-05-22T08:34:06.154982Z"
    }
   },
   "outputs": [],
   "source": [
    "def _get_ceiling(main_soup):\n",
    "    try:\n",
    "        ceiling = main_soup.find(\"div\", {\"data-name\": \"ceiling\"})\n",
    "        ceiling = ceiling.text.replace(\"Потолки\", \"\").replace(\"м\", \"\").strip()\n",
    "        ceiling = int(ceiling)\n",
    "    except:\n",
    "        ceiling = np.nan\n",
    "    return ceiling\n",
    "\n",
    "_get_ceiling(main_soup)"
   ]
  },
  {
   "cell_type": "markdown",
   "metadata": {},
   "source": [
    "## _get_year_built"
   ]
  },
  {
   "cell_type": "code",
   "execution_count": 221,
   "metadata": {
    "ExecuteTime": {
     "end_time": "2020-05-22T08:34:10.825252Z",
     "start_time": "2020-05-22T08:34:10.822085Z"
    }
   },
   "outputs": [],
   "source": [
    "def _get_year_built(main_soup):\n",
    "    try:\n",
    "        year_built = main_soup.find(\"div\", {\"data-name\": \"flat.building\"}).text\n",
    "        year_built = [int(s) for s in year_built.split() if s.isdigit()][0]\n",
    "    except:\n",
    "        year_built = np.nan\n",
    "    return year_built\n",
    "\n",
    "_get_year_built(main_soup)"
   ]
  },
  {
   "cell_type": "markdown",
   "metadata": {},
   "source": [
    "## _get_floor"
   ]
  },
  {
   "cell_type": "code",
   "execution_count": 222,
   "metadata": {
    "ExecuteTime": {
     "end_time": "2020-05-22T08:34:15.740289Z",
     "start_time": "2020-05-22T08:34:15.737147Z"
    }
   },
   "outputs": [],
   "source": [
    "def _get_floor(main_soup):\n",
    "    try:\n",
    "        floor = main_soup.find(\"div\", {\"data-name\": \"flat.floor\"})\n",
    "        floor = floor.text.replace(\"Этаж\", \"\").strip().split(\" из \")\n",
    "    except:\n",
    "        floor = np.nan\n",
    "        \n",
    "    return floor\n",
    "\n",
    "_get_floor(main_soup)"
   ]
  },
  {
   "cell_type": "markdown",
   "metadata": {},
   "source": [
    "## _get_renovation"
   ]
  },
  {
   "cell_type": "code",
   "execution_count": 223,
   "metadata": {
    "ExecuteTime": {
     "end_time": "2020-05-22T08:34:20.287355Z",
     "start_time": "2020-05-22T08:34:20.284097Z"
    }
   },
   "outputs": [],
   "source": [
    "def _get_renovation(main_soup):\n",
    "    try:\n",
    "        renovation = main_soup.find(\"div\", {\"data-name\": \"flat.renovation\"})\n",
    "        renovation = renovation.text.replace(\"Состояние\", \"\").strip()\n",
    "    except:\n",
    "        renovation = np.nan\n",
    "    return renovation\n",
    "\n",
    "_get_renovation(main_soup)"
   ]
  },
  {
   "cell_type": "markdown",
   "metadata": {},
   "source": [
    "# Объединение"
   ]
  },
  {
   "cell_type": "code",
   "execution_count": 26,
   "metadata": {
    "ExecuteTime": {
     "end_time": "2020-05-22T07:58:35.826589Z",
     "start_time": "2020-05-22T07:58:35.819747Z"
    }
   },
   "outputs": [],
   "source": [
    "def get_page_info(link):\n",
    "    main_soup = get_soup(page_link + link)\n",
    "    \n",
    "    price = _get_price(main_soup)\n",
    "    renovation = _get_renovation(main_soup)\n",
    "    floor = _get_floor(main_soup)\n",
    "    year_built = _get_year_built(main_soup)\n",
    "    ceiling= _get_ceiling(main_soup)\n",
    "    square = _get_square(main_soup)\n",
    "    rooms = _get_rooms(main_soup)\n",
    "    house_name = _get_house_name(main_soup)\n",
    "    \n",
    "    \n",
    "    info = {\n",
    "        'price': price,\n",
    "        'renovation':renovation,\n",
    "        'floor':floor,\n",
    "        'year_built':year_built,\n",
    "        'ceiling':ceiling,\n",
    "        'square':square,\n",
    "        'rooms':rooms,\n",
    "        'house_name':house_name,\n",
    "    }\n",
    "    \n",
    "    return info"
   ]
  },
  {
   "cell_type": "code",
   "execution_count": 224,
   "metadata": {
    "ExecuteTime": {
     "end_time": "2020-05-22T08:34:27.162825Z",
     "start_time": "2020-05-22T08:34:27.159863Z"
    }
   },
   "outputs": [],
   "source": [
    "get_page_info('/a/show/57300188')"
   ]
  },
  {
   "cell_type": "code",
   "execution_count": 29,
   "metadata": {
    "ExecuteTime": {
     "end_time": "2020-05-22T07:58:48.500916Z",
     "start_time": "2020-05-22T07:58:48.492943Z"
    }
   },
   "outputs": [],
   "source": [
    "news_dataset = pd.DataFrame(columns=['renovation', 'floor', 'year_built', 'ceiling', 'square', 'rooms', 'house_name'])\n",
    "\n",
    "for link in tqdm_notebook(all_links):\n",
    "    news_dataset = news_dataset.append(get_page_info(link), ignore_index=True)\n",
    "    time.sleep(0.1)"
   ]
  },
  {
   "cell_type": "markdown",
   "metadata": {},
   "source": [
    "# Очистка данных"
   ]
  },
  {
   "cell_type": "code",
   "execution_count": 225,
   "metadata": {
    "ExecuteTime": {
     "end_time": "2020-05-22T08:34:45.348066Z",
     "start_time": "2020-05-22T08:34:45.345353Z"
    }
   },
   "outputs": [],
   "source": [
    "data = pd.read_pickle(\"news_dataset.pkl\")\n",
    "print(data.shape)\n",
    "data.head()"
   ]
  },
  {
   "cell_type": "markdown",
   "metadata": {},
   "source": [
    "## Обработка пропусков"
   ]
  },
  {
   "cell_type": "code",
   "execution_count": 52,
   "metadata": {
    "ExecuteTime": {
     "end_time": "2020-05-22T08:03:09.463927Z",
     "start_time": "2020-05-22T08:03:09.456712Z"
    }
   },
   "outputs": [],
   "source": [
    "data = data[data.price.isna()==False]"
   ]
  },
  {
   "cell_type": "code",
   "execution_count": 226,
   "metadata": {
    "ExecuteTime": {
     "end_time": "2020-05-22T08:34:51.502817Z",
     "start_time": "2020-05-22T08:34:51.499935Z"
    }
   },
   "outputs": [],
   "source": [
    "data.price = data.price / 1000000\n",
    "data.head(3)"
   ]
  },
  {
   "cell_type": "code",
   "execution_count": 54,
   "metadata": {
    "ExecuteTime": {
     "end_time": "2020-05-22T08:03:11.966567Z",
     "start_time": "2020-05-22T08:03:11.958983Z"
    }
   },
   "outputs": [],
   "source": [
    "data.square.fillna(\"[]\", inplace=True)\n",
    "data.floor.fillna(\"[]\", inplace=True)"
   ]
  },
  {
   "cell_type": "code",
   "execution_count": 227,
   "metadata": {
    "ExecuteTime": {
     "end_time": "2020-05-22T08:34:56.214482Z",
     "start_time": "2020-05-22T08:34:56.210228Z"
    }
   },
   "outputs": [],
   "source": [
    "data.ceiling = data.ceiling.fillna(2.75)\n",
    "data.head(3)"
   ]
  },
  {
   "cell_type": "code",
   "execution_count": 228,
   "metadata": {
    "ExecuteTime": {
     "end_time": "2020-05-22T08:35:00.427566Z",
     "start_time": "2020-05-22T08:35:00.423278Z"
    }
   },
   "outputs": [],
   "source": [
    "data.house_name.fillna(\"Unknown\", inplace=True)\n",
    "data.head(3)"
   ]
  },
  {
   "cell_type": "code",
   "execution_count": 229,
   "metadata": {
    "ExecuteTime": {
     "end_time": "2020-05-22T08:35:03.203167Z",
     "start_time": "2020-05-22T08:35:03.199016Z"
    }
   },
   "outputs": [],
   "source": [
    "data.renovation.fillna(\"Unknown\", inplace=True)\n",
    "data.head(3)"
   ]
  },
  {
   "cell_type": "markdown",
   "metadata": {},
   "source": [
    "## Приведение к единому формату"
   ]
  },
  {
   "cell_type": "code",
   "execution_count": 230,
   "metadata": {
    "ExecuteTime": {
     "end_time": "2020-05-22T08:35:11.006250Z",
     "start_time": "2020-05-22T08:35:11.001098Z"
    }
   },
   "outputs": [],
   "source": [
    "data.head(3)"
   ]
  },
  {
   "cell_type": "code",
   "execution_count": 231,
   "metadata": {
    "ExecuteTime": {
     "end_time": "2020-05-22T08:35:14.314501Z",
     "start_time": "2020-05-22T08:35:14.311635Z"
    }
   },
   "outputs": [],
   "source": [
    "data[\"house_age\"] = 2020 - data[\"year_built\"].astype(int)\n",
    "data.head(3)"
   ]
  },
  {
   "cell_type": "code",
   "execution_count": 232,
   "metadata": {
    "ExecuteTime": {
     "end_time": "2020-05-22T08:35:20.715616Z",
     "start_time": "2020-05-22T08:35:20.711687Z"
    }
   },
   "outputs": [],
   "source": [
    "square_total, square_living, square_kitchen = [], [], []\n",
    "for ind, row in data.iterrows():\n",
    "    if \"]\" in row[\"square\"]:\n",
    "        i = []\n",
    "    else:\n",
    "        i = row[\"square\"]\n",
    "        j = int(row[\"rooms\"]) * 30\n",
    "    square_n = len(i)\n",
    "    if square_n==0:\n",
    "        square_total.append(j)\n",
    "        square_living.append(j * 70 / 100)\n",
    "        square_kitchen.append(j * 20 / 100)\n",
    "    elif square_n==1:\n",
    "        square_total.append(i[0])\n",
    "        square_living.append(j * 70 / 100)\n",
    "        square_kitchen.append(j * 20 / 100)\n",
    "    elif square_n==2:\n",
    "        square_total.append(i[0])\n",
    "        square_living.append(i[1])\n",
    "        square_kitchen.append(j * 20 / 100)\n",
    "    elif square_n==3:\n",
    "        square_total.append(i[0])\n",
    "        square_living.append(i[1])\n",
    "        square_kitchen.append(i[2])\n",
    "        \n",
    "data[\"square_total\"] = square_total\n",
    "data[\"square_living\"] = square_living\n",
    "data[\"square_kitchen\"] = square_kitchen\n",
    "\n",
    "data.head()"
   ]
  },
  {
   "cell_type": "code",
   "execution_count": 233,
   "metadata": {
    "ExecuteTime": {
     "end_time": "2020-05-22T08:35:23.627536Z",
     "start_time": "2020-05-22T08:35:23.624529Z"
    }
   },
   "outputs": [],
   "source": [
    "floor_flat, floors_total = [], []\n",
    "for i in data.floor:\n",
    "    if i == '[]':\n",
    "        i = []\n",
    "    floor_n = len(i)\n",
    "    if floor_n == 0:\n",
    "        floor_flat.append(np.nan)\n",
    "        floors_total.append(np.nan)\n",
    "    elif floor_n==1:\n",
    "        floor_flat.append(int(i[0]))\n",
    "        floors_total.append(np.nan)\n",
    "    elif floor_n==2:\n",
    "        floor_flat.append(int(i[0]))\n",
    "        floors_total.append(int(i[1]))\n",
    "        \n",
    "data[\"floor_flat\"] = floor_flat\n",
    "data[\"floors_total\"] = floors_total\n",
    "\n",
    "data.head()"
   ]
  },
  {
   "cell_type": "code",
   "execution_count": 62,
   "metadata": {
    "ExecuteTime": {
     "end_time": "2020-05-22T08:03:21.598830Z",
     "start_time": "2020-05-22T08:03:21.593708Z"
    }
   },
   "outputs": [],
   "source": [
    "data.year_built = data.year_built.astype(int)\n",
    "data.rooms = data.rooms.astype(int)"
   ]
  },
  {
   "cell_type": "code",
   "execution_count": 234,
   "metadata": {
    "ExecuteTime": {
     "end_time": "2020-05-22T08:35:31.888327Z",
     "start_time": "2020-05-22T08:35:31.885475Z"
    }
   },
   "outputs": [],
   "source": [
    "data.drop([\"priv_dorm\", \"floor\", \"square\", \"year_built\"], axis=1, inplace=True)\n",
    "data.head(3)"
   ]
  },
  {
   "cell_type": "code",
   "execution_count": 235,
   "metadata": {
    "ExecuteTime": {
     "end_time": "2020-05-22T08:35:44.760295Z",
     "start_time": "2020-05-22T08:35:44.757237Z"
    }
   },
   "outputs": [],
   "source": [
    "data.info()"
   ]
  },
  {
   "cell_type": "markdown",
   "metadata": {},
   "source": [
    "# Разведочный анализ"
   ]
  },
  {
   "cell_type": "code",
   "execution_count": 236,
   "metadata": {
    "ExecuteTime": {
     "end_time": "2020-05-22T08:35:49.285962Z",
     "start_time": "2020-05-22T08:35:49.283078Z"
    }
   },
   "outputs": [],
   "source": [
    "data.info()\n",
    "data[data.square_total==0]"
   ]
  },
  {
   "cell_type": "code",
   "execution_count": 80,
   "metadata": {
    "ExecuteTime": {
     "end_time": "2020-05-22T08:05:59.589271Z",
     "start_time": "2020-05-22T08:05:59.581598Z"
    }
   },
   "outputs": [],
   "source": [
    "data[\"price_square\"] = round(data[\"price\"] * 1000000 / data[\"square_total\"],2)"
   ]
  },
  {
   "cell_type": "code",
   "execution_count": 238,
   "metadata": {
    "ExecuteTime": {
     "end_time": "2020-05-22T08:36:07.935897Z",
     "start_time": "2020-05-22T08:36:07.931093Z"
    }
   },
   "outputs": [],
   "source": [
    "data.house_name.value_counts().to_frame(\"cnt\").sort_values(by=\"cnt\" , ascending=False).head(10)"
   ]
  },
  {
   "cell_type": "code",
   "execution_count": 239,
   "metadata": {
    "ExecuteTime": {
     "end_time": "2020-05-22T08:36:14.825966Z",
     "start_time": "2020-05-22T08:36:14.820806Z"
    }
   },
   "outputs": [],
   "source": [
    "# 1х комнатная\n",
    "table = data[data.rooms==1].groupby(\"house_name\").agg({\"price\": \"mean\"}).reset_index(\n",
    ").sort_values(by=\"price\", ascending=False).head(20)\n",
    "plt.figure(figsize=(15,7))\n",
    "sns.barplot(data=table, x=\"price\", y = \"house_name\")\n",
    "plt.show()"
   ]
  },
  {
   "cell_type": "code",
   "execution_count": 240,
   "metadata": {
    "ExecuteTime": {
     "end_time": "2020-05-22T08:36:23.824403Z",
     "start_time": "2020-05-22T08:36:23.820922Z"
    }
   },
   "outputs": [],
   "source": [
    "# 2х комнатная\n",
    "table = data[data.rooms==2].groupby(\"house_name\").agg({\"price\": \"mean\"}).reset_index(\n",
    ").sort_values(by=\"price\", ascending=False).head(20)\n",
    "plt.figure(figsize=(15,7))\n",
    "sns.barplot(data=table, x=\"price\", y = \"house_name\")\n",
    "plt.show()"
   ]
  },
  {
   "cell_type": "code",
   "execution_count": 241,
   "metadata": {
    "ExecuteTime": {
     "end_time": "2020-05-22T08:36:34.025051Z",
     "start_time": "2020-05-22T08:36:34.021385Z"
    }
   },
   "outputs": [],
   "source": [
    "#3х комнатная\n",
    "table = data[data.rooms==3].groupby(\"house_name\").agg({\"price\": \"mean\"}).reset_index(\n",
    ").sort_values(by=\"price\", ascending=False).head(20)\n",
    "plt.figure(figsize=(15,7))\n",
    "sns.barplot(data=table, x=\"price\", y = \"house_name\")\n",
    "plt.show()"
   ]
  },
  {
   "cell_type": "code",
   "execution_count": 242,
   "metadata": {
    "ExecuteTime": {
     "end_time": "2020-05-22T08:36:42.387630Z",
     "start_time": "2020-05-22T08:36:42.383893Z"
    }
   },
   "outputs": [],
   "source": [
    "# 4х комнатная\n",
    "table = data[data.rooms==4].groupby(\"house_name\").agg({\"price\": \"mean\"}).reset_index(\n",
    ").sort_values(by=\"price\", ascending=False).head(20)\n",
    "plt.figure(figsize=(15,7))\n",
    "sns.barplot(data=table, x=\"price\", y = \"house_name\")\n",
    "plt.show()"
   ]
  },
  {
   "cell_type": "code",
   "execution_count": 243,
   "metadata": {
    "ExecuteTime": {
     "end_time": "2020-05-22T08:36:49.518244Z",
     "start_time": "2020-05-22T08:36:49.515139Z"
    }
   },
   "outputs": [],
   "source": [
    "for i in range(1,7):\n",
    "    print(\"{} - комнатная\".format(i))\n",
    "    plt.figure(figsize=(15,i))\n",
    "    sns.boxplot(data=data[data.rooms==4][[\"price\"]], orient=\"h\")\n",
    "    plt.show()"
   ]
  },
  {
   "cell_type": "markdown",
   "metadata": {},
   "source": [
    "# Моделирование и интерпретация результатов"
   ]
  },
  {
   "cell_type": "code",
   "execution_count": 133,
   "metadata": {
    "ExecuteTime": {
     "end_time": "2020-05-22T08:19:54.389912Z",
     "start_time": "2020-05-22T08:19:54.385358Z"
    }
   },
   "outputs": [],
   "source": [
    "from sklearn.linear_model import LinearRegression\n",
    "from catboost import CatBoostRegressor\n",
    "from sklearn.preprocessing import StandardScaler\n",
    "\n",
    "from sklearn.model_selection import train_test_split\n",
    "from sklearn.metrics import mean_squared_error"
   ]
  },
  {
   "cell_type": "code",
   "execution_count": null,
   "metadata": {},
   "outputs": [],
   "source": [
    "data.info()"
   ]
  },
  {
   "cell_type": "code",
   "execution_count": 150,
   "metadata": {
    "ExecuteTime": {
     "end_time": "2020-05-22T08:21:21.586578Z",
     "start_time": "2020-05-22T08:21:21.581145Z"
    }
   },
   "outputs": [],
   "source": [
    "data.drop(\"house_name\", axis=1, inplace=True)"
   ]
  },
  {
   "cell_type": "code",
   "execution_count": 179,
   "metadata": {
    "ExecuteTime": {
     "end_time": "2020-05-22T08:25:36.897233Z",
     "start_time": "2020-05-22T08:25:36.887676Z"
    }
   },
   "outputs": [],
   "source": [
    "data.dropna(inplace=True)"
   ]
  },
  {
   "cell_type": "code",
   "execution_count": 180,
   "metadata": {
    "ExecuteTime": {
     "end_time": "2020-05-22T08:25:38.304384Z",
     "start_time": "2020-05-22T08:25:38.300854Z"
    }
   },
   "outputs": [],
   "source": [
    "scaler = StandardScaler()\n",
    "m_linear = LinearRegression()"
   ]
  },
  {
   "cell_type": "code",
   "execution_count": 182,
   "metadata": {
    "ExecuteTime": {
     "end_time": "2020-05-22T08:25:40.246312Z",
     "start_time": "2020-05-22T08:25:40.240614Z"
    }
   },
   "outputs": [],
   "source": [
    "data_renovation = pd.get_dummies(data[\"renovation\"])"
   ]
  },
  {
   "cell_type": "code",
   "execution_count": 183,
   "metadata": {
    "ExecuteTime": {
     "end_time": "2020-05-22T08:25:40.812477Z",
     "start_time": "2020-05-22T08:25:40.804534Z"
    }
   },
   "outputs": [],
   "source": [
    "df = pd.concat([data, data_renovation], axis=1).drop(\"renovation\", axis=1)"
   ]
  },
  {
   "cell_type": "code",
   "execution_count": 252,
   "metadata": {
    "ExecuteTime": {
     "end_time": "2020-05-22T08:38:19.002468Z",
     "start_time": "2020-05-22T08:38:18.999252Z"
    }
   },
   "outputs": [],
   "source": [
    "df = df[df.price<150]\n",
    "df.head()"
   ]
  },
  {
   "cell_type": "code",
   "execution_count": 185,
   "metadata": {
    "ExecuteTime": {
     "end_time": "2020-05-22T08:25:42.053291Z",
     "start_time": "2020-05-22T08:25:42.048710Z"
    }
   },
   "outputs": [],
   "source": [
    "X = df.drop(\"price\", axis=1)\n",
    "y = df[\"price\"]"
   ]
  },
  {
   "cell_type": "code",
   "execution_count": 245,
   "metadata": {
    "ExecuteTime": {
     "end_time": "2020-05-22T08:37:28.600728Z",
     "start_time": "2020-05-22T08:37:28.596917Z"
    }
   },
   "outputs": [],
   "source": [
    "X_train, X_test, y_train, y_test = train_test_split(X, y, test_size=0.20)\n",
    "print(X_train.shape, X_test.shape, y_train.shape, y_test.shape)"
   ]
  },
  {
   "cell_type": "code",
   "execution_count": 244,
   "metadata": {
    "ExecuteTime": {
     "end_time": "2020-05-22T08:37:25.651943Z",
     "start_time": "2020-05-22T08:37:25.649027Z"
    }
   },
   "outputs": [],
   "source": [
    "m_linear.fit(X_train, y_train)"
   ]
  },
  {
   "cell_type": "code",
   "execution_count": 189,
   "metadata": {
    "ExecuteTime": {
     "end_time": "2020-05-22T08:25:47.500257Z",
     "start_time": "2020-05-22T08:25:47.495513Z"
    }
   },
   "outputs": [],
   "source": [
    "def model_scores(modelName):\n",
    "    y_pred = modelName.predict(X_test)\n",
    "    mse = \"\\nMSE: {:.4f}\".format(mean_squared_error(y_pred, y_test))\n",
    "    rmse = \"\\nMSE: {:.4f}\".format(math.sqrt(mean_squared_error(y_pred, y_test)))\n",
    "    return mse, rmse"
   ]
  },
  {
   "cell_type": "code",
   "execution_count": 246,
   "metadata": {
    "ExecuteTime": {
     "end_time": "2020-05-22T08:37:35.685923Z",
     "start_time": "2020-05-22T08:37:35.680770Z"
    }
   },
   "outputs": [],
   "source": [
    "model_scores(m_linear)"
   ]
  },
  {
   "cell_type": "code",
   "execution_count": 192,
   "metadata": {
    "ExecuteTime": {
     "end_time": "2020-05-22T08:26:03.143860Z",
     "start_time": "2020-05-22T08:26:03.141229Z"
    }
   },
   "outputs": [],
   "source": [
    "## Результат"
   ]
  },
  {
   "cell_type": "code",
   "execution_count": 194,
   "metadata": {
    "ExecuteTime": {
     "end_time": "2020-05-22T08:26:09.997751Z",
     "start_time": "2020-05-22T08:26:09.882395Z"
    }
   },
   "outputs": [],
   "source": [
    "y_pred = m_linear.predict(X_test)\n",
    "\n",
    "result = pd.DataFrame([y_pred, y_test.values]).T\n",
    "result.columns = [\"actual\", \"predicted\"]\n",
    "result = result.reset_index()\n",
    "result = pd.melt(result, id_vars=[\"index\"], value_vars=[\"actual\", \"predicted\"])"
   ]
  },
  {
   "cell_type": "code",
   "execution_count": 195,
   "metadata": {
    "ExecuteTime": {
     "end_time": "2020-05-22T08:26:15.413718Z",
     "start_time": "2020-05-22T08:26:15.408083Z"
    }
   },
   "outputs": [],
   "source": [
    "result = result.sort_values(by=\"index\").head(50)"
   ]
  },
  {
   "cell_type": "code",
   "execution_count": 247,
   "metadata": {
    "ExecuteTime": {
     "end_time": "2020-05-22T08:37:42.537918Z",
     "start_time": "2020-05-22T08:37:42.534992Z"
    }
   },
   "outputs": [],
   "source": [
    "plt.figure(figsize=(15,7))\n",
    "sns.barplot(x=\"index\", hue=\"variable\", y=\"value\", data=result)"
   ]
  },
  {
   "cell_type": "code",
   "execution_count": 200,
   "metadata": {
    "ExecuteTime": {
     "end_time": "2020-05-22T08:27:13.117208Z",
     "start_time": "2020-05-22T08:27:13.113395Z"
    }
   },
   "outputs": [],
   "source": [
    "Importance = m_linear.coef_\n",
    "Columns = X_train.columns"
   ]
  },
  {
   "cell_type": "code",
   "execution_count": 248,
   "metadata": {
    "ExecuteTime": {
     "end_time": "2020-05-22T08:37:55.537311Z",
     "start_time": "2020-05-22T08:37:55.534506Z"
    }
   },
   "outputs": [],
   "source": [
    "imp = pd.DataFrame([Columns, Importance]).T\n",
    "imp.columns = [\"feature\", \"coef\"]\n",
    "imp.sort_values(by=\"coef\", inplace=True, ascending=False)\n",
    "imp.head()"
   ]
  },
  {
   "cell_type": "code",
   "execution_count": 251,
   "metadata": {
    "ExecuteTime": {
     "end_time": "2020-05-22T08:38:11.353179Z",
     "start_time": "2020-05-22T08:38:11.350298Z"
    }
   },
   "outputs": [],
   "source": [
    "plt.figure(figsize=(15,6))\n",
    "sns.barplot(data=imp, x=\"coef\", y=\"feature\")"
   ]
  }
 ],
 "metadata": {
  "kernelspec": {
   "display_name": "Python 3",
   "language": "python",
   "name": "python3"
  },
  "language_info": {
   "codemirror_mode": {
    "name": "ipython",
    "version": 3
   },
   "file_extension": ".py",
   "mimetype": "text/x-python",
   "name": "python",
   "nbconvert_exporter": "python",
   "pygments_lexer": "ipython3",
   "version": "3.7.3"
  },
  "toc": {
   "base_numbering": 1,
   "nav_menu": {},
   "number_sections": true,
   "sideBar": true,
   "skip_h1_title": false,
   "title_cell": "Table of Contents",
   "title_sidebar": "Contents",
   "toc_cell": false,
   "toc_position": {},
   "toc_section_display": true,
   "toc_window_display": true
  },
  "varInspector": {
   "cols": {
    "lenName": 16,
    "lenType": 16,
    "lenVar": 40
   },
   "kernels_config": {
    "python": {
     "delete_cmd_postfix": "",
     "delete_cmd_prefix": "del ",
     "library": "var_list.py",
     "varRefreshCmd": "print(var_dic_list())"
    },
    "r": {
     "delete_cmd_postfix": ") ",
     "delete_cmd_prefix": "rm(",
     "library": "var_list.r",
     "varRefreshCmd": "cat(var_dic_list()) "
    }
   },
   "types_to_exclude": [
    "module",
    "function",
    "builtin_function_or_method",
    "instance",
    "_Feature"
   ],
   "window_display": false
  }
 },
 "nbformat": 4,
 "nbformat_minor": 2
}
