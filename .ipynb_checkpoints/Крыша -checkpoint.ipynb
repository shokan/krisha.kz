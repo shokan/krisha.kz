{
 "cells": [
  {
   "cell_type": "markdown",
   "metadata": {},
   "source": [
    "* Сбор данных\n",
    " *    Кроллинг\n",
    " *    Парсинг\n",
    "* Очистка данных\n",
    " *    Обработка пропусков\n",
    " *    Приведение к единому формату\n",
    "* Разводочный анализ\n",
    "* Моделирование и интерпретация результатов"
   ]
  },
  {
   "cell_type": "code",
   "execution_count": 3,
   "metadata": {
    "ExecuteTime": {
     "end_time": "2020-05-22T08:52:30.694755Z",
     "start_time": "2020-05-22T08:52:28.388013Z"
    }
   },
   "outputs": [],
   "source": [
    "import requests\n",
    "from bs4 import BeautifulSoup\n",
    "\n",
    "from fake_useragent import UserAgent\n",
    "\n",
    "import pandas as pd\n",
    "import time\n",
    "\n",
    "from tqdm import tqdm_notebook\n",
    "from ftfy import fix_text\n",
    "\n",
    "import pickle\n",
    "import matplotlib.pyplot as plt\n",
    "import seaborn as sns\n",
    "import math"
   ]
  },
  {
   "cell_type": "markdown",
   "metadata": {},
   "source": [
    "# Кроулинг"
   ]
  },
  {
   "cell_type": "code",
   "execution_count": 15,
   "metadata": {
    "ExecuteTime": {
     "end_time": "2020-05-22T08:55:48.221869Z",
     "start_time": "2020-05-22T08:55:48.218999Z"
    }
   },
   "outputs": [],
   "source": []
  },
  {
   "cell_type": "code",
   "execution_count": 9,
   "metadata": {
    "ExecuteTime": {
     "end_time": "2020-05-22T08:53:29.685961Z",
     "start_time": "2020-05-22T08:53:29.480813Z"
    }
   },
   "outputs": [],
   "source": []
  },
  {
   "cell_type": "code",
   "execution_count": 48,
   "metadata": {
    "ExecuteTime": {
     "end_time": "2020-05-22T09:08:33.930631Z",
     "start_time": "2020-05-22T09:08:33.926653Z"
    }
   },
   "outputs": [],
   "source": []
  },
  {
   "cell_type": "code",
   "execution_count": 19,
   "metadata": {
    "ExecuteTime": {
     "end_time": "2020-05-22T08:56:12.171441Z",
     "start_time": "2020-05-22T08:56:11.679543Z"
    }
   },
   "outputs": [],
   "source": []
  },
  {
   "cell_type": "code",
   "execution_count": 22,
   "metadata": {
    "ExecuteTime": {
     "end_time": "2020-05-22T08:58:17.113670Z",
     "start_time": "2020-05-22T08:58:17.071466Z"
    }
   },
   "outputs": [],
   "source": []
  },
  {
   "cell_type": "code",
   "execution_count": 24,
   "metadata": {
    "ExecuteTime": {
     "end_time": "2020-05-22T08:59:07.626821Z",
     "start_time": "2020-05-22T08:59:07.622838Z"
    }
   },
   "outputs": [],
   "source": []
  },
  {
   "cell_type": "code",
   "execution_count": 26,
   "metadata": {
    "ExecuteTime": {
     "end_time": "2020-05-22T09:00:25.941967Z",
     "start_time": "2020-05-22T09:00:25.936021Z"
    }
   },
   "outputs": [],
   "source": []
  },
  {
   "cell_type": "code",
   "execution_count": 28,
   "metadata": {
    "ExecuteTime": {
     "end_time": "2020-05-22T09:02:30.778624Z",
     "start_time": "2020-05-22T09:02:30.775105Z"
    }
   },
   "outputs": [],
   "source": []
  },
  {
   "cell_type": "code",
   "execution_count": 213,
   "metadata": {
    "ExecuteTime": {
     "end_time": "2020-05-22T08:33:16.618362Z",
     "start_time": "2020-05-22T08:33:16.614488Z"
    }
   },
   "outputs": [],
   "source": []
  },
  {
   "cell_type": "code",
   "execution_count": 12,
   "metadata": {
    "ExecuteTime": {
     "end_time": "2020-05-22T07:57:19.073823Z",
     "start_time": "2020-05-22T07:57:19.070855Z"
    }
   },
   "outputs": [],
   "source": []
  },
  {
   "cell_type": "code",
   "execution_count": 29,
   "metadata": {
    "ExecuteTime": {
     "end_time": "2020-05-22T09:02:42.167100Z",
     "start_time": "2020-05-22T09:02:42.158516Z"
    }
   },
   "outputs": [],
   "source": [
    "with open('all_links.pkl', 'rb') as f:\n",
    "    all_links = pickle.load(f)"
   ]
  },
  {
   "cell_type": "code",
   "execution_count": 32,
   "metadata": {
    "ExecuteTime": {
     "end_time": "2020-05-22T09:02:53.641974Z",
     "start_time": "2020-05-22T09:02:53.637946Z"
    }
   },
   "outputs": [],
   "source": [
    "# all_links"
   ]
  },
  {
   "cell_type": "markdown",
   "metadata": {},
   "source": [
    "# Парсинг"
   ]
  },
  {
   "cell_type": "code",
   "execution_count": 49,
   "metadata": {
    "ExecuteTime": {
     "end_time": "2020-05-22T09:08:36.679473Z",
     "start_time": "2020-05-22T09:08:36.429493Z"
    }
   },
   "outputs": [],
   "source": [
    "page_link = \"https://krisha.kz\"\n",
    "main_soup = get_soup(\"https://krisha.kz/a/show/57859710\")"
   ]
  },
  {
   "cell_type": "code",
   "execution_count": 154,
   "metadata": {
    "ExecuteTime": {
     "end_time": "2020-05-22T09:24:21.377095Z",
     "start_time": "2020-05-22T09:24:21.356080Z"
    }
   },
   "outputs": [],
   "source": [
    "main_soup.find(\"div\", attrs={'class': 'offer__price'}).text"
   ]
  },
  {
   "cell_type": "markdown",
   "metadata": {},
   "source": [
    "## _get_price"
   ]
  },
  {
   "cell_type": "code",
   "execution_count": 153,
   "metadata": {
    "ExecuteTime": {
     "end_time": "2020-05-22T09:24:16.478224Z",
     "start_time": "2020-05-22T09:24:16.474688Z"
    }
   },
   "outputs": [],
   "source": [
    "def _get_price(main_soup):\n",
    "    try:\n",
    "        price = main_soup.find(\"div\", attrs={'class': 'offer__price'}).text\n",
    "        price = fix_text(price, normalization='NFKC')\n",
    "        price = price.replace(\"〒\", \"\").strip()\n",
    "        price = price.replace(\" \", \"\").strip()\n",
    "        price = int(price)\n",
    "    except:\n",
    "        price = np.nan\n",
    "    return price\n",
    "\n",
    "_get_price(main_soup)"
   ]
  },
  {
   "cell_type": "markdown",
   "metadata": {},
   "source": [
    "## _get_rooms"
   ]
  },
  {
   "cell_type": "code",
   "execution_count": 152,
   "metadata": {
    "ExecuteTime": {
     "end_time": "2020-05-22T09:24:12.800743Z",
     "start_time": "2020-05-22T09:24:12.792547Z"
    }
   },
   "outputs": [],
   "source": [
    "def _get_rooms(main_soup):\n",
    "    try:\n",
    "        tittle = main_soup.find(\"h1\")\n",
    "        tittle = tittle.text.strip()\n",
    "        tittle = tittle.split(\",\")[0]\n",
    "        tittle = tittle.replace(\"-комнатная квартира\", \"\")\n",
    "        tittle = int(tittle)\n",
    "    except:\n",
    "        tittle = np.nan\n",
    "    return tittle\n",
    "\n",
    "_get_rooms(main_soup)"
   ]
  },
  {
   "cell_type": "markdown",
   "metadata": {},
   "source": [
    "## _get_house_name"
   ]
  },
  {
   "cell_type": "code",
   "execution_count": 151,
   "metadata": {
    "ExecuteTime": {
     "end_time": "2020-05-22T09:24:09.150921Z",
     "start_time": "2020-05-22T09:24:09.148003Z"
    }
   },
   "outputs": [],
   "source": [
    "def _get_house_name(main_soup):\n",
    "    try:\n",
    "        house_name = main_soup.find(\"div\", attrs={'data-name': 'map.complex'})\n",
    "        house_name = house_name.text.replace(\"Жилой комплекс\", \"\").strip()\n",
    "    except:\n",
    "        house_name = np.nan\n",
    "    return house_name\n",
    "\n",
    "_get_house_name(main_soup)"
   ]
  },
  {
   "cell_type": "markdown",
   "metadata": {},
   "source": [
    "## _get_square"
   ]
  },
  {
   "cell_type": "code",
   "execution_count": 150,
   "metadata": {
    "ExecuteTime": {
     "end_time": "2020-05-22T09:24:04.273756Z",
     "start_time": "2020-05-22T09:24:04.270187Z"
    }
   },
   "outputs": [],
   "source": [
    "def _get_square(main_soup):\n",
    "    try:\n",
    "        square = main_soup.find(\"div\", {\"data-name\": \"live.square\"}).text\n",
    "        square = [int(s) for s in square.split() if s.isdigit()]\n",
    "    except:\n",
    "        square = np.nan\n",
    "    \n",
    "    return square\n",
    "\n",
    "_get_square(main_soup)"
   ]
  },
  {
   "cell_type": "markdown",
   "metadata": {},
   "source": [
    "## _get_ceiling"
   ]
  },
  {
   "cell_type": "code",
   "execution_count": 149,
   "metadata": {
    "ExecuteTime": {
     "end_time": "2020-05-22T09:24:00.328346Z",
     "start_time": "2020-05-22T09:24:00.325328Z"
    }
   },
   "outputs": [],
   "source": [
    "def _get_ceiling(main_soup):\n",
    "    try:\n",
    "        ceiling = main_soup.find(\"div\", {\"data-name\": \"ceiling\"})\n",
    "        ceiling = ceiling.text.replace(\"Потолки\", \"\").replace(\"м\", \"\").strip()\n",
    "        ceiling = int(ceiling)\n",
    "    except:\n",
    "        ceiling = np.nan\n",
    "    return ceiling\n",
    "\n",
    "_get_ceiling(main_soup)"
   ]
  },
  {
   "cell_type": "markdown",
   "metadata": {},
   "source": [
    "## _get_year_built"
   ]
  },
  {
   "cell_type": "code",
   "execution_count": 148,
   "metadata": {
    "ExecuteTime": {
     "end_time": "2020-05-22T09:23:56.673572Z",
     "start_time": "2020-05-22T09:23:56.670369Z"
    }
   },
   "outputs": [],
   "source": [
    "def _get_year_built(main_soup):\n",
    "    try:\n",
    "        year_built = main_soup.find(\"div\", {\"data-name\": \"flat.building\"}).text\n",
    "        year_built = [int(s) for s in year_built.split() if s.isdigit()][0]\n",
    "    except:\n",
    "        year_built = np.nan\n",
    "    return year_built\n",
    "\n",
    "_get_year_built(main_soup)"
   ]
  },
  {
   "cell_type": "markdown",
   "metadata": {},
   "source": [
    "## _get_floor"
   ]
  },
  {
   "cell_type": "code",
   "execution_count": 147,
   "metadata": {
    "ExecuteTime": {
     "end_time": "2020-05-22T09:23:53.014660Z",
     "start_time": "2020-05-22T09:23:53.009829Z"
    }
   },
   "outputs": [],
   "source": [
    "def _get_floor(main_soup):\n",
    "    try:\n",
    "        floor = main_soup.find(\"div\", {\"data-name\": \"flat.floor\"})\n",
    "        floor = floor.text.replace(\"Этаж\", \"\").strip().split(\" из \")\n",
    "    except:\n",
    "        floor = np.nan\n",
    "        \n",
    "    return floor\n",
    "\n",
    "_get_floor(main_soup)"
   ]
  },
  {
   "cell_type": "markdown",
   "metadata": {},
   "source": [
    "## _get_renovation"
   ]
  },
  {
   "cell_type": "code",
   "execution_count": 146,
   "metadata": {
    "ExecuteTime": {
     "end_time": "2020-05-22T09:23:47.556297Z",
     "start_time": "2020-05-22T09:23:47.550575Z"
    }
   },
   "outputs": [],
   "source": [
    "def _get_renovation(main_soup):\n",
    "    try:\n",
    "        renovation = main_soup.find(\"div\", {\"data-name\": \"flat.renovation\"})\n",
    "        renovation = renovation.text.replace(\"Состояние\", \"\").strip()\n",
    "    except:\n",
    "        renovation = np.nan\n",
    "    return renovation\n",
    "\n",
    "_get_renovation(main_soup)"
   ]
  },
  {
   "cell_type": "markdown",
   "metadata": {},
   "source": [
    "# Объединение"
   ]
  },
  {
   "cell_type": "code",
   "execution_count": 60,
   "metadata": {
    "ExecuteTime": {
     "end_time": "2020-05-22T09:09:16.929546Z",
     "start_time": "2020-05-22T09:09:16.922835Z"
    }
   },
   "outputs": [],
   "source": [
    "def get_page_info(link):\n",
    "    main_soup = get_soup(page_link + link)\n",
    "    \n",
    "    price = _get_price(main_soup)\n",
    "    renovation = _get_renovation(main_soup)\n",
    "    floor = _get_floor(main_soup)\n",
    "    year_built = _get_year_built(main_soup)\n",
    "    ceiling= _get_ceiling(main_soup)\n",
    "    square = _get_square(main_soup)\n",
    "    rooms = _get_rooms(main_soup)\n",
    "    house_name = _get_house_name(main_soup)\n",
    "    \n",
    "    \n",
    "    info = {\n",
    "        'price': price,\n",
    "        'renovation':renovation,\n",
    "        'floor':floor,\n",
    "        'year_built':year_built,\n",
    "        'ceiling':ceiling,\n",
    "        'square':square,\n",
    "        'rooms':rooms,\n",
    "        'house_name':house_name,\n",
    "    }\n",
    "    \n",
    "    return info"
   ]
  },
  {
   "cell_type": "code",
   "execution_count": 145,
   "metadata": {
    "ExecuteTime": {
     "end_time": "2020-05-22T09:23:42.867512Z",
     "start_time": "2020-05-22T09:23:42.863219Z"
    }
   },
   "outputs": [],
   "source": [
    "get_page_info('/a/show/57859710')"
   ]
  },
  {
   "cell_type": "code",
   "execution_count": 64,
   "metadata": {
    "ExecuteTime": {
     "end_time": "2020-05-22T09:10:31.986562Z",
     "start_time": "2020-05-22T09:10:31.983537Z"
    }
   },
   "outputs": [],
   "source": [
    "news_dataset = pd.DataFrame(columns=['renovation', 'floor', 'year_built', 'ceiling', 'square', 'rooms', 'house_name'])\n",
    "\n",
    "for link in tqdm_notebook(all_links):\n",
    "    news_dataset = news_dataset.append(get_page_info(link), ignore_index=True)\n",
    "    time.sleep(0.1)"
   ]
  },
  {
   "cell_type": "markdown",
   "metadata": {},
   "source": [
    "# Очистка данных"
   ]
  },
  {
   "cell_type": "code",
   "execution_count": 144,
   "metadata": {
    "ExecuteTime": {
     "end_time": "2020-05-22T09:23:37.795598Z",
     "start_time": "2020-05-22T09:23:37.790594Z"
    }
   },
   "outputs": [],
   "source": [
    "data = pd.read_pickle(\"news_dataset.pkl\").drop(\"priv_dorm\", axis=1)\n",
    "print(data.shape)\n",
    "data.head()"
   ]
  },
  {
   "cell_type": "markdown",
   "metadata": {},
   "source": [
    "## Обработка пропусков"
   ]
  },
  {
   "cell_type": "code",
   "execution_count": 67,
   "metadata": {
    "ExecuteTime": {
     "end_time": "2020-05-22T09:11:31.151707Z",
     "start_time": "2020-05-22T09:11:31.144611Z"
    }
   },
   "outputs": [],
   "source": [
    "data = data[data.price.isna()==False]"
   ]
  },
  {
   "cell_type": "code",
   "execution_count": 143,
   "metadata": {
    "ExecuteTime": {
     "end_time": "2020-05-22T09:23:30.322925Z",
     "start_time": "2020-05-22T09:23:30.319349Z"
    }
   },
   "outputs": [],
   "source": [
    "data.price = data.price / 1000000\n",
    "data.head(3)"
   ]
  },
  {
   "cell_type": "code",
   "execution_count": 69,
   "metadata": {
    "ExecuteTime": {
     "end_time": "2020-05-22T09:12:08.097377Z",
     "start_time": "2020-05-22T09:12:08.091136Z"
    }
   },
   "outputs": [],
   "source": [
    "data.square.fillna(\"[]\", inplace=True)\n",
    "data.floor.fillna(\"[]\", inplace=True)"
   ]
  },
  {
   "cell_type": "code",
   "execution_count": 71,
   "metadata": {
    "ExecuteTime": {
     "end_time": "2020-05-22T09:13:04.983639Z",
     "start_time": "2020-05-22T09:13:04.980125Z"
    }
   },
   "outputs": [],
   "source": [
    "# data.ceiling.value_counts()"
   ]
  },
  {
   "cell_type": "code",
   "execution_count": 142,
   "metadata": {
    "ExecuteTime": {
     "end_time": "2020-05-22T09:23:24.448499Z",
     "start_time": "2020-05-22T09:23:24.443417Z"
    }
   },
   "outputs": [],
   "source": [
    "data.ceiling = data.ceiling.fillna(2.75)\n",
    "data.head(3)"
   ]
  },
  {
   "cell_type": "code",
   "execution_count": 141,
   "metadata": {
    "ExecuteTime": {
     "end_time": "2020-05-22T09:23:19.990569Z",
     "start_time": "2020-05-22T09:23:19.987920Z"
    }
   },
   "outputs": [],
   "source": [
    "data.house_name.fillna(\"Unknown\", inplace=True)\n",
    "data.head(3)"
   ]
  },
  {
   "cell_type": "code",
   "execution_count": 140,
   "metadata": {
    "ExecuteTime": {
     "end_time": "2020-05-22T09:23:12.756595Z",
     "start_time": "2020-05-22T09:23:12.754079Z"
    }
   },
   "outputs": [],
   "source": [
    "data.renovation.fillna(\"Unknown\", inplace=True)\n",
    "data.head(3)"
   ]
  },
  {
   "cell_type": "markdown",
   "metadata": {},
   "source": [
    "## Приведение к единому формату / Новые переменные"
   ]
  },
  {
   "cell_type": "code",
   "execution_count": 139,
   "metadata": {
    "ExecuteTime": {
     "end_time": "2020-05-22T09:23:08.577987Z",
     "start_time": "2020-05-22T09:23:08.571956Z"
    }
   },
   "outputs": [],
   "source": [
    "data.head(3)"
   ]
  },
  {
   "cell_type": "code",
   "execution_count": 138,
   "metadata": {
    "ExecuteTime": {
     "end_time": "2020-05-22T09:23:03.514153Z",
     "start_time": "2020-05-22T09:23:03.509624Z"
    }
   },
   "outputs": [],
   "source": [
    "data[\"house_age\"] = 2020 - data[\"year_built\"].astype(int)\n",
    "data.head(7)"
   ]
  },
  {
   "cell_type": "code",
   "execution_count": 137,
   "metadata": {
    "ExecuteTime": {
     "end_time": "2020-05-22T09:22:57.562059Z",
     "start_time": "2020-05-22T09:22:57.559044Z"
    }
   },
   "outputs": [],
   "source": [
    "square_total, square_living, square_kitchen = [], [], []\n",
    "for ind, row in data.iterrows():\n",
    "    if \"]\" in row[\"square\"]:\n",
    "        i = []\n",
    "    else:\n",
    "        i = row[\"square\"]\n",
    "        j = int(row[\"rooms\"]) * 30\n",
    "    square_n = len(i)\n",
    "    if square_n==0:\n",
    "        square_total.append(j)\n",
    "        square_living.append(j * 70 / 100)\n",
    "        square_kitchen.append(j * 20 / 100)\n",
    "    elif square_n==1:\n",
    "        square_total.append(i[0])\n",
    "        square_living.append(j * 70 / 100)\n",
    "        square_kitchen.append(j * 20 / 100)\n",
    "    elif square_n==2:\n",
    "        square_total.append(i[0])\n",
    "        square_living.append(i[1])\n",
    "        square_kitchen.append(j * 20 / 100)\n",
    "    elif square_n==3:\n",
    "        square_total.append(i[0])\n",
    "        square_living.append(i[1])\n",
    "        square_kitchen.append(i[2])\n",
    "        \n",
    "data[\"square_total\"] = square_total\n",
    "data[\"square_living\"] = square_living\n",
    "data[\"square_kitchen\"] = square_kitchen\n",
    "\n",
    "data.head()"
   ]
  },
  {
   "cell_type": "code",
   "execution_count": 136,
   "metadata": {
    "ExecuteTime": {
     "end_time": "2020-05-22T09:22:49.719662Z",
     "start_time": "2020-05-22T09:22:49.714488Z"
    }
   },
   "outputs": [],
   "source": [
    "floor_flat, floors_total = [], []\n",
    "for i in data.floor:\n",
    "    if i == '[]':\n",
    "        i = []\n",
    "    floor_n = len(i)\n",
    "    if floor_n == 0:\n",
    "        floor_flat.append(np.nan)\n",
    "        floors_total.append(np.nan)\n",
    "    elif floor_n==1:\n",
    "        floor_flat.append(int(i[0]))\n",
    "        floors_total.append(np.nan)\n",
    "    elif floor_n==2:\n",
    "        floor_flat.append(int(i[0]))\n",
    "        floors_total.append(int(i[1]))\n",
    "        \n",
    "data[\"floor_flat\"] = floor_flat\n",
    "data[\"floors_total\"] = floors_total\n",
    "\n",
    "data.head()"
   ]
  },
  {
   "cell_type": "code",
   "execution_count": 81,
   "metadata": {
    "ExecuteTime": {
     "end_time": "2020-05-22T09:15:59.060524Z",
     "start_time": "2020-05-22T09:15:59.052043Z"
    }
   },
   "outputs": [],
   "source": [
    "data.year_built = data.year_built.astype(int)\n",
    "data.rooms = data.rooms.astype(int)"
   ]
  },
  {
   "cell_type": "code",
   "execution_count": 135,
   "metadata": {
    "ExecuteTime": {
     "end_time": "2020-05-22T09:22:45.822339Z",
     "start_time": "2020-05-22T09:22:45.819308Z"
    }
   },
   "outputs": [],
   "source": [
    "data.drop([\"floor\", \"square\", \"year_built\"], axis=1, inplace=True)\n",
    "data.head(3)"
   ]
  },
  {
   "cell_type": "markdown",
   "metadata": {},
   "source": [
    "# Разведочный анализ"
   ]
  },
  {
   "cell_type": "code",
   "execution_count": 134,
   "metadata": {
    "ExecuteTime": {
     "end_time": "2020-05-22T09:22:41.242481Z",
     "start_time": "2020-05-22T09:22:41.240098Z"
    }
   },
   "outputs": [],
   "source": [
    "data.info()\n",
    "data[data.square_total==0]"
   ]
  },
  {
   "cell_type": "code",
   "execution_count": 133,
   "metadata": {
    "ExecuteTime": {
     "end_time": "2020-05-22T09:22:36.169503Z",
     "start_time": "2020-05-22T09:22:36.165380Z"
    }
   },
   "outputs": [],
   "source": [
    "data[\"price_square\"] = round(data[\"price\"] * 1000000 / data[\"square_total\"],2)\n",
    "data.head()"
   ]
  },
  {
   "cell_type": "code",
   "execution_count": 132,
   "metadata": {
    "ExecuteTime": {
     "end_time": "2020-05-22T09:22:31.804364Z",
     "start_time": "2020-05-22T09:22:31.801476Z"
    }
   },
   "outputs": [],
   "source": [
    "data.house_name.value_counts().to_frame(\"cnt\").sort_values(by=\"cnt\" , ascending=False).head(15)"
   ]
  },
  {
   "cell_type": "code",
   "execution_count": 131,
   "metadata": {
    "ExecuteTime": {
     "end_time": "2020-05-22T09:22:26.621785Z",
     "start_time": "2020-05-22T09:22:26.619279Z"
    }
   },
   "outputs": [],
   "source": [
    "# 1х комнатная\n",
    "table = data[data.rooms==1].groupby(\"house_name\").agg({\"price\": \"mean\"}).reset_index(\n",
    ").sort_values(by=\"price\", ascending=False).head(20)\n",
    "plt.figure(figsize=(15,7))\n",
    "sns.barplot(data=table, x=\"price\", y = \"house_name\")\n",
    "plt.show()"
   ]
  },
  {
   "cell_type": "code",
   "execution_count": 130,
   "metadata": {
    "ExecuteTime": {
     "end_time": "2020-05-22T09:22:20.042986Z",
     "start_time": "2020-05-22T09:22:20.038494Z"
    }
   },
   "outputs": [],
   "source": [
    "# 2х комнатная\n",
    "table = data[data.rooms==2].groupby(\"house_name\").agg({\"price\": \"mean\"}).reset_index(\n",
    ").sort_values(by=\"price\", ascending=False).head(20)\n",
    "plt.figure(figsize=(15,7))\n",
    "sns.barplot(data=table, x=\"price\", y = \"house_name\")\n",
    "plt.show()"
   ]
  },
  {
   "cell_type": "code",
   "execution_count": 129,
   "metadata": {
    "ExecuteTime": {
     "end_time": "2020-05-22T09:22:14.946188Z",
     "start_time": "2020-05-22T09:22:14.943274Z"
    }
   },
   "outputs": [],
   "source": [
    "#3х комнатная\n",
    "table = data[data.rooms==3].groupby(\"house_name\").agg({\"price\": \"mean\"}).reset_index(\n",
    ").sort_values(by=\"price\", ascending=False).head(20)\n",
    "plt.figure(figsize=(15,7))\n",
    "sns.barplot(data=table, x=\"price\", y = \"house_name\")\n",
    "plt.show()"
   ]
  },
  {
   "cell_type": "code",
   "execution_count": 128,
   "metadata": {
    "ExecuteTime": {
     "end_time": "2020-05-22T09:22:10.669278Z",
     "start_time": "2020-05-22T09:22:10.665350Z"
    }
   },
   "outputs": [],
   "source": [
    "# 4х комнатная\n",
    "table = data[data.rooms==4].groupby(\"house_name\").agg({\"price\": \"mean\"}).reset_index(\n",
    ").sort_values(by=\"price\", ascending=False).head(20)\n",
    "plt.figure(figsize=(15,7))\n",
    "sns.barplot(data=table, x=\"price\", y = \"house_name\")\n",
    "plt.show()"
   ]
  },
  {
   "cell_type": "code",
   "execution_count": 127,
   "metadata": {
    "ExecuteTime": {
     "end_time": "2020-05-22T09:22:04.911104Z",
     "start_time": "2020-05-22T09:22:04.908704Z"
    }
   },
   "outputs": [],
   "source": [
    "for i in range(1,7):\n",
    "    print(\"{} - комнатная\".format(i))\n",
    "    plt.figure(figsize=(15,3))\n",
    "    sns.boxplot(data=data[data.rooms==i][[\"price\"]], orient=\"h\")\n",
    "    plt.show()"
   ]
  },
  {
   "cell_type": "markdown",
   "metadata": {},
   "source": [
    "# Моделирование и интерпретация результатов"
   ]
  },
  {
   "cell_type": "code",
   "execution_count": 97,
   "metadata": {
    "ExecuteTime": {
     "end_time": "2020-05-22T09:19:49.698919Z",
     "start_time": "2020-05-22T09:19:49.432436Z"
    }
   },
   "outputs": [],
   "source": [
    "from sklearn.linear_model import LinearRegression\n",
    "from catboost import CatBoostRegressor\n",
    "from sklearn.preprocessing import StandardScaler\n",
    "\n",
    "from sklearn.model_selection import train_test_split\n",
    "from sklearn.metrics import mean_squared_error"
   ]
  },
  {
   "cell_type": "code",
   "execution_count": 126,
   "metadata": {
    "ExecuteTime": {
     "end_time": "2020-05-22T09:21:57.612043Z",
     "start_time": "2020-05-22T09:21:57.609089Z"
    }
   },
   "outputs": [],
   "source": [
    "data.info()"
   ]
  },
  {
   "cell_type": "code",
   "execution_count": 99,
   "metadata": {
    "ExecuteTime": {
     "end_time": "2020-05-22T09:19:53.857909Z",
     "start_time": "2020-05-22T09:19:53.853381Z"
    }
   },
   "outputs": [],
   "source": [
    "data.drop(\"house_name\", axis=1, inplace=True)"
   ]
  },
  {
   "cell_type": "code",
   "execution_count": 100,
   "metadata": {
    "ExecuteTime": {
     "end_time": "2020-05-22T09:19:55.920041Z",
     "start_time": "2020-05-22T09:19:55.909305Z"
    }
   },
   "outputs": [],
   "source": [
    "data.dropna(inplace=True)"
   ]
  },
  {
   "cell_type": "code",
   "execution_count": 101,
   "metadata": {
    "ExecuteTime": {
     "end_time": "2020-05-22T09:19:56.773324Z",
     "start_time": "2020-05-22T09:19:56.769413Z"
    }
   },
   "outputs": [],
   "source": [
    "scaler = StandardScaler()\n",
    "m_linear = LinearRegression()"
   ]
  },
  {
   "cell_type": "code",
   "execution_count": 102,
   "metadata": {
    "ExecuteTime": {
     "end_time": "2020-05-22T09:19:58.161371Z",
     "start_time": "2020-05-22T09:19:58.153171Z"
    }
   },
   "outputs": [],
   "source": [
    "data_renovation = pd.get_dummies(data[\"renovation\"])"
   ]
  },
  {
   "cell_type": "code",
   "execution_count": 103,
   "metadata": {
    "ExecuteTime": {
     "end_time": "2020-05-22T09:19:58.868271Z",
     "start_time": "2020-05-22T09:19:58.858562Z"
    }
   },
   "outputs": [],
   "source": [
    "df = pd.concat([data, data_renovation], axis=1).drop(\"renovation\", axis=1)"
   ]
  },
  {
   "cell_type": "code",
   "execution_count": 125,
   "metadata": {
    "ExecuteTime": {
     "end_time": "2020-05-22T09:21:50.814848Z",
     "start_time": "2020-05-22T09:21:50.811695Z"
    }
   },
   "outputs": [],
   "source": [
    "df = df[df.price<150]\n",
    "df.head()"
   ]
  },
  {
   "cell_type": "code",
   "execution_count": 105,
   "metadata": {
    "ExecuteTime": {
     "end_time": "2020-05-22T09:20:18.885348Z",
     "start_time": "2020-05-22T09:20:18.877587Z"
    }
   },
   "outputs": [],
   "source": [
    "X = df.drop(\"price\", axis=1)\n",
    "y = df[\"price\"]"
   ]
  },
  {
   "cell_type": "code",
   "execution_count": 106,
   "metadata": {
    "ExecuteTime": {
     "end_time": "2020-05-22T09:20:20.505829Z",
     "start_time": "2020-05-22T09:20:20.496894Z"
    }
   },
   "outputs": [
    {
     "name": "stdout",
     "output_type": "stream",
     "text": [
      "(7632, 16) (1908, 16) (7632,) (1908,)\n"
     ]
    }
   ],
   "source": [
    "X_train, X_test, y_train, y_test = train_test_split(X, y, test_size=0.20)\n",
    "print(X_train.shape, X_test.shape, y_train.shape, y_test.shape)"
   ]
  },
  {
   "cell_type": "code",
   "execution_count": 121,
   "metadata": {
    "ExecuteTime": {
     "end_time": "2020-05-22T09:21:35.502346Z",
     "start_time": "2020-05-22T09:21:35.498719Z"
    }
   },
   "outputs": [],
   "source": [
    "m_linear.fit(X_train, y_train)"
   ]
  },
  {
   "cell_type": "code",
   "execution_count": 108,
   "metadata": {
    "ExecuteTime": {
     "end_time": "2020-05-22T09:20:22.683617Z",
     "start_time": "2020-05-22T09:20:22.677421Z"
    }
   },
   "outputs": [],
   "source": [
    "def model_scores(modelName):\n",
    "    y_pred = modelName.predict(X_test)\n",
    "    mse = \"\\nMSE: {:.4f}\".format(mean_squared_error(y_pred, y_test))\n",
    "    rmse = \"\\nMSE: {:.4f}\".format(math.sqrt(mean_squared_error(y_pred, y_test)))\n",
    "    return mse, rmse"
   ]
  },
  {
   "cell_type": "code",
   "execution_count": 122,
   "metadata": {
    "ExecuteTime": {
     "end_time": "2020-05-22T09:21:39.770592Z",
     "start_time": "2020-05-22T09:21:39.767356Z"
    }
   },
   "outputs": [],
   "source": [
    "model_scores(m_linear)"
   ]
  },
  {
   "cell_type": "code",
   "execution_count": 110,
   "metadata": {
    "ExecuteTime": {
     "end_time": "2020-05-22T09:20:25.670035Z",
     "start_time": "2020-05-22T09:20:25.665454Z"
    }
   },
   "outputs": [],
   "source": [
    "## Результат"
   ]
  },
  {
   "cell_type": "code",
   "execution_count": 111,
   "metadata": {
    "ExecuteTime": {
     "end_time": "2020-05-22T09:20:26.258226Z",
     "start_time": "2020-05-22T09:20:26.159687Z"
    }
   },
   "outputs": [],
   "source": [
    "y_pred = m_linear.predict(X_test)\n",
    "\n",
    "result = pd.DataFrame([y_pred, y_test.values]).T\n",
    "result.columns = [\"actual\", \"predicted\"]\n",
    "result = result.reset_index()\n",
    "result = pd.melt(result, id_vars=[\"index\"], value_vars=[\"actual\", \"predicted\"])"
   ]
  },
  {
   "cell_type": "code",
   "execution_count": 112,
   "metadata": {
    "ExecuteTime": {
     "end_time": "2020-05-22T09:20:27.604248Z",
     "start_time": "2020-05-22T09:20:27.596195Z"
    }
   },
   "outputs": [],
   "source": [
    "result = result.sort_values(by=\"index\").head(50)"
   ]
  },
  {
   "cell_type": "code",
   "execution_count": 120,
   "metadata": {
    "ExecuteTime": {
     "end_time": "2020-05-22T09:21:27.321993Z",
     "start_time": "2020-05-22T09:21:27.319619Z"
    }
   },
   "outputs": [],
   "source": [
    "plt.figure(figsize=(15,7))\n",
    "sns.barplot(x=\"index\", hue=\"variable\", y=\"value\", data=result)"
   ]
  },
  {
   "cell_type": "code",
   "execution_count": 118,
   "metadata": {
    "ExecuteTime": {
     "end_time": "2020-05-22T09:20:59.010018Z",
     "start_time": "2020-05-22T09:20:58.995538Z"
    }
   },
   "outputs": [
    {
     "data": {
      "text/html": [
       "<div>\n",
       "<style scoped>\n",
       "    .dataframe tbody tr th:only-of-type {\n",
       "        vertical-align: middle;\n",
       "    }\n",
       "\n",
       "    .dataframe tbody tr th {\n",
       "        vertical-align: top;\n",
       "    }\n",
       "\n",
       "    .dataframe thead th {\n",
       "        text-align: right;\n",
       "    }\n",
       "</style>\n",
       "<table border=\"1\" class=\"dataframe\">\n",
       "  <thead>\n",
       "    <tr style=\"text-align: right;\">\n",
       "      <th></th>\n",
       "      <th>feature</th>\n",
       "      <th>coef</th>\n",
       "    </tr>\n",
       "  </thead>\n",
       "  <tbody>\n",
       "    <tr>\n",
       "      <th>10</th>\n",
       "      <td>евроремонт</td>\n",
       "      <td>3.1367</td>\n",
       "    </tr>\n",
       "    <tr>\n",
       "      <th>9</th>\n",
       "      <td>Unknown</td>\n",
       "      <td>0.754714</td>\n",
       "    </tr>\n",
       "    <tr>\n",
       "      <th>3</th>\n",
       "      <td>square_total</td>\n",
       "      <td>0.531046</td>\n",
       "    </tr>\n",
       "    <tr>\n",
       "      <th>0</th>\n",
       "      <td>ceiling</td>\n",
       "      <td>0.358674</td>\n",
       "    </tr>\n",
       "    <tr>\n",
       "      <th>15</th>\n",
       "      <td>черновая отделка</td>\n",
       "      <td>0.308715</td>\n",
       "    </tr>\n",
       "  </tbody>\n",
       "</table>\n",
       "</div>"
      ],
      "text/plain": [
       "             feature      coef\n",
       "10        евроремонт    3.1367\n",
       "9            Unknown  0.754714\n",
       "3       square_total  0.531046\n",
       "0            ceiling  0.358674\n",
       "15  черновая отделка  0.308715"
      ]
     },
     "execution_count": 118,
     "metadata": {},
     "output_type": "execute_result"
    }
   ],
   "source": [
    "Importance = m_linear.coef_\n",
    "Columns = X_train.columns\n",
    "\n",
    "imp = pd.DataFrame([Columns, Importance]).T\n",
    "imp.columns = [\"feature\", \"coef\"]\n",
    "imp.sort_values(by=\"coef\", inplace=True, ascending=False)\n",
    "imp.head()"
   ]
  },
  {
   "cell_type": "code",
   "execution_count": 119,
   "metadata": {
    "ExecuteTime": {
     "end_time": "2020-05-22T09:21:20.731444Z",
     "start_time": "2020-05-22T09:21:20.727800Z"
    }
   },
   "outputs": [],
   "source": [
    "plt.figure(figsize=(15,6))\n",
    "sns.barplot(data=imp, x=\"coef\", y=\"feature\")"
   ]
  },
  {
   "cell_type": "code",
   "execution_count": null,
   "metadata": {},
   "outputs": [],
   "source": []
  }
 ],
 "metadata": {
  "kernelspec": {
   "display_name": "Python 3",
   "language": "python",
   "name": "python3"
  },
  "language_info": {
   "codemirror_mode": {
    "name": "ipython",
    "version": 3
   },
   "file_extension": ".py",
   "mimetype": "text/x-python",
   "name": "python",
   "nbconvert_exporter": "python",
   "pygments_lexer": "ipython3",
   "version": "3.7.3"
  },
  "toc": {
   "base_numbering": 1,
   "nav_menu": {},
   "number_sections": true,
   "sideBar": true,
   "skip_h1_title": false,
   "title_cell": "Table of Contents",
   "title_sidebar": "Contents",
   "toc_cell": false,
   "toc_position": {},
   "toc_section_display": true,
   "toc_window_display": true
  },
  "varInspector": {
   "cols": {
    "lenName": 16,
    "lenType": 16,
    "lenVar": 40
   },
   "kernels_config": {
    "python": {
     "delete_cmd_postfix": "",
     "delete_cmd_prefix": "del ",
     "library": "var_list.py",
     "varRefreshCmd": "print(var_dic_list())"
    },
    "r": {
     "delete_cmd_postfix": ") ",
     "delete_cmd_prefix": "rm(",
     "library": "var_list.r",
     "varRefreshCmd": "cat(var_dic_list()) "
    }
   },
   "types_to_exclude": [
    "module",
    "function",
    "builtin_function_or_method",
    "instance",
    "_Feature"
   ],
   "window_display": false
  }
 },
 "nbformat": 4,
 "nbformat_minor": 2
}
